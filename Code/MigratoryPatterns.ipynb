{
 "cells": [
  {
   "cell_type": "code",
   "execution_count": 5,
   "id": "6be38e95",
   "metadata": {},
   "outputs": [],
   "source": [
    "# Initialisations\n",
    "\n",
    "import matplotlib.pyplot as plt\n",
    "import pandas as pd\n",
    "import numpy as np\n",
    "import seaborn as sns\n",
    "import scipy.stats as stats\n",
    "from scipy.stats import poisson\n",
    "\n",
    "import plotly.offline as py\n",
    "import cufflinks as cf\n",
    "import plotly.figure_factory as ff\n",
    "from plotly.graph_objs import *\n",
    "import plotly.graph_objs as go\n",
    "from plotly.offline import download_plotlyjs, init_notebook_mode, plot, iplot"
   ]
  },
  {
   "cell_type": "code",
   "execution_count": 10,
   "id": "ecb11672",
   "metadata": {
    "scrolled": true
   },
   "outputs": [
    {
     "data": {
      "text/html": [
       "<div>\n",
       "<style scoped>\n",
       "    .dataframe tbody tr th:only-of-type {\n",
       "        vertical-align: middle;\n",
       "    }\n",
       "\n",
       "    .dataframe tbody tr th {\n",
       "        vertical-align: top;\n",
       "    }\n",
       "\n",
       "    .dataframe thead th {\n",
       "        text-align: right;\n",
       "    }\n",
       "</style>\n",
       "<table border=\"1\" class=\"dataframe\">\n",
       "  <thead>\n",
       "    <tr style=\"text-align: right;\">\n",
       "      <th></th>\n",
       "      <th>Year</th>\n",
       "      <th>Origin</th>\n",
       "      <th>origin_lat</th>\n",
       "      <th>origin_lon</th>\n",
       "      <th>Destination</th>\n",
       "      <th>dest_lat</th>\n",
       "      <th>dest_lon</th>\n",
       "      <th>Value</th>\n",
       "    </tr>\n",
       "  </thead>\n",
       "  <tbody>\n",
       "    <tr>\n",
       "      <th>0</th>\n",
       "      <td>1999</td>\n",
       "      <td>Afghanistan</td>\n",
       "      <td>33.0</td>\n",
       "      <td>66.0</td>\n",
       "      <td>Australia</td>\n",
       "      <td>-25.000000</td>\n",
       "      <td>135.000000</td>\n",
       "      <td>609.0</td>\n",
       "    </tr>\n",
       "    <tr>\n",
       "      <th>1</th>\n",
       "      <td>1999</td>\n",
       "      <td>Afghanistan</td>\n",
       "      <td>33.0</td>\n",
       "      <td>66.0</td>\n",
       "      <td>Austria</td>\n",
       "      <td>47.333333</td>\n",
       "      <td>13.333333</td>\n",
       "      <td>2209.0</td>\n",
       "    </tr>\n",
       "    <tr>\n",
       "      <th>2</th>\n",
       "      <td>1999</td>\n",
       "      <td>Afghanistan</td>\n",
       "      <td>33.0</td>\n",
       "      <td>66.0</td>\n",
       "      <td>Belgium</td>\n",
       "      <td>50.833333</td>\n",
       "      <td>4.000000</td>\n",
       "      <td>401.0</td>\n",
       "    </tr>\n",
       "    <tr>\n",
       "      <th>3</th>\n",
       "      <td>1999</td>\n",
       "      <td>Afghanistan</td>\n",
       "      <td>33.0</td>\n",
       "      <td>66.0</td>\n",
       "      <td>Bulgaria</td>\n",
       "      <td>43.000000</td>\n",
       "      <td>25.000000</td>\n",
       "      <td>277.0</td>\n",
       "    </tr>\n",
       "    <tr>\n",
       "      <th>4</th>\n",
       "      <td>1999</td>\n",
       "      <td>Afghanistan</td>\n",
       "      <td>33.0</td>\n",
       "      <td>66.0</td>\n",
       "      <td>Canada</td>\n",
       "      <td>60.000000</td>\n",
       "      <td>-96.000000</td>\n",
       "      <td>539.0</td>\n",
       "    </tr>\n",
       "  </tbody>\n",
       "</table>\n",
       "</div>"
      ],
      "text/plain": [
       "   Year       Origin  origin_lat  origin_lon Destination   dest_lat  \\\n",
       "0  1999  Afghanistan        33.0        66.0   Australia -25.000000   \n",
       "1  1999  Afghanistan        33.0        66.0     Austria  47.333333   \n",
       "2  1999  Afghanistan        33.0        66.0     Belgium  50.833333   \n",
       "3  1999  Afghanistan        33.0        66.0    Bulgaria  43.000000   \n",
       "4  1999  Afghanistan        33.0        66.0      Canada  60.000000   \n",
       "\n",
       "     dest_lon   Value  \n",
       "0  135.000000   609.0  \n",
       "1   13.333333  2209.0  \n",
       "2    4.000000   401.0  \n",
       "3   25.000000   277.0  \n",
       "4  -96.000000   539.0  "
      ]
     },
     "execution_count": 10,
     "metadata": {},
     "output_type": "execute_result"
    }
   ],
   "source": [
    "# Load in preprocessed migration data\n",
    "migratory_patterns_compiled = pd.read_csv(\"migratory_patterns_compiled.csv\")\n",
    "migratory_patterns_compiled.head()"
   ]
  },
  {
   "cell_type": "code",
   "execution_count": 11,
   "id": "d77b89d8",
   "metadata": {},
   "outputs": [],
   "source": [
    "# Load country latitude and longitude data for plotting\n",
    "df_countries = pd.read_csv(\"country_centroids_use.csv\")\n",
    "df_countries = df_countries.rename(columns = {'Destination':'Country', \n",
    "                                                'dest_lat':'lat',\n",
    "                                                'dest_lon':'long'})\n",
    "\n",
    "# Create dictionary of country locations\n",
    "countries = [dict(type = 'scattergeo', locationmode = 'country names',\n",
    "                    lon = df_countries['long'], lat = df_countries['lat'],\n",
    "                    hoverinfo = 'text', text = df_countries['Country'],\n",
    "                    mode = 'markers', marker = dict(size=2, color='rgb(156, 81, 182)',\n",
    "                                                line = dict(width=3, color='rgba(68, 68, 68, 0)')))]"
   ]
  },
  {
   "cell_type": "markdown",
   "id": "6dbb6a03",
   "metadata": {},
   "source": [
    "# Migration Patterns by Destination"
   ]
  },
  {
   "cell_type": "code",
   "execution_count": 12,
   "id": "0ba4cc59",
   "metadata": {},
   "outputs": [
    {
     "name": "stdout",
     "output_type": "stream",
     "text": [
      "Please enter the number of countries you want to analyse.\n",
      "It must fall between 1-257.\n",
      " \n",
      " 2\n",
      "Please enter the year you want to analyse.\n",
      "It must fall between 1999-2017.\n",
      " \n",
      " 2003\n",
      "\n",
      " \n",
      "The 2 most common destination in 2003 were: ['France' 'United Kingdom']\n"
     ]
    },
    {
     "data": {
      "application/vnd.plotly.v1+json": {
       "config": {
        "linkText": "Export to plot.ly",
        "plotlyServerURL": "https://plot.ly",
        "showLink": false
       },
       "data": [
        {
         "lat": [
          33,
          46
         ],
         "line": {
          "color": "hotpink",
          "width": 2
         },
         "lon": [
          66,
          2
         ],
         "mode": "lines",
         "opacity": 0.04809563525159855,
         "type": "scattergeo"
        },
        {
         "lat": [
          33,
          54
         ],
         "line": {
          "color": "hotpink",
          "width": 2
         },
         "lon": [
          66,
          -4
         ],
         "mode": "lines",
         "opacity": 0.3601612454823464,
         "type": "scattergeo"
        },
        {
         "lat": [
          41,
          46
         ],
         "line": {
          "color": "hotpink",
          "width": 2
         },
         "lon": [
          20,
          2
         ],
         "mode": "lines",
         "opacity": 0.07700861829302197,
         "type": "scattergeo"
        },
        {
         "lat": [
          41,
          54
         ],
         "line": {
          "color": "hotpink",
          "width": 2
         },
         "lon": [
          20,
          -4
         ],
         "mode": "lines",
         "opacity": 0.09535724214623297,
         "type": "scattergeo"
        },
        {
         "lat": [
          28,
          46
         ],
         "line": {
          "color": "hotpink",
          "width": 2
         },
         "lon": [
          3,
          2
         ],
         "mode": "lines",
         "opacity": 0.3794829024186822,
         "type": "scattergeo"
        },
        {
         "lat": [
          28,
          54
         ],
         "line": {
          "color": "hotpink",
          "width": 2
         },
         "lon": [
          3,
          -4
         ],
         "mode": "lines",
         "opacity": 0.10147345009730331,
         "type": "scattergeo"
        },
        {
         "lat": [
          -12.5,
          46
         ],
         "line": {
          "color": "hotpink",
          "width": 2
         },
         "lon": [
          18.5,
          2
         ],
         "mode": "lines",
         "opacity": 0.19210453155407284,
         "type": "scattergeo"
        },
        {
         "lat": [
          -12.5,
          54
         ],
         "line": {
          "color": "hotpink",
          "width": 2
         },
         "lon": [
          18.5,
          -4
         ],
         "mode": "lines",
         "opacity": 0.16041145398943565,
         "type": "scattergeo"
        },
        {
         "lat": [
          -34,
          46
         ],
         "line": {
          "color": "hotpink",
          "width": 2
         },
         "lon": [
          -64,
          2
         ],
         "mode": "lines",
         "opacity": 0.00013900472616068947,
         "type": "scattergeo"
        },
        {
         "lat": [
          -34,
          54
         ],
         "line": {
          "color": "hotpink",
          "width": 2
         },
         "lon": [
          -64,
          -4
         ],
         "mode": "lines",
         "opacity": 0.00013900472616068947,
         "type": "scattergeo"
        },
        {
         "lat": [
          40,
          46
         ],
         "line": {
          "color": "hotpink",
          "width": 2
         },
         "lon": [
          45,
          2
         ],
         "mode": "lines",
         "opacity": 0.15082012788434807,
         "type": "scattergeo"
        },
        {
         "lat": [
          40,
          54
         ],
         "line": {
          "color": "hotpink",
          "width": 2
         },
         "lon": [
          45,
          -4
         ],
         "mode": "lines",
         "opacity": 0.008340283569641367,
         "type": "scattergeo"
        },
        {
         "lat": [
          -25,
          54
         ],
         "line": {
          "color": "hotpink",
          "width": 2
         },
         "lon": [
          135,
          -4
         ],
         "mode": "lines",
         "opacity": 0.00013900472616068947,
         "type": "scattergeo"
        },
        {
         "lat": [
          40.5,
          46
         ],
         "line": {
          "color": "hotpink",
          "width": 2
         },
         "lon": [
          47.5,
          2
         ],
         "mode": "lines",
         "opacity": 0.07061440088963025,
         "type": "scattergeo"
        },
        {
         "lat": [
          40.5,
          54
         ],
         "line": {
          "color": "hotpink",
          "width": 2
         },
         "lon": [
          47.5,
          -4
         ],
         "mode": "lines",
         "opacity": 0.02571587433972755,
         "type": "scattergeo"
        },
        {
         "lat": [
          24,
          54
         ],
         "line": {
          "color": "hotpink",
          "width": 2
         },
         "lon": [
          -76,
          -4
         ],
         "mode": "lines",
         "opacity": 0.00013900472616068947,
         "type": "scattergeo"
        },
        {
         "lat": [
          24,
          46
         ],
         "line": {
          "color": "hotpink",
          "width": 2
         },
         "lon": [
          90,
          2
         ],
         "mode": "lines",
         "opacity": 0.13261050875729774,
         "type": "scattergeo"
        },
        {
         "lat": [
          24,
          54
         ],
         "line": {
          "color": "hotpink",
          "width": 2
         },
         "lon": [
          90,
          -4
         ],
         "mode": "lines",
         "opacity": 0.11398387545176536,
         "type": "scattergeo"
        },
        {
         "lat": [
          53,
          46
         ],
         "line": {
          "color": "hotpink",
          "width": 2
         },
         "lon": [
          28,
          2
         ],
         "mode": "lines",
         "opacity": 0.03906032805115374,
         "type": "scattergeo"
        },
        {
         "lat": [
          53,
          54
         ],
         "line": {
          "color": "hotpink",
          "width": 2
         },
         "lon": [
          28,
          -4
         ],
         "mode": "lines",
         "opacity": 0.021684737281067557,
         "type": "scattergeo"
        },
        {
         "lat": [
          17.25,
          54
         ],
         "line": {
          "color": "hotpink",
          "width": 2
         },
         "lon": [
          -88.75,
          -4
         ],
         "mode": "lines",
         "opacity": 0.00013900472616068947,
         "type": "scattergeo"
        },
        {
         "lat": [
          9.5,
          46
         ],
         "line": {
          "color": "hotpink",
          "width": 2
         },
         "lon": [
          2.25,
          2
         ],
         "mode": "lines",
         "opacity": 0.0034751181540172366,
         "type": "scattergeo"
        },
        {
         "lat": [
          9.5,
          54
         ],
         "line": {
          "color": "hotpink",
          "width": 2
         },
         "lon": [
          2.25,
          -4
         ],
         "mode": "lines",
         "opacity": 0.0013900472616068947,
         "type": "scattergeo"
        },
        {
         "lat": [
          27.5,
          46
         ],
         "line": {
          "color": "hotpink",
          "width": 2
         },
         "lon": [
          90.5,
          2
         ],
         "mode": "lines",
         "opacity": 0.0011120378092855157,
         "type": "scattergeo"
        },
        {
         "lat": [
          27.5,
          54
         ],
         "line": {
          "color": "hotpink",
          "width": 2
         },
         "lon": [
          90.5,
          -4
         ],
         "mode": "lines",
         "opacity": 0.008757297748123435,
         "type": "scattergeo"
        },
        {
         "lat": [
          -17,
          46
         ],
         "line": {
          "color": "hotpink",
          "width": 2
         },
         "lon": [
          -65,
          2
         ],
         "mode": "lines",
         "opacity": 0.0029190992493744786,
         "type": "scattergeo"
        },
        {
         "lat": [
          -17,
          54
         ],
         "line": {
          "color": "hotpink",
          "width": 2
         },
         "lon": [
          -65,
          -4
         ],
         "mode": "lines",
         "opacity": 0.018765638031693076,
         "type": "scattergeo"
        },
        {
         "lat": [
          44.25,
          46
         ],
         "line": {
          "color": "hotpink",
          "width": 2
         },
         "lon": [
          17.833333,
          2
         ],
         "mode": "lines",
         "opacity": 0.15638031693077564,
         "type": "scattergeo"
        },
        {
         "lat": [
          44.25,
          54
         ],
         "line": {
          "color": "hotpink",
          "width": 2
         },
         "lon": [
          17.833333,
          -4
         ],
         "mode": "lines",
         "opacity": 0.008479288295802058,
         "type": "scattergeo"
        },
        {
         "lat": [
          -22,
          54
         ],
         "line": {
          "color": "hotpink",
          "width": 2
         },
         "lon": [
          24,
          -4
         ],
         "mode": "lines",
         "opacity": 0.0029190992493744786,
         "type": "scattergeo"
        },
        {
         "lat": [
          -10,
          46
         ],
         "line": {
          "color": "hotpink",
          "width": 2
         },
         "lon": [
          -55,
          2
         ],
         "mode": "lines",
         "opacity": 0.002363080344731721,
         "type": "scattergeo"
        },
        {
         "lat": [
          -10,
          54
         ],
         "line": {
          "color": "hotpink",
          "width": 2
         },
         "lon": [
          -55,
          -4
         ],
         "mode": "lines",
         "opacity": 0.005977203224909647,
         "type": "scattergeo"
        },
        {
         "lat": [
          43,
          46
         ],
         "line": {
          "color": "hotpink",
          "width": 2
         },
         "lon": [
          25,
          2
         ],
         "mode": "lines",
         "opacity": 0.007228245760355852,
         "type": "scattergeo"
        },
        {
         "lat": [
          43,
          54
         ],
         "line": {
          "color": "hotpink",
          "width": 2
         },
         "lon": [
          25,
          -4
         ],
         "mode": "lines",
         "opacity": 0.0045871559633027525,
         "type": "scattergeo"
        },
        {
         "lat": [
          13,
          46
         ],
         "line": {
          "color": "hotpink",
          "width": 2
         },
         "lon": [
          -2,
          2
         ],
         "mode": "lines",
         "opacity": 0.004448151237142063,
         "type": "scattergeo"
        },
        {
         "lat": [
          13,
          54
         ],
         "line": {
          "color": "hotpink",
          "width": 2
         },
         "lon": [
          -2,
          -4
         ],
         "mode": "lines",
         "opacity": 0.0012510425354462051,
         "type": "scattergeo"
        },
        {
         "lat": [
          22,
          46
         ],
         "line": {
          "color": "hotpink",
          "width": 2
         },
         "lon": [
          98,
          2
         ],
         "mode": "lines",
         "opacity": 0.0025020850708924102,
         "type": "scattergeo"
        },
        {
         "lat": [
          22,
          54
         ],
         "line": {
          "color": "hotpink",
          "width": 2
         },
         "lon": [
          98,
          -4
         ],
         "mode": "lines",
         "opacity": 0.019738671114817904,
         "type": "scattergeo"
        },
        {
         "lat": [
          -3.5,
          46
         ],
         "line": {
          "color": "hotpink",
          "width": 2
         },
         "lon": [
          30,
          2
         ],
         "mode": "lines",
         "opacity": 0.012371420628301362,
         "type": "scattergeo"
        },
        {
         "lat": [
          -3.5,
          54
         ],
         "line": {
          "color": "hotpink",
          "width": 2
         },
         "lon": [
          30,
          -4
         ],
         "mode": "lines",
         "opacity": 0.1081456769530164,
         "type": "scattergeo"
        },
        {
         "lat": [
          13,
          46
         ],
         "line": {
          "color": "hotpink",
          "width": 2
         },
         "lon": [
          105,
          2
         ],
         "mode": "lines",
         "opacity": 0.011398387545176535,
         "type": "scattergeo"
        },
        {
         "lat": [
          6,
          46
         ],
         "line": {
          "color": "hotpink",
          "width": 2
         },
         "lon": [
          12,
          2
         ],
         "mode": "lines",
         "opacity": 0.11148179038087296,
         "type": "scattergeo"
        },
        {
         "lat": [
          6,
          54
         ],
         "line": {
          "color": "hotpink",
          "width": 2
         },
         "lon": [
          12,
          -4
         ],
         "mode": "lines",
         "opacity": 0.07367250486516541,
         "type": "scattergeo"
        },
        {
         "lat": [
          16,
          46
         ],
         "line": {
          "color": "hotpink",
          "width": 2
         },
         "lon": [
          -24,
          2
         ],
         "mode": "lines",
         "opacity": 0.0004170141784820684,
         "type": "scattergeo"
        },
        {
         "lat": [
          7,
          46
         ],
         "line": {
          "color": "hotpink",
          "width": 2
         },
         "lon": [
          21,
          2
         ],
         "mode": "lines",
         "opacity": 0.05296080066722268,
         "type": "scattergeo"
        },
        {
         "lat": [
          7,
          54
         ],
         "line": {
          "color": "hotpink",
          "width": 2
         },
         "lon": [
          21,
          -4
         ],
         "mode": "lines",
         "opacity": 0.0015290519877675841,
         "type": "scattergeo"
        },
        {
         "lat": [
          15,
          46
         ],
         "line": {
          "color": "hotpink",
          "width": 2
         },
         "lon": [
          19,
          2
         ],
         "mode": "lines",
         "opacity": 0.032805115373922715,
         "type": "scattergeo"
        },
        {
         "lat": [
          15,
          54
         ],
         "line": {
          "color": "hotpink",
          "width": 2
         },
         "lon": [
          19,
          -4
         ],
         "mode": "lines",
         "opacity": 0.004170141784820684,
         "type": "scattergeo"
        },
        {
         "lat": [
          -30,
          54
         ],
         "line": {
          "color": "hotpink",
          "width": 2
         },
         "lon": [
          -71,
          -4
         ],
         "mode": "lines",
         "opacity": 0.0027800945232137894,
         "type": "scattergeo"
        },
        {
         "lat": [
          35,
          46
         ],
         "line": {
          "color": "hotpink",
          "width": 2
         },
         "lon": [
          105,
          2
         ],
         "mode": "lines",
         "opacity": 0.7397831526271893,
         "type": "scattergeo"
        },
        {
         "lat": [
          35,
          54
         ],
         "line": {
          "color": "hotpink",
          "width": 2
         },
         "lon": [
          105,
          -4
         ],
         "mode": "lines",
         "opacity": 0.4855435084792883,
         "type": "scattergeo"
        },
        {
         "lat": [
          4,
          46
         ],
         "line": {
          "color": "hotpink",
          "width": 2
         },
         "lon": [
          -72,
          2
         ],
         "mode": "lines",
         "opacity": 0.019043647484014457,
         "type": "scattergeo"
        },
        {
         "lat": [
          4,
          54
         ],
         "line": {
          "color": "hotpink",
          "width": 2
         },
         "lon": [
          -72,
          -4
         ],
         "mode": "lines",
         "opacity": 0.040589380038921326,
         "type": "scattergeo"
        },
        {
         "lat": [
          -12.166667,
          46
         ],
         "line": {
          "color": "hotpink",
          "width": 2
         },
         "lon": [
          44.25,
          2
         ],
         "mode": "lines",
         "opacity": 0.0061162079510703364,
         "type": "scattergeo"
        },
        {
         "lat": [
          -12.166667,
          54
         ],
         "line": {
          "color": "hotpink",
          "width": 2
         },
         "lon": [
          44.25,
          -4
         ],
         "mode": "lines",
         "opacity": 0.0004170141784820684,
         "type": "scattergeo"
        },
        {
         "lat": [
          8,
          46
         ],
         "line": {
          "color": "hotpink",
          "width": 2
         },
         "lon": [
          -5,
          2
         ],
         "mode": "lines",
         "opacity": 0.1950236308034473,
         "type": "scattergeo"
        },
        {
         "lat": [
          8,
          54
         ],
         "line": {
          "color": "hotpink",
          "width": 2
         },
         "lon": [
          -5,
          -4
         ],
         "mode": "lines",
         "opacity": 0.06074506533222129,
         "type": "scattergeo"
        },
        {
         "lat": [
          45.166667,
          46
         ],
         "line": {
          "color": "hotpink",
          "width": 2
         },
         "lon": [
          15.5,
          2
         ],
         "mode": "lines",
         "opacity": 0.003892132332499305,
         "type": "scattergeo"
        },
        {
         "lat": [
          45.166667,
          54
         ],
         "line": {
          "color": "hotpink",
          "width": 2
         },
         "lon": [
          15.5,
          -4
         ],
         "mode": "lines",
         "opacity": 0.0027800945232137894,
         "type": "scattergeo"
        },
        {
         "lat": [
          22,
          46
         ],
         "line": {
          "color": "hotpink",
          "width": 2
         },
         "lon": [
          -79.5,
          2
         ],
         "mode": "lines",
         "opacity": 0.004031137058659994,
         "type": "scattergeo"
        },
        {
         "lat": [
          22,
          54
         ],
         "line": {
          "color": "hotpink",
          "width": 2
         },
         "lon": [
          -79.5,
          -4
         ],
         "mode": "lines",
         "opacity": 0.003197108701695858,
         "type": "scattergeo"
        },
        {
         "lat": [
          35,
          54
         ],
         "line": {
          "color": "hotpink",
          "width": 2
         },
         "lon": [
          33,
          -4
         ],
         "mode": "lines",
         "opacity": 0.004726160689463442,
         "type": "scattergeo"
        },
        {
         "lat": [
          49.75,
          46
         ],
         "line": {
          "color": "hotpink",
          "width": 2
         },
         "lon": [
          15,
          2
         ],
         "mode": "lines",
         "opacity": 0.0008340283569641367,
         "type": "scattergeo"
        },
        {
         "lat": [
          49.75,
          54
         ],
         "line": {
          "color": "hotpink",
          "width": 2
         },
         "lon": [
          15,
          -4
         ],
         "mode": "lines",
         "opacity": 0.022101751459549623,
         "type": "scattergeo"
        },
        {
         "lat": [
          0,
          46
         ],
         "line": {
          "color": "hotpink",
          "width": 2
         },
         "lon": [
          25,
          2
         ],
         "mode": "lines",
         "opacity": 0.96775090353072,
         "type": "scattergeo"
        },
        {
         "lat": [
          0,
          54
         ],
         "line": {
          "color": "hotpink",
          "width": 2
         },
         "lon": [
          25,
          -4
         ],
         "mode": "lines",
         "opacity": 0.3208229079788713,
         "type": "scattergeo"
        },
        {
         "lat": [
          11.5,
          46
         ],
         "line": {
          "color": "hotpink",
          "width": 2
         },
         "lon": [
          42.5,
          2
         ],
         "mode": "lines",
         "opacity": 0.0027800945232137894,
         "type": "scattergeo"
        },
        {
         "lat": [
          -2,
          46
         ],
         "line": {
          "color": "hotpink",
          "width": 2
         },
         "lon": [
          -77.5,
          2
         ],
         "mode": "lines",
         "opacity": 0.013344453711426188,
         "type": "scattergeo"
        },
        {
         "lat": [
          -2,
          54
         ],
         "line": {
          "color": "hotpink",
          "width": 2
         },
         "lon": [
          -77.5,
          -4
         ],
         "mode": "lines",
         "opacity": 0.03183208229079789,
         "type": "scattergeo"
        },
        {
         "lat": [
          27,
          46
         ],
         "line": {
          "color": "hotpink",
          "width": 2
         },
         "lon": [
          30,
          2
         ],
         "mode": "lines",
         "opacity": 0.0034751181540172366,
         "type": "scattergeo"
        },
        {
         "lat": [
          27,
          54
         ],
         "line": {
          "color": "hotpink",
          "width": 2
         },
         "lon": [
          30,
          -4
         ],
         "mode": "lines",
         "opacity": 0.011537392271337226,
         "type": "scattergeo"
        },
        {
         "lat": [
          2,
          54
         ],
         "line": {
          "color": "hotpink",
          "width": 2
         },
         "lon": [
          10,
          -4
         ],
         "mode": "lines",
         "opacity": 0.0013900472616068947,
         "type": "scattergeo"
        },
        {
         "lat": [
          15,
          46
         ],
         "line": {
          "color": "hotpink",
          "width": 2
         },
         "lon": [
          39,
          2
         ],
         "mode": "lines",
         "opacity": 0.0025020850708924102,
         "type": "scattergeo"
        },
        {
         "lat": [
          15,
          54
         ],
         "line": {
          "color": "hotpink",
          "width": 2
         },
         "lon": [
          39,
          -4
         ],
         "mode": "lines",
         "opacity": 0.14887406171809842,
         "type": "scattergeo"
        },
        {
         "lat": [
          59,
          54
         ],
         "line": {
          "color": "hotpink",
          "width": 2
         },
         "lon": [
          26,
          -4
         ],
         "mode": "lines",
         "opacity": 0.0019460661662496525,
         "type": "scattergeo"
        },
        {
         "lat": [
          8,
          46
         ],
         "line": {
          "color": "hotpink",
          "width": 2
         },
         "lon": [
          38,
          2
         ],
         "mode": "lines",
         "opacity": 0.005560189046427579,
         "type": "scattergeo"
        },
        {
         "lat": [
          8,
          54
         ],
         "line": {
          "color": "hotpink",
          "width": 2
         },
         "lon": [
          38,
          -4
         ],
         "mode": "lines",
         "opacity": 0.09466221851542952,
         "type": "scattergeo"
        },
        {
         "lat": [
          -18,
          54
         ],
         "line": {
          "color": "hotpink",
          "width": 2
         },
         "lon": [
          178,
          -4
         ],
         "mode": "lines",
         "opacity": 0.00027800945232137893,
         "type": "scattergeo"
        },
        {
         "lat": [
          -1,
          46
         ],
         "line": {
          "color": "hotpink",
          "width": 2
         },
         "lon": [
          11.75,
          2
         ],
         "mode": "lines",
         "opacity": 0.0029190992493744786,
         "type": "scattergeo"
        },
        {
         "lat": [
          -1,
          54
         ],
         "line": {
          "color": "hotpink",
          "width": 2
         },
         "lon": [
          11.75,
          -4
         ],
         "mode": "lines",
         "opacity": 0.00027800945232137893,
         "type": "scattergeo"
        },
        {
         "lat": [
          13.5,
          46
         ],
         "line": {
          "color": "hotpink",
          "width": 2
         },
         "lon": [
          -15.5,
          2
         ],
         "mode": "lines",
         "opacity": 0.005560189046427579,
         "type": "scattergeo"
        },
        {
         "lat": [
          13.5,
          54
         ],
         "line": {
          "color": "hotpink",
          "width": 2
         },
         "lon": [
          -15.5,
          -4
         ],
         "mode": "lines",
         "opacity": 0.014039477342229635,
         "type": "scattergeo"
        },
        {
         "lat": [
          41.999981,
          46
         ],
         "line": {
          "color": "hotpink",
          "width": 2
         },
         "lon": [
          43.499905,
          2
         ],
         "mode": "lines",
         "opacity": 0.22782874617737003,
         "type": "scattergeo"
        },
        {
         "lat": [
          41.999981,
          54
         ],
         "line": {
          "color": "hotpink",
          "width": 2
         },
         "lon": [
          43.499905,
          -4
         ],
         "mode": "lines",
         "opacity": 0.03266611064776202,
         "type": "scattergeo"
        },
        {
         "lat": [
          8,
          46
         ],
         "line": {
          "color": "hotpink",
          "width": 2
         },
         "lon": [
          -2,
          2
         ],
         "mode": "lines",
         "opacity": 0.013761467889908258,
         "type": "scattergeo"
        },
        {
         "lat": [
          8,
          54
         ],
         "line": {
          "color": "hotpink",
          "width": 2
         },
         "lon": [
          -2,
          -4
         ],
         "mode": "lines",
         "opacity": 0.05004170141784821,
         "type": "scattergeo"
        },
        {
         "lat": [
          15.5,
          54
         ],
         "line": {
          "color": "hotpink",
          "width": 2
         },
         "lon": [
          -90.25,
          -4
         ],
         "mode": "lines",
         "opacity": 0.0015290519877675841,
         "type": "scattergeo"
        },
        {
         "lat": [
          11,
          46
         ],
         "line": {
          "color": "hotpink",
          "width": 2
         },
         "lon": [
          -10,
          2
         ],
         "mode": "lines",
         "opacity": 0.11189880455935501,
         "type": "scattergeo"
        },
        {
         "lat": [
          11,
          54
         ],
         "line": {
          "color": "hotpink",
          "width": 2
         },
         "lon": [
          -10,
          -4
         ],
         "mode": "lines",
         "opacity": 0.031971087016958576,
         "type": "scattergeo"
        },
        {
         "lat": [
          12,
          46
         ],
         "line": {
          "color": "hotpink",
          "width": 2
         },
         "lon": [
          -15,
          2
         ],
         "mode": "lines",
         "opacity": 0.019877675840978593,
         "type": "scattergeo"
        },
        {
         "lat": [
          12,
          54
         ],
         "line": {
          "color": "hotpink",
          "width": 2
         },
         "lon": [
          -15,
          -4
         ],
         "mode": "lines",
         "opacity": 0.0029190992493744786,
         "type": "scattergeo"
        },
        {
         "lat": [
          5,
          46
         ],
         "line": {
          "color": "hotpink",
          "width": 2
         },
         "lon": [
          -59,
          2
         ],
         "mode": "lines",
         "opacity": 0.006255212677231026,
         "type": "scattergeo"
        },
        {
         "lat": [
          5,
          54
         ],
         "line": {
          "color": "hotpink",
          "width": 2
         },
         "lon": [
          -59,
          -4
         ],
         "mode": "lines",
         "opacity": 0.0026410897970531,
         "type": "scattergeo"
        },
        {
         "lat": [
          19,
          46
         ],
         "line": {
          "color": "hotpink",
          "width": 2
         },
         "lon": [
          -72.416667,
          2
         ],
         "mode": "lines",
         "opacity": 0.2046149569085349,
         "type": "scattergeo"
        },
        {
         "lat": [
          15,
          54
         ],
         "line": {
          "color": "hotpink",
          "width": 2
         },
         "lon": [
          -86.5,
          -4
         ],
         "mode": "lines",
         "opacity": 0.0005560189046427579,
         "type": "scattergeo"
        },
        {
         "lat": [
          22.25,
          54
         ],
         "line": {
          "color": "hotpink",
          "width": 2
         },
         "lon": [
          114.166667,
          -4
         ],
         "mode": "lines",
         "opacity": 0.0004170141784820684,
         "type": "scattergeo"
        },
        {
         "lat": [
          47,
          54
         ],
         "line": {
          "color": "hotpink",
          "width": 2
         },
         "lon": [
          20,
          -4
         ],
         "mode": "lines",
         "opacity": 0.0026410897970531,
         "type": "scattergeo"
        },
        {
         "lat": [
          20,
          46
         ],
         "line": {
          "color": "hotpink",
          "width": 2
         },
         "lon": [
          77,
          2
         ],
         "mode": "lines",
         "opacity": 0.11412288017792604,
         "type": "scattergeo"
        },
        {
         "lat": [
          20,
          54
         ],
         "line": {
          "color": "hotpink",
          "width": 2
         },
         "lon": [
          77,
          -4
         ],
         "mode": "lines",
         "opacity": 0.3351403947734223,
         "type": "scattergeo"
        },
        {
         "lat": [
          -5,
          54
         ],
         "line": {
          "color": "hotpink",
          "width": 2
         },
         "lon": [
          120,
          -4
         ],
         "mode": "lines",
         "opacity": 0.002363080344731721,
         "type": "scattergeo"
        },
        {
         "lat": [
          32,
          46
         ],
         "line": {
          "color": "hotpink",
          "width": 2
         },
         "lon": [
          53,
          2
         ],
         "mode": "lines",
         "opacity": 0.022935779816513763,
         "type": "scattergeo"
        },
        {
         "lat": [
          32,
          54
         ],
         "line": {
          "color": "hotpink",
          "width": 2
         },
         "lon": [
          53,
          -4
         ],
         "mode": "lines",
         "opacity": 0.48609952738393103,
         "type": "scattergeo"
        },
        {
         "lat": [
          33,
          46
         ],
         "line": {
          "color": "hotpink",
          "width": 2
         },
         "lon": [
          44,
          2
         ],
         "mode": "lines",
         "opacity": 0.07673060884070058,
         "type": "scattergeo"
        },
        {
         "lat": [
          33,
          54
         ],
         "line": {
          "color": "hotpink",
          "width": 2
         },
         "lon": [
          44,
          -4
         ],
         "mode": "lines",
         "opacity": 0.5960522657770364,
         "type": "scattergeo"
        },
        {
         "lat": [
          31.5,
          46
         ],
         "line": {
          "color": "hotpink",
          "width": 2
         },
         "lon": [
          34.75,
          2
         ],
         "mode": "lines",
         "opacity": 0.0012510425354462051,
         "type": "scattergeo"
        },
        {
         "lat": [
          31.5,
          54
         ],
         "line": {
          "color": "hotpink",
          "width": 2
         },
         "lon": [
          34.75,
          -4
         ],
         "mode": "lines",
         "opacity": 0.007228245760355852,
         "type": "scattergeo"
        },
        {
         "lat": [
          18.25,
          54
         ],
         "line": {
          "color": "hotpink",
          "width": 2
         },
         "lon": [
          -77.5,
          -4
         ],
         "mode": "lines",
         "opacity": 0.15512927439532945,
         "type": "scattergeo"
        },
        {
         "lat": [
          36,
          54
         ],
         "line": {
          "color": "hotpink",
          "width": 2
         },
         "lon": [
          138,
          -4
         ],
         "mode": "lines",
         "opacity": 0.00013900472616068947,
         "type": "scattergeo"
        },
        {
         "lat": [
          31,
          54
         ],
         "line": {
          "color": "hotpink",
          "width": 2
         },
         "lon": [
          36,
          -4
         ],
         "mode": "lines",
         "opacity": 0.002085070892410342,
         "type": "scattergeo"
        },
        {
         "lat": [
          48,
          46
         ],
         "line": {
          "color": "hotpink",
          "width": 2
         },
         "lon": [
          68,
          2
         ],
         "mode": "lines",
         "opacity": 0.0184876285793717,
         "type": "scattergeo"
        },
        {
         "lat": [
          48,
          54
         ],
         "line": {
          "color": "hotpink",
          "width": 2
         },
         "lon": [
          68,
          -4
         ],
         "mode": "lines",
         "opacity": 0.0012510425354462051,
         "type": "scattergeo"
        },
        {
         "lat": [
          1,
          54
         ],
         "line": {
          "color": "hotpink",
          "width": 2
         },
         "lon": [
          38,
          -4
         ],
         "mode": "lines",
         "opacity": 0.0369752571587434,
         "type": "scattergeo"
        },
        {
         "lat": [
          29.5,
          54
         ],
         "line": {
          "color": "hotpink",
          "width": 2
         },
         "lon": [
          47.75,
          -4
         ],
         "mode": "lines",
         "opacity": 0.009730330831248262,
         "type": "scattergeo"
        },
        {
         "lat": [
          41,
          46
         ],
         "line": {
          "color": "hotpink",
          "width": 2
         },
         "lon": [
          75,
          2
         ],
         "mode": "lines",
         "opacity": 0.011815401723658605,
         "type": "scattergeo"
        },
        {
         "lat": [
          41,
          54
         ],
         "line": {
          "color": "hotpink",
          "width": 2
         },
         "lon": [
          75,
          -4
         ],
         "mode": "lines",
         "opacity": 0.004031137058659994,
         "type": "scattergeo"
        },
        {
         "lat": [
          18,
          54
         ],
         "line": {
          "color": "hotpink",
          "width": 2
         },
         "lon": [
          105,
          -4
         ],
         "mode": "lines",
         "opacity": 0.00013900472616068947,
         "type": "scattergeo"
        },
        {
         "lat": [
          57,
          46
         ],
         "line": {
          "color": "hotpink",
          "width": 2
         },
         "lon": [
          25,
          2
         ],
         "mode": "lines",
         "opacity": 0.00013900472616068947,
         "type": "scattergeo"
        },
        {
         "lat": [
          57,
          54
         ],
         "line": {
          "color": "hotpink",
          "width": 2
         },
         "lon": [
          25,
          -4
         ],
         "mode": "lines",
         "opacity": 0.00514317486794551,
         "type": "scattergeo"
        },
        {
         "lat": [
          33.833333,
          46
         ],
         "line": {
          "color": "hotpink",
          "width": 2
         },
         "lon": [
          35.833333,
          2
         ],
         "mode": "lines",
         "opacity": 0.00514317486794551,
         "type": "scattergeo"
        },
        {
         "lat": [
          33.833333,
          54
         ],
         "line": {
          "color": "hotpink",
          "width": 2
         },
         "lon": [
          35.833333,
          -4
         ],
         "mode": "lines",
         "opacity": 0.04267445093133167,
         "type": "scattergeo"
        },
        {
         "lat": [
          6.5,
          46
         ],
         "line": {
          "color": "hotpink",
          "width": 2
         },
         "lon": [
          -9.5,
          2
         ],
         "mode": "lines",
         "opacity": 0.03753127606338615,
         "type": "scattergeo"
        },
        {
         "lat": [
          6.5,
          54
         ],
         "line": {
          "color": "hotpink",
          "width": 2
         },
         "lon": [
          -9.5,
          -4
         ],
         "mode": "lines",
         "opacity": 0.10842368640533778,
         "type": "scattergeo"
        },
        {
         "lat": [
          25,
          46
         ],
         "line": {
          "color": "hotpink",
          "width": 2
         },
         "lon": [
          17,
          2
         ],
         "mode": "lines",
         "opacity": 0.0013900472616068947,
         "type": "scattergeo"
        },
        {
         "lat": [
          25,
          54
         ],
         "line": {
          "color": "hotpink",
          "width": 2
         },
         "lon": [
          17,
          -4
         ],
         "mode": "lines",
         "opacity": 0.03058103975535168,
         "type": "scattergeo"
        },
        {
         "lat": [
          56,
          46
         ],
         "line": {
          "color": "hotpink",
          "width": 2
         },
         "lon": [
          24,
          2
         ],
         "mode": "lines",
         "opacity": 0.0026410897970531,
         "type": "scattergeo"
        },
        {
         "lat": [
          56,
          54
         ],
         "line": {
          "color": "hotpink",
          "width": 2
         },
         "lon": [
          24,
          -4
         ],
         "mode": "lines",
         "opacity": 0.010981373366694467,
         "type": "scattergeo"
        },
        {
         "lat": [
          41.833333,
          46
         ],
         "line": {
          "color": "hotpink",
          "width": 2
         },
         "lon": [
          22,
          2
         ],
         "mode": "lines",
         "opacity": 0.03739227133722547,
         "type": "scattergeo"
        },
        {
         "lat": [
          41.833333,
          54
         ],
         "line": {
          "color": "hotpink",
          "width": 2
         },
         "lon": [
          22,
          -4
         ],
         "mode": "lines",
         "opacity": 0.010703363914373088,
         "type": "scattergeo"
        },
        {
         "lat": [
          -20,
          46
         ],
         "line": {
          "color": "hotpink",
          "width": 2
         },
         "lon": [
          47,
          2
         ],
         "mode": "lines",
         "opacity": 0.055184876285793716,
         "type": "scattergeo"
        },
        {
         "lat": [
          -13.5,
          54
         ],
         "line": {
          "color": "hotpink",
          "width": 2
         },
         "lon": [
          34,
          -4
         ],
         "mode": "lines",
         "opacity": 0.024742841256602723,
         "type": "scattergeo"
        },
        {
         "lat": [
          2.5,
          54
         ],
         "line": {
          "color": "hotpink",
          "width": 2
         },
         "lon": [
          112.5,
          -4
         ],
         "mode": "lines",
         "opacity": 0.003892132332499305,
         "type": "scattergeo"
        },
        {
         "lat": [
          3.2,
          54
         ],
         "line": {
          "color": "hotpink",
          "width": 2
         },
         "lon": [
          73,
          -4
         ],
         "mode": "lines",
         "opacity": 0.00027800945232137893,
         "type": "scattergeo"
        },
        {
         "lat": [
          17,
          46
         ],
         "line": {
          "color": "hotpink",
          "width": 2
         },
         "lon": [
          -4,
          2
         ],
         "mode": "lines",
         "opacity": 0.17097581317764804,
         "type": "scattergeo"
        },
        {
         "lat": [
          17,
          54
         ],
         "line": {
          "color": "hotpink",
          "width": 2
         },
         "lon": [
          -4,
          -4
         ],
         "mode": "lines",
         "opacity": 0.0004170141784820684,
         "type": "scattergeo"
        },
        {
         "lat": [
          20,
          46
         ],
         "line": {
          "color": "hotpink",
          "width": 2
         },
         "lon": [
          -12,
          2
         ],
         "mode": "lines",
         "opacity": 0.3286071726438699,
         "type": "scattergeo"
        },
        {
         "lat": [
          20,
          54
         ],
         "line": {
          "color": "hotpink",
          "width": 2
         },
         "lon": [
          -12,
          -4
         ],
         "mode": "lines",
         "opacity": 0.0005560189046427579,
         "type": "scattergeo"
        },
        {
         "lat": [
          -20.3,
          46
         ],
         "line": {
          "color": "hotpink",
          "width": 2
         },
         "lon": [
          57.583333,
          2
         ],
         "mode": "lines",
         "opacity": 0.0027800945232137894,
         "type": "scattergeo"
        },
        {
         "lat": [
          -20.3,
          54
         ],
         "line": {
          "color": "hotpink",
          "width": 2
         },
         "lon": [
          57.583333,
          -4
         ],
         "mode": "lines",
         "opacity": 0.0025020850708924102,
         "type": "scattergeo"
        },
        {
         "lat": [
          23,
          54
         ],
         "line": {
          "color": "hotpink",
          "width": 2
         },
         "lon": [
          -102,
          -4
         ],
         "mode": "lines",
         "opacity": 0.00027800945232137893,
         "type": "scattergeo"
        },
        {
         "lat": [
          47,
          46
         ],
         "line": {
          "color": "hotpink",
          "width": 2
         },
         "lon": [
          29,
          2
         ],
         "mode": "lines",
         "opacity": 0.2597998331943286,
         "type": "scattergeo"
        },
        {
         "lat": [
          47,
          54
         ],
         "line": {
          "color": "hotpink",
          "width": 2
         },
         "lon": [
          29,
          -4
         ],
         "mode": "lines",
         "opacity": 0.05740895190436475,
         "type": "scattergeo"
        },
        {
         "lat": [
          46,
          46
         ],
         "line": {
          "color": "hotpink",
          "width": 2
         },
         "lon": [
          105,
          2
         ],
         "mode": "lines",
         "opacity": 0.06324715040311371,
         "type": "scattergeo"
        },
        {
         "lat": [
          46,
          54
         ],
         "line": {
          "color": "hotpink",
          "width": 2
         },
         "lon": [
          105,
          -4
         ],
         "mode": "lines",
         "opacity": 0.03892132332499305,
         "type": "scattergeo"
        },
        {
         "lat": [
          32,
          46
         ],
         "line": {
          "color": "hotpink",
          "width": 2
         },
         "lon": [
          -5,
          2
         ],
         "mode": "lines",
         "opacity": 0.006394217403391716,
         "type": "scattergeo"
        },
        {
         "lat": [
          32,
          54
         ],
         "line": {
          "color": "hotpink",
          "width": 2
         },
         "lon": [
          -5,
          -4
         ],
         "mode": "lines",
         "opacity": 0.0037531276063386154,
         "type": "scattergeo"
        },
        {
         "lat": [
          -18.25,
          54
         ],
         "line": {
          "color": "hotpink",
          "width": 2
         },
         "lon": [
          35,
          -4
         ],
         "mode": "lines",
         "opacity": 0.0012510425354462051,
         "type": "scattergeo"
        },
        {
         "lat": [
          -22,
          54
         ],
         "line": {
          "color": "hotpink",
          "width": 2
         },
         "lon": [
          17,
          -4
         ],
         "mode": "lines",
         "opacity": 0.00027800945232137893,
         "type": "scattergeo"
        },
        {
         "lat": [
          28,
          46
         ],
         "line": {
          "color": "hotpink",
          "width": 2
         },
         "lon": [
          84,
          2
         ],
         "mode": "lines",
         "opacity": 0.002085070892410342,
         "type": "scattergeo"
        },
        {
         "lat": [
          28,
          54
         ],
         "line": {
          "color": "hotpink",
          "width": 2
         },
         "lon": [
          84,
          -4
         ],
         "mode": "lines",
         "opacity": 0.03183208229079789,
         "type": "scattergeo"
        },
        {
         "lat": [
          13,
          54
         ],
         "line": {
          "color": "hotpink",
          "width": 2
         },
         "lon": [
          -85,
          -4
         ],
         "mode": "lines",
         "opacity": 0.0005560189046427579,
         "type": "scattergeo"
        },
        {
         "lat": [
          16,
          46
         ],
         "line": {
          "color": "hotpink",
          "width": 2
         },
         "lon": [
          8,
          2
         ],
         "mode": "lines",
         "opacity": 0.004448151237142063,
         "type": "scattergeo"
        },
        {
         "lat": [
          16,
          54
         ],
         "line": {
          "color": "hotpink",
          "width": 2
         },
         "lon": [
          8,
          -4
         ],
         "mode": "lines",
         "opacity": 0.0009730330831248262,
         "type": "scattergeo"
        },
        {
         "lat": [
          10,
          46
         ],
         "line": {
          "color": "hotpink",
          "width": 2
         },
         "lon": [
          8,
          2
         ],
         "mode": "lines",
         "opacity": 0.1729218793438977,
         "type": "scattergeo"
        },
        {
         "lat": [
          10,
          54
         ],
         "line": {
          "color": "hotpink",
          "width": 2
         },
         "lon": [
          8,
          -4
         ],
         "mode": "lines",
         "opacity": 0.15457325549068668,
         "type": "scattergeo"
        },
        {
         "lat": [
          40,
          54
         ],
         "line": {
          "color": "hotpink",
          "width": 2
         },
         "lon": [
          127,
          -4
         ],
         "mode": "lines",
         "opacity": 0.002085070892410342,
         "type": "scattergeo"
        },
        {
         "lat": [
          21,
          54
         ],
         "line": {
          "color": "hotpink",
          "width": 2
         },
         "lon": [
          57,
          -4
         ],
         "mode": "lines",
         "opacity": 0.0006950236308034474,
         "type": "scattergeo"
        },
        {
         "lat": [
          30,
          46
         ],
         "line": {
          "color": "hotpink",
          "width": 2
         },
         "lon": [
          70,
          2
         ],
         "mode": "lines",
         "opacity": 0.10494856825132054,
         "type": "scattergeo"
        },
        {
         "lat": [
          30,
          54
         ],
         "line": {
          "color": "hotpink",
          "width": 2
         },
         "lon": [
          70,
          -4
         ],
         "mode": "lines",
         "opacity": 0.436891854323047,
         "type": "scattergeo"
        },
        {
         "lat": [
          31.666667,
          46
         ],
         "line": {
          "color": "hotpink",
          "width": 2
         },
         "lon": [
          35.25,
          2
         ],
         "mode": "lines",
         "opacity": 0.007506255212677231,
         "type": "scattergeo"
        },
        {
         "lat": [
          31.666667,
          54
         ],
         "line": {
          "color": "hotpink",
          "width": 2
         },
         "lon": [
          35.25,
          -4
         ],
         "mode": "lines",
         "opacity": 0.0658882402001668,
         "type": "scattergeo"
        },
        {
         "lat": [
          9,
          54
         ],
         "line": {
          "color": "hotpink",
          "width": 2
         },
         "lon": [
          -80,
          -4
         ],
         "mode": "lines",
         "opacity": 0.00013900472616068947,
         "type": "scattergeo"
        },
        {
         "lat": [
          -22.993333,
          54
         ],
         "line": {
          "color": "hotpink",
          "width": 2
         },
         "lon": [
          -57.996389,
          -4
         ],
         "mode": "lines",
         "opacity": 0.0004170141784820684,
         "type": "scattergeo"
        },
        {
         "lat": [
          -10,
          46
         ],
         "line": {
          "color": "hotpink",
          "width": 2
         },
         "lon": [
          -76,
          2
         ],
         "mode": "lines",
         "opacity": 0.009174311926605505,
         "type": "scattergeo"
        },
        {
         "lat": [
          -10,
          54
         ],
         "line": {
          "color": "hotpink",
          "width": 2
         },
         "lon": [
          -76,
          -4
         ],
         "mode": "lines",
         "opacity": 0.0008340283569641367,
         "type": "scattergeo"
        },
        {
         "lat": [
          13,
          54
         ],
         "line": {
          "color": "hotpink",
          "width": 2
         },
         "lon": [
          122,
          -4
         ],
         "mode": "lines",
         "opacity": 0.0016680567139282735,
         "type": "scattergeo"
        },
        {
         "lat": [
          52,
          46
         ],
         "line": {
          "color": "hotpink",
          "width": 2
         },
         "lon": [
          20,
          2
         ],
         "mode": "lines",
         "opacity": 0.001807061440088963,
         "type": "scattergeo"
        },
        {
         "lat": [
          52,
          54
         ],
         "line": {
          "color": "hotpink",
          "width": 2
         },
         "lon": [
          20,
          -4
         ],
         "mode": "lines",
         "opacity": 0.016958576591604116,
         "type": "scattergeo"
        },
        {
         "lat": [
          25.5,
          54
         ],
         "line": {
          "color": "hotpink",
          "width": 2
         },
         "lon": [
          51.25,
          -4
         ],
         "mode": "lines",
         "opacity": 0.00013900472616068947,
         "type": "scattergeo"
        },
        {
         "lat": [
          46,
          46
         ],
         "line": {
          "color": "hotpink",
          "width": 2
         },
         "lon": [
          25,
          2
         ],
         "mode": "lines",
         "opacity": 0.01793160967472894,
         "type": "scattergeo"
        },
        {
         "lat": [
          46,
          54
         ],
         "line": {
          "color": "hotpink",
          "width": 2
         },
         "lon": [
          25,
          -4
         ],
         "mode": "lines",
         "opacity": 0.11092577147623019,
         "type": "scattergeo"
        },
        {
         "lat": [
          60,
          46
         ],
         "line": {
          "color": "hotpink",
          "width": 2
         },
         "lon": [
          100,
          2
         ],
         "mode": "lines",
         "opacity": 0.45190436474840145,
         "type": "scattergeo"
        },
        {
         "lat": [
          60,
          54
         ],
         "line": {
          "color": "hotpink",
          "width": 2
         },
         "lon": [
          100,
          -4
         ],
         "mode": "lines",
         "opacity": 0.05726994717820406,
         "type": "scattergeo"
        },
        {
         "lat": [
          -2,
          46
         ],
         "line": {
          "color": "hotpink",
          "width": 2
         },
         "lon": [
          30,
          2
         ],
         "mode": "lines",
         "opacity": 0.06074506533222129,
         "type": "scattergeo"
        },
        {
         "lat": [
          -2,
          54
         ],
         "line": {
          "color": "hotpink",
          "width": 2
         },
         "lon": [
          30,
          -4
         ],
         "mode": "lines",
         "opacity": 0.04448151237142063,
         "type": "scattergeo"
        },
        {
         "lat": [
          1,
          54
         ],
         "line": {
          "color": "hotpink",
          "width": 2
         },
         "lon": [
          7,
          -4
         ],
         "mode": "lines",
         "opacity": 0.00013900472616068947,
         "type": "scattergeo"
        },
        {
         "lat": [
          25,
          54
         ],
         "line": {
          "color": "hotpink",
          "width": 2
         },
         "lon": [
          45,
          -4
         ],
         "mode": "lines",
         "opacity": 0.0015290519877675841,
         "type": "scattergeo"
        },
        {
         "lat": [
          14,
          46
         ],
         "line": {
          "color": "hotpink",
          "width": 2
         },
         "lon": [
          -14,
          2
         ],
         "mode": "lines",
         "opacity": 0.045037531276063386,
         "type": "scattergeo"
        },
        {
         "lat": [
          14,
          54
         ],
         "line": {
          "color": "hotpink",
          "width": 2
         },
         "lon": [
          -14,
          -4
         ],
         "mode": "lines",
         "opacity": 0.004309146510981373,
         "type": "scattergeo"
        },
        {
         "lat": [
          44,
          46
         ],
         "line": {
          "color": "hotpink",
          "width": 2
         },
         "lon": [
          21,
          2
         ],
         "mode": "lines",
         "opacity": 0.35696413678065053,
         "type": "scattergeo"
        },
        {
         "lat": [
          44,
          54
         ],
         "line": {
          "color": "hotpink",
          "width": 2
         },
         "lon": [
          21,
          -4
         ],
         "mode": "lines",
         "opacity": 0.15749235474006115,
         "type": "scattergeo"
        },
        {
         "lat": [
          -4.583333,
          54
         ],
         "line": {
          "color": "hotpink",
          "width": 2
         },
         "lon": [
          55.666667,
          -4
         ],
         "mode": "lines",
         "opacity": 0.0013900472616068947,
         "type": "scattergeo"
        },
        {
         "lat": [
          8.5,
          46
         ],
         "line": {
          "color": "hotpink",
          "width": 2
         },
         "lon": [
          -11.5,
          2
         ],
         "mode": "lines",
         "opacity": 0.05337781484570475,
         "type": "scattergeo"
        },
        {
         "lat": [
          8.5,
          54
         ],
         "line": {
          "color": "hotpink",
          "width": 2
         },
         "lon": [
          -11.5,
          -4
         ],
         "mode": "lines",
         "opacity": 0.0567139282735613,
         "type": "scattergeo"
        },
        {
         "lat": [
          1.366667,
          54
         ],
         "line": {
          "color": "hotpink",
          "width": 2
         },
         "lon": [
          103.8,
          -4
         ],
         "mode": "lines",
         "opacity": 0.0005560189046427579,
         "type": "scattergeo"
        },
        {
         "lat": [
          48.666667,
          46
         ],
         "line": {
          "color": "hotpink",
          "width": 2
         },
         "lon": [
          19.5,
          2
         ],
         "mode": "lines",
         "opacity": 0.014039477342229635,
         "type": "scattergeo"
        },
        {
         "lat": [
          48.666667,
          54
         ],
         "line": {
          "color": "hotpink",
          "width": 2
         },
         "lon": [
          19.5,
          -4
         ],
         "mode": "lines",
         "opacity": 0.003197108701695858,
         "type": "scattergeo"
        },
        {
         "lat": [
          -8,
          54
         ],
         "line": {
          "color": "hotpink",
          "width": 2
         },
         "lon": [
          159,
          -4
         ],
         "mode": "lines",
         "opacity": 0.00027800945232137893,
         "type": "scattergeo"
        },
        {
         "lat": [
          6,
          46
         ],
         "line": {
          "color": "hotpink",
          "width": 2
         },
         "lon": [
          48,
          2
         ],
         "mode": "lines",
         "opacity": 0.01890464275785377,
         "type": "scattergeo"
        },
        {
         "lat": [
          6,
          54
         ],
         "line": {
          "color": "hotpink",
          "width": 2
         },
         "lon": [
          48,
          -4
         ],
         "mode": "lines",
         "opacity": 1,
         "type": "scattergeo"
        },
        {
         "lat": [
          -30,
          54
         ],
         "line": {
          "color": "hotpink",
          "width": 2
         },
         "lon": [
          26,
          -4
         ],
         "mode": "lines",
         "opacity": 0.044898526549902694,
         "type": "scattergeo"
        },
        {
         "lat": [
          37,
          54
         ],
         "line": {
          "color": "hotpink",
          "width": 2
         },
         "lon": [
          127.5,
          -4
         ],
         "mode": "lines",
         "opacity": 0.00027800945232137893,
         "type": "scattergeo"
        },
        {
         "lat": [
          7,
          46
         ],
         "line": {
          "color": "hotpink",
          "width": 2
         },
         "lon": [
          81,
          2
         ],
         "mode": "lines",
         "opacity": 0.28996385877119824,
         "type": "scattergeo"
        },
        {
         "lat": [
          7,
          54
         ],
         "line": {
          "color": "hotpink",
          "width": 2
         },
         "lon": [
          81,
          -4
         ],
         "mode": "lines",
         "opacity": 0.11259382819015847,
         "type": "scattergeo"
        },
        {
         "lat": [
          16,
          46
         ],
         "line": {
          "color": "hotpink",
          "width": 2
         },
         "lon": [
          30,
          2
         ],
         "mode": "lines",
         "opacity": 0.05587989991659716,
         "type": "scattergeo"
        },
        {
         "lat": [
          16,
          54
         ],
         "line": {
          "color": "hotpink",
          "width": 2
         },
         "lon": [
          30,
          -4
         ],
         "mode": "lines",
         "opacity": 0.14609396719488463,
         "type": "scattergeo"
        },
        {
         "lat": [
          -26.5,
          54
         ],
         "line": {
          "color": "hotpink",
          "width": 2
         },
         "lon": [
          31.5,
          -4
         ],
         "mode": "lines",
         "opacity": 0.0009730330831248262,
         "type": "scattergeo"
        },
        {
         "lat": [
          35,
          46
         ],
         "line": {
          "color": "hotpink",
          "width": 2
         },
         "lon": [
          38,
          2
         ],
         "mode": "lines",
         "opacity": 0.006811231581873784,
         "type": "scattergeo"
        },
        {
         "lat": [
          35,
          54
         ],
         "line": {
          "color": "hotpink",
          "width": 2
         },
         "lon": [
          38,
          -4
         ],
         "mode": "lines",
         "opacity": 0.021684737281067557,
         "type": "scattergeo"
        },
        {
         "lat": [
          39,
          46
         ],
         "line": {
          "color": "hotpink",
          "width": 2
         },
         "lon": [
          71,
          2
         ],
         "mode": "lines",
         "opacity": 0.0019460661662496525,
         "type": "scattergeo"
        },
        {
         "lat": [
          39,
          54
         ],
         "line": {
          "color": "hotpink",
          "width": 2
         },
         "lon": [
          71,
          -4
         ],
         "mode": "lines",
         "opacity": 0.0006950236308034474,
         "type": "scattergeo"
        },
        {
         "lat": [
          -6,
          54
         ],
         "line": {
          "color": "hotpink",
          "width": 2
         },
         "lon": [
          35,
          -4
         ],
         "mode": "lines",
         "opacity": 0.0050041701417848205,
         "type": "scattergeo"
        },
        {
         "lat": [
          15,
          46
         ],
         "line": {
          "color": "hotpink",
          "width": 2
         },
         "lon": [
          100,
          2
         ],
         "mode": "lines",
         "opacity": 0.005977203224909647,
         "type": "scattergeo"
        },
        {
         "lat": [
          15,
          54
         ],
         "line": {
          "color": "hotpink",
          "width": 2
         },
         "lon": [
          100,
          -4
         ],
         "mode": "lines",
         "opacity": 0.0008340283569641367,
         "type": "scattergeo"
        },
        {
         "lat": [
          8,
          46
         ],
         "line": {
          "color": "hotpink",
          "width": 2
         },
         "lon": [
          1.166667,
          2
         ],
         "mode": "lines",
         "opacity": 0.056435918821239925,
         "type": "scattergeo"
        },
        {
         "lat": [
          8,
          54
         ],
         "line": {
          "color": "hotpink",
          "width": 2
         },
         "lon": [
          1.166667,
          -4
         ],
         "mode": "lines",
         "opacity": 0.012232415902140673,
         "type": "scattergeo"
        },
        {
         "lat": [
          11,
          54
         ],
         "line": {
          "color": "hotpink",
          "width": 2
         },
         "lon": [
          -61,
          -4
         ],
         "mode": "lines",
         "opacity": 0.0019460661662496525,
         "type": "scattergeo"
        },
        {
         "lat": [
          34,
          46
         ],
         "line": {
          "color": "hotpink",
          "width": 2
         },
         "lon": [
          9,
          2
         ],
         "mode": "lines",
         "opacity": 0.0052821795941062,
         "type": "scattergeo"
        },
        {
         "lat": [
          34,
          54
         ],
         "line": {
          "color": "hotpink",
          "width": 2
         },
         "lon": [
          9,
          -4
         ],
         "mode": "lines",
         "opacity": 0.0026410897970531,
         "type": "scattergeo"
        },
        {
         "lat": [
          39.059012,
          46
         ],
         "line": {
          "color": "hotpink",
          "width": 2
         },
         "lon": [
          34.911546,
          2
         ],
         "mode": "lines",
         "opacity": 0.9895746455379483,
         "type": "scattergeo"
        },
        {
         "lat": [
          39.059012,
          54
         ],
         "line": {
          "color": "hotpink",
          "width": 2
         },
         "lon": [
          34.911546,
          -4
         ],
         "mode": "lines",
         "opacity": 0.41590214067278286,
         "type": "scattergeo"
        },
        {
         "lat": [
          40,
          54
         ],
         "line": {
          "color": "hotpink",
          "width": 2
         },
         "lon": [
          60,
          -4
         ],
         "mode": "lines",
         "opacity": 0.0030581039755351682,
         "type": "scattergeo"
        },
        {
         "lat": [
          2,
          54
         ],
         "line": {
          "color": "hotpink",
          "width": 2
         },
         "lon": [
          33,
          -4
         ],
         "mode": "lines",
         "opacity": 0.10758965804837364,
         "type": "scattergeo"
        },
        {
         "lat": [
          49,
          46
         ],
         "line": {
          "color": "hotpink",
          "width": 2
         },
         "lon": [
          32,
          2
         ],
         "mode": "lines",
         "opacity": 0.10731164859605227,
         "type": "scattergeo"
        },
        {
         "lat": [
          49,
          54
         ],
         "line": {
          "color": "hotpink",
          "width": 2
         },
         "lon": [
          32,
          -4
         ],
         "mode": "lines",
         "opacity": 0.04684459271615235,
         "type": "scattergeo"
        },
        {
         "lat": [
          24,
          54
         ],
         "line": {
          "color": "hotpink",
          "width": 2
         },
         "lon": [
          54,
          -4
         ],
         "mode": "lines",
         "opacity": 0.0011120378092855157,
         "type": "scattergeo"
        },
        {
         "lat": [
          41.707542,
          46
         ],
         "line": {
          "color": "hotpink",
          "width": 2
         },
         "lon": [
          63.84911,
          2
         ],
         "mode": "lines",
         "opacity": 0.012093411175979984,
         "type": "scattergeo"
        },
        {
         "lat": [
          41.707542,
          54
         ],
         "line": {
          "color": "hotpink",
          "width": 2
         },
         "lon": [
          63.84911,
          -4
         ],
         "mode": "lines",
         "opacity": 0.003336113427856547,
         "type": "scattergeo"
        },
        {
         "lat": [
          8,
          54
         ],
         "line": {
          "color": "hotpink",
          "width": 2
         },
         "lon": [
          -66,
          -4
         ],
         "mode": "lines",
         "opacity": 0.0026410897970531,
         "type": "scattergeo"
        },
        {
         "lat": [
          16.166667,
          46
         ],
         "line": {
          "color": "hotpink",
          "width": 2
         },
         "lon": [
          107.833333,
          2
         ],
         "mode": "lines",
         "opacity": 0.010425354462051709,
         "type": "scattergeo"
        },
        {
         "lat": [
          16.166667,
          54
         ],
         "line": {
          "color": "hotpink",
          "width": 2
         },
         "lon": [
          107.833333,
          -4
         ],
         "mode": "lines",
         "opacity": 0.1636085626911315,
         "type": "scattergeo"
        },
        {
         "lat": [
          15.5,
          54
         ],
         "line": {
          "color": "hotpink",
          "width": 2
         },
         "lon": [
          47.5,
          -4
         ],
         "mode": "lines",
         "opacity": 0.021406727828746176,
         "type": "scattergeo"
        },
        {
         "lat": [
          -15,
          54
         ],
         "line": {
          "color": "hotpink",
          "width": 2
         },
         "lon": [
          30,
          -4
         ],
         "mode": "lines",
         "opacity": 0.0026410897970531,
         "type": "scattergeo"
        },
        {
         "lat": [
          -19,
          46
         ],
         "line": {
          "color": "hotpink",
          "width": 2
         },
         "lon": [
          29,
          2
         ],
         "mode": "lines",
         "opacity": 0.0016680567139282735,
         "type": "scattergeo"
        },
        {
         "lat": [
          -19,
          54
         ],
         "line": {
          "color": "hotpink",
          "width": 2
         },
         "lon": [
          29,
          -4
         ],
         "mode": "lines",
         "opacity": 0.5585209897136503,
         "type": "scattergeo"
        },
        {
         "hoverinfo": "text",
         "lat": [
          33,
          41,
          28,
          -14.3333333,
          42.5,
          -12.5,
          18.216667,
          17.05,
          -34,
          40,
          12.5,
          -15.95,
          -12.416667,
          -25,
          47.333333,
          40.5,
          24,
          26,
          24,
          13.166667,
          -21.416667,
          53,
          50.833333,
          17.25,
          9.5,
          32.333333,
          27.5,
          -17,
          12.2,
          44.25,
          -22,
          -54.433333,
          -10,
          -6,
          18.5,
          4.5,
          43,
          13,
          22,
          -3.5,
          13,
          6,
          60,
          16,
          19.5,
          7,
          15,
          -30,
          35,
          -10.5,
          10.283333,
          -12,
          4,
          -12.166667,
          -16.083333,
          -17.5,
          10,
          8,
          45.166667,
          22,
          12.166667,
          35,
          49.75,
          0,
          56,
          11.5,
          15.5,
          19,
          -2,
          27,
          13.833333,
          2,
          15,
          59,
          8,
          -22.333333,
          -51.75,
          62,
          5,
          -18,
          64,
          46,
          4,
          -15,
          -43,
          -1,
          13.5,
          31.425074,
          41.999981,
          51.5,
          8,
          36.133333,
          -11.5,
          39,
          72,
          12.116667,
          16.25,
          13.4444444,
          15.5,
          49.583333,
          11,
          12,
          5,
          19,
          -53,
          15,
          22.25,
          47,
          65,
          20,
          -5,
          32,
          33,
          53,
          54.25,
          31.5,
          42.833333,
          18.25,
          36,
          49.216667,
          31,
          -17.05833,
          48,
          1,
          -5,
          42.583333,
          29.5,
          41,
          18,
          57,
          33.833333,
          -29.5,
          6.5,
          25,
          47.166667,
          56,
          49.75,
          22.157778,
          41.833333,
          -20,
          -13.5,
          2.5,
          3.2,
          17,
          35.916667,
          10,
          14.666667,
          20,
          -20.3,
          -12.833333,
          23,
          47,
          43.733333,
          46,
          42.5,
          16.75,
          32,
          -18.25,
          -22,
          -0.533333,
          28,
          52.5,
          -21.5,
          -42,
          13,
          16,
          10,
          -19.033333,
          -29.033333,
          40,
          16,
          62,
          21,
          30,
          6,
          9,
          -6,
          -22.993333,
          -10,
          13,
          -25.066667,
          52,
          39.5,
          18.2482882,
          25.5,
          -1,
          -21.1,
          46,
          60,
          -2,
          17.9,
          17.333333,
          13.883333,
          18.075,
          46.833333,
          13.083333,
          -13.803096,
          43.933333,
          1,
          25,
          14,
          44,
          -4.583333,
          8.5,
          1.366667,
          18.04167,
          48.666667,
          46.25,
          -8,
          6,
          -30,
          -56,
          37,
          8,
          40,
          7,
          16,
          4,
          78,
          -26.5,
          62,
          47,
          35,
          24,
          39,
          -6,
          15,
          -8.833333,
          8,
          -9,
          -20,
          11,
          -15.866667,
          34,
          39.059012,
          40,
          21.733333,
          -8,
          2,
          49,
          24,
          54,
          39.828175,
          -33,
          5.8811111,
          18.3482891,
          41.707542,
          -16,
          41.9,
          8,
          16.166667,
          -13.3,
          31.666667,
          25,
          15.5,
          -15,
          -19
         ],
         "locationmode": "country names",
         "lon": [
          66,
          20,
          3,
          -170,
          1.5,
          18.5,
          -63.05,
          -61.8,
          -64,
          45,
          -69.966667,
          -5.7,
          123.333333,
          135,
          13.333333,
          47.5,
          -76,
          50.5,
          90,
          -59.533333,
          39.7,
          28,
          4,
          -88.75,
          2.25,
          -64.75,
          90.5,
          -65,
          -68.25,
          17.833333,
          24,
          3.4,
          -55,
          72,
          -64.5,
          114.666667,
          25,
          -2,
          98,
          30,
          105,
          12,
          -96,
          -24,
          -80.666667,
          21,
          19,
          -71,
          105,
          105.666667,
          -109.216667,
          96.833333,
          -72,
          44.25,
          -161.583333,
          151,
          -84,
          -5,
          15.5,
          -79.5,
          -69,
          33,
          15,
          25,
          10,
          42.5,
          -61.333333,
          -70.666667,
          -77.5,
          30,
          -88.916667,
          10,
          39,
          26,
          38,
          40.366667,
          -59.166667,
          -7,
          152,
          178,
          26,
          2,
          -53,
          -140,
          67,
          11.75,
          -15.5,
          34.373398,
          43.499905,
          10.5,
          -2,
          -5.35,
          47.333333,
          22,
          -40,
          -61.666667,
          -61.583333,
          144.7366667,
          -90.25,
          -2.333333,
          -10,
          -15,
          -59,
          -72.416667,
          73,
          -86.5,
          114.166667,
          20,
          -18,
          77,
          120,
          53,
          44,
          -8,
          -4.5,
          34.75,
          12.833333,
          -77.5,
          138,
          -2.116667,
          36,
          42.71667,
          68,
          38,
          -170,
          21,
          47.75,
          75,
          105,
          25,
          35.833333,
          28.25,
          -9.5,
          17,
          9.533333,
          24,
          6.166667,
          113.559722,
          22,
          47,
          34,
          112.5,
          73,
          -4,
          14.433333,
          167,
          -61,
          -12,
          57.583333,
          45.166667,
          -102,
          29,
          7.4,
          105,
          19.3,
          -62.2,
          -5,
          35,
          17,
          166.916667,
          84,
          5.75,
          165.5,
          174,
          -85,
          8,
          8,
          -169.866667,
          167.95,
          127,
          146,
          10,
          57,
          70,
          134,
          -80,
          147,
          -57.996389,
          -76,
          122,
          -130.1,
          20,
          -8,
          -66.4998941,
          51.25,
          15,
          55.6,
          25,
          100,
          30,
          -62.833333,
          -62.75,
          -60.966667,
          -63.05833,
          -56.333333,
          -61.2,
          -172.178309,
          12.416667,
          7,
          45,
          -14,
          21,
          55.666667,
          -11.5,
          103.8,
          -63.06667,
          19.5,
          15.166667,
          159,
          48,
          26,
          -33,
          127.5,
          30,
          -4,
          81,
          30,
          -56,
          20,
          31.5,
          15,
          8,
          38,
          121,
          71,
          35,
          100,
          125.75,
          1.166667,
          -171.75,
          -175,
          -61,
          54.416667,
          9,
          34.911546,
          60,
          -71.583333,
          178,
          33,
          32,
          54,
          -4,
          -98.5795,
          -56,
          -162.0725,
          -64.9834807,
          63.84911,
          167,
          12.45,
          -66,
          107.833333,
          -176.2,
          35.25,
          -13.5,
          47.5,
          30,
          29
         ],
         "marker": {
          "color": "rgb(156, 81, 182)",
          "line": {
           "color": "rgba(68, 68, 68, 0)",
           "width": 3
          },
          "size": 2
         },
         "mode": "markers",
         "text": [
          "Afghanistan",
          "Albania",
          "Algeria",
          "American Samoa",
          "Andorra",
          "Angola",
          "Anguilla",
          "Antigua and Barbuda",
          "Argentina",
          "Armenia",
          "Aruba",
          "Ascension",
          "Ashmore and Cartier Islands",
          "Australia",
          "Austria",
          "Azerbaijan",
          "Bahamas",
          "Bahrain",
          "Bangladesh",
          "Barbados",
          "Bassas da India",
          "Belarus",
          "Belgium",
          "Belize",
          "Benin",
          "Bermuda",
          "Bhutan",
          "Bolivia",
          "Bonaire",
          "Bosnia and Herzegovina",
          "Botswana",
          "Bouvet Island",
          "Brazil",
          "British Indian Ocean Territory",
          "British Virgin Islands",
          "Brunei",
          "Bulgaria",
          "Burkina Faso",
          "Burma",
          "Burundi",
          "Cambodia",
          "Cameroon",
          "Canada",
          "Cape Verde",
          "Cayman Islands",
          "Central African Republic",
          "Chad",
          "Chile",
          "China",
          "Christmas Island",
          "Clipperton Island",
          "Cocos (Keeling) Islands",
          "Colombia",
          "Comoros",
          "Cook Islands",
          "Coral Sea Islands",
          "Costa Rica",
          "Cote d'Ivoire",
          "Croatia",
          "Cuba",
          "Curaçao",
          "Cyprus",
          "Czech Republic",
          "Democratic Republic of the Congo",
          "Denmark",
          "Djibouti",
          "Dominica",
          "Dominican Republic",
          "Ecuador",
          "Egypt",
          "El Salvador",
          "Equatorial Guinea",
          "Eritrea",
          "Estonia",
          "Ethiopia",
          "Europa Island",
          "Falkland Islands",
          "Faroe Islands",
          "Federated States of Micronesia",
          "Fiji",
          "Finland",
          "France",
          "French Guiana",
          "French Polynesia",
          "French Southern and Antarctic Lands",
          "Gabon",
          "Gambia",
          "Gaza Strip",
          "Georgia",
          "Germany",
          "Ghana",
          "Gibraltar",
          "Glorioso Islands",
          "Greece",
          "Greenland",
          "Grenada",
          "Guadeloupe",
          "Guam",
          "Guatemala",
          "Guernsey",
          "Guinea",
          "Guinea-Bissau",
          "Guyana",
          "Haiti",
          "Heard Island and McDonald Islands",
          "Honduras",
          "Hong Kong",
          "Hungary",
          "Iceland",
          "India",
          "Indonesia",
          "Iran",
          "Iraq",
          "Ireland",
          "Isle of Man",
          "Israel",
          "Italy",
          "Jamaica",
          "Japan",
          "Jersey",
          "Jordan",
          "Juan de Nova Island",
          "Kazakhstan",
          "Kenya",
          "Kiribati",
          "Kosovo",
          "Kuwait",
          "Kyrgyzstan",
          "Laos",
          "Latvia",
          "Lebanon",
          "Lesotho",
          "Liberia",
          "Libya",
          "Liechtenstein",
          "Lithuania",
          "Luxembourg",
          "Macau",
          "Macedonia",
          "Madagascar",
          "Malawi",
          "Malaysia",
          "Maldives",
          "Mali",
          "Malta",
          "Marshall Islands",
          "Martinique",
          "Mauritania",
          "Mauritius",
          "Mayotte",
          "Mexico",
          "Moldova",
          "Monaco",
          "Mongolia",
          "Montenegro",
          "Montserrat",
          "Morocco",
          "Mozambique",
          "Namibia",
          "Nauru",
          "Nepal",
          "Netherlands",
          "New Caledonia",
          "New Zealand",
          "Nicaragua",
          "Niger",
          "Nigeria",
          "Niue",
          "Norfolk Island",
          "North Korea",
          "Northern Mariana Islands",
          "Norway",
          "Oman",
          "Pakistan",
          "Palau",
          "Panama",
          "Papua New Guinea",
          "Paraguay",
          "Peru",
          "Philippines",
          "Pitcairn Islands",
          "Poland",
          "Portugal",
          "Puerto Rico",
          "Qatar",
          "Republic of the Congo",
          "Reunion",
          "Romania",
          "Russia",
          "Rwanda",
          "Saint Barthelemy",
          "Saint Kitts and Nevis",
          "Saint Lucia",
          "Saint Martin",
          "Saint Pierre and Miquelon",
          "Saint Vincent and the Grenadines",
          "Samoa",
          "San Marino",
          "Sao Tome and Principe",
          "Saudi Arabia",
          "Senegal",
          "Serbia",
          "Seychelles",
          "Sierra Leone",
          "Singapore",
          "Sint Maarten",
          "Slovakia",
          "Slovenia",
          "Solomon Islands",
          "Somalia",
          "South Africa",
          "South Georgia and South Sandwich Islands",
          "South Korea",
          "South Sudan",
          "Spain",
          "Sri Lanka",
          "Sudan",
          "Suriname",
          "Svalbard",
          "Swaziland",
          "Sweden",
          "Switzerland",
          "Syria",
          "Taiwan",
          "Tajikistan",
          "Tanzania",
          "Thailand",
          "Timor-Leste",
          "Togo",
          "Tokelau",
          "Tonga",
          "Trinidad and Tobago",
          "Tromelin Island",
          "Tunisia",
          "Turkey",
          "Turkmenistan",
          "Turks and Caicos Islands",
          "Tuvalu",
          "Uganda",
          "Ukraine",
          "United Arab Emirates",
          "United Kingdom",
          "United States",
          "Uruguay",
          "US Minor Outlying Islands",
          "US Virgin Islands",
          "Uzbekistan",
          "Vanuatu",
          "Vatican City",
          "Venezuela",
          "Vietnam",
          "Wallis and Futuna",
          "West Bank",
          "Western Sahara",
          "Yemen",
          "Zambia",
          "Zimbabwe"
         ],
         "type": "scattergeo"
        }
       ],
       "layout": {
        "geo": {
         "countrycolor": "rgb(204, 204, 204)",
         "landcolor": "rgb(243, 243, 243)",
         "projection": {
          "type": "equirectangular"
         },
         "showcoastlines": true,
         "showframe": false,
         "showland": true
        },
        "showlegend": false,
        "template": {
         "data": {
          "bar": [
           {
            "error_x": {
             "color": "#2a3f5f"
            },
            "error_y": {
             "color": "#2a3f5f"
            },
            "marker": {
             "line": {
              "color": "#E5ECF6",
              "width": 0.5
             },
             "pattern": {
              "fillmode": "overlay",
              "size": 10,
              "solidity": 0.2
             }
            },
            "type": "bar"
           }
          ],
          "barpolar": [
           {
            "marker": {
             "line": {
              "color": "#E5ECF6",
              "width": 0.5
             },
             "pattern": {
              "fillmode": "overlay",
              "size": 10,
              "solidity": 0.2
             }
            },
            "type": "barpolar"
           }
          ],
          "carpet": [
           {
            "aaxis": {
             "endlinecolor": "#2a3f5f",
             "gridcolor": "white",
             "linecolor": "white",
             "minorgridcolor": "white",
             "startlinecolor": "#2a3f5f"
            },
            "baxis": {
             "endlinecolor": "#2a3f5f",
             "gridcolor": "white",
             "linecolor": "white",
             "minorgridcolor": "white",
             "startlinecolor": "#2a3f5f"
            },
            "type": "carpet"
           }
          ],
          "choropleth": [
           {
            "colorbar": {
             "outlinewidth": 0,
             "ticks": ""
            },
            "type": "choropleth"
           }
          ],
          "contour": [
           {
            "colorbar": {
             "outlinewidth": 0,
             "ticks": ""
            },
            "colorscale": [
             [
              0,
              "#0d0887"
             ],
             [
              0.1111111111111111,
              "#46039f"
             ],
             [
              0.2222222222222222,
              "#7201a8"
             ],
             [
              0.3333333333333333,
              "#9c179e"
             ],
             [
              0.4444444444444444,
              "#bd3786"
             ],
             [
              0.5555555555555556,
              "#d8576b"
             ],
             [
              0.6666666666666666,
              "#ed7953"
             ],
             [
              0.7777777777777778,
              "#fb9f3a"
             ],
             [
              0.8888888888888888,
              "#fdca26"
             ],
             [
              1,
              "#f0f921"
             ]
            ],
            "type": "contour"
           }
          ],
          "contourcarpet": [
           {
            "colorbar": {
             "outlinewidth": 0,
             "ticks": ""
            },
            "type": "contourcarpet"
           }
          ],
          "heatmap": [
           {
            "colorbar": {
             "outlinewidth": 0,
             "ticks": ""
            },
            "colorscale": [
             [
              0,
              "#0d0887"
             ],
             [
              0.1111111111111111,
              "#46039f"
             ],
             [
              0.2222222222222222,
              "#7201a8"
             ],
             [
              0.3333333333333333,
              "#9c179e"
             ],
             [
              0.4444444444444444,
              "#bd3786"
             ],
             [
              0.5555555555555556,
              "#d8576b"
             ],
             [
              0.6666666666666666,
              "#ed7953"
             ],
             [
              0.7777777777777778,
              "#fb9f3a"
             ],
             [
              0.8888888888888888,
              "#fdca26"
             ],
             [
              1,
              "#f0f921"
             ]
            ],
            "type": "heatmap"
           }
          ],
          "heatmapgl": [
           {
            "colorbar": {
             "outlinewidth": 0,
             "ticks": ""
            },
            "colorscale": [
             [
              0,
              "#0d0887"
             ],
             [
              0.1111111111111111,
              "#46039f"
             ],
             [
              0.2222222222222222,
              "#7201a8"
             ],
             [
              0.3333333333333333,
              "#9c179e"
             ],
             [
              0.4444444444444444,
              "#bd3786"
             ],
             [
              0.5555555555555556,
              "#d8576b"
             ],
             [
              0.6666666666666666,
              "#ed7953"
             ],
             [
              0.7777777777777778,
              "#fb9f3a"
             ],
             [
              0.8888888888888888,
              "#fdca26"
             ],
             [
              1,
              "#f0f921"
             ]
            ],
            "type": "heatmapgl"
           }
          ],
          "histogram": [
           {
            "marker": {
             "pattern": {
              "fillmode": "overlay",
              "size": 10,
              "solidity": 0.2
             }
            },
            "type": "histogram"
           }
          ],
          "histogram2d": [
           {
            "colorbar": {
             "outlinewidth": 0,
             "ticks": ""
            },
            "colorscale": [
             [
              0,
              "#0d0887"
             ],
             [
              0.1111111111111111,
              "#46039f"
             ],
             [
              0.2222222222222222,
              "#7201a8"
             ],
             [
              0.3333333333333333,
              "#9c179e"
             ],
             [
              0.4444444444444444,
              "#bd3786"
             ],
             [
              0.5555555555555556,
              "#d8576b"
             ],
             [
              0.6666666666666666,
              "#ed7953"
             ],
             [
              0.7777777777777778,
              "#fb9f3a"
             ],
             [
              0.8888888888888888,
              "#fdca26"
             ],
             [
              1,
              "#f0f921"
             ]
            ],
            "type": "histogram2d"
           }
          ],
          "histogram2dcontour": [
           {
            "colorbar": {
             "outlinewidth": 0,
             "ticks": ""
            },
            "colorscale": [
             [
              0,
              "#0d0887"
             ],
             [
              0.1111111111111111,
              "#46039f"
             ],
             [
              0.2222222222222222,
              "#7201a8"
             ],
             [
              0.3333333333333333,
              "#9c179e"
             ],
             [
              0.4444444444444444,
              "#bd3786"
             ],
             [
              0.5555555555555556,
              "#d8576b"
             ],
             [
              0.6666666666666666,
              "#ed7953"
             ],
             [
              0.7777777777777778,
              "#fb9f3a"
             ],
             [
              0.8888888888888888,
              "#fdca26"
             ],
             [
              1,
              "#f0f921"
             ]
            ],
            "type": "histogram2dcontour"
           }
          ],
          "mesh3d": [
           {
            "colorbar": {
             "outlinewidth": 0,
             "ticks": ""
            },
            "type": "mesh3d"
           }
          ],
          "parcoords": [
           {
            "line": {
             "colorbar": {
              "outlinewidth": 0,
              "ticks": ""
             }
            },
            "type": "parcoords"
           }
          ],
          "pie": [
           {
            "automargin": true,
            "type": "pie"
           }
          ],
          "scatter": [
           {
            "marker": {
             "colorbar": {
              "outlinewidth": 0,
              "ticks": ""
             }
            },
            "type": "scatter"
           }
          ],
          "scatter3d": [
           {
            "line": {
             "colorbar": {
              "outlinewidth": 0,
              "ticks": ""
             }
            },
            "marker": {
             "colorbar": {
              "outlinewidth": 0,
              "ticks": ""
             }
            },
            "type": "scatter3d"
           }
          ],
          "scattercarpet": [
           {
            "marker": {
             "colorbar": {
              "outlinewidth": 0,
              "ticks": ""
             }
            },
            "type": "scattercarpet"
           }
          ],
          "scattergeo": [
           {
            "marker": {
             "colorbar": {
              "outlinewidth": 0,
              "ticks": ""
             }
            },
            "type": "scattergeo"
           }
          ],
          "scattergl": [
           {
            "marker": {
             "colorbar": {
              "outlinewidth": 0,
              "ticks": ""
             }
            },
            "type": "scattergl"
           }
          ],
          "scattermapbox": [
           {
            "marker": {
             "colorbar": {
              "outlinewidth": 0,
              "ticks": ""
             }
            },
            "type": "scattermapbox"
           }
          ],
          "scatterpolar": [
           {
            "marker": {
             "colorbar": {
              "outlinewidth": 0,
              "ticks": ""
             }
            },
            "type": "scatterpolar"
           }
          ],
          "scatterpolargl": [
           {
            "marker": {
             "colorbar": {
              "outlinewidth": 0,
              "ticks": ""
             }
            },
            "type": "scatterpolargl"
           }
          ],
          "scatterternary": [
           {
            "marker": {
             "colorbar": {
              "outlinewidth": 0,
              "ticks": ""
             }
            },
            "type": "scatterternary"
           }
          ],
          "surface": [
           {
            "colorbar": {
             "outlinewidth": 0,
             "ticks": ""
            },
            "colorscale": [
             [
              0,
              "#0d0887"
             ],
             [
              0.1111111111111111,
              "#46039f"
             ],
             [
              0.2222222222222222,
              "#7201a8"
             ],
             [
              0.3333333333333333,
              "#9c179e"
             ],
             [
              0.4444444444444444,
              "#bd3786"
             ],
             [
              0.5555555555555556,
              "#d8576b"
             ],
             [
              0.6666666666666666,
              "#ed7953"
             ],
             [
              0.7777777777777778,
              "#fb9f3a"
             ],
             [
              0.8888888888888888,
              "#fdca26"
             ],
             [
              1,
              "#f0f921"
             ]
            ],
            "type": "surface"
           }
          ],
          "table": [
           {
            "cells": {
             "fill": {
              "color": "#EBF0F8"
             },
             "line": {
              "color": "white"
             }
            },
            "header": {
             "fill": {
              "color": "#C8D4E3"
             },
             "line": {
              "color": "white"
             }
            },
            "type": "table"
           }
          ]
         },
         "layout": {
          "annotationdefaults": {
           "arrowcolor": "#2a3f5f",
           "arrowhead": 0,
           "arrowwidth": 1
          },
          "autotypenumbers": "strict",
          "coloraxis": {
           "colorbar": {
            "outlinewidth": 0,
            "ticks": ""
           }
          },
          "colorscale": {
           "diverging": [
            [
             0,
             "#8e0152"
            ],
            [
             0.1,
             "#c51b7d"
            ],
            [
             0.2,
             "#de77ae"
            ],
            [
             0.3,
             "#f1b6da"
            ],
            [
             0.4,
             "#fde0ef"
            ],
            [
             0.5,
             "#f7f7f7"
            ],
            [
             0.6,
             "#e6f5d0"
            ],
            [
             0.7,
             "#b8e186"
            ],
            [
             0.8,
             "#7fbc41"
            ],
            [
             0.9,
             "#4d9221"
            ],
            [
             1,
             "#276419"
            ]
           ],
           "sequential": [
            [
             0,
             "#0d0887"
            ],
            [
             0.1111111111111111,
             "#46039f"
            ],
            [
             0.2222222222222222,
             "#7201a8"
            ],
            [
             0.3333333333333333,
             "#9c179e"
            ],
            [
             0.4444444444444444,
             "#bd3786"
            ],
            [
             0.5555555555555556,
             "#d8576b"
            ],
            [
             0.6666666666666666,
             "#ed7953"
            ],
            [
             0.7777777777777778,
             "#fb9f3a"
            ],
            [
             0.8888888888888888,
             "#fdca26"
            ],
            [
             1,
             "#f0f921"
            ]
           ],
           "sequentialminus": [
            [
             0,
             "#0d0887"
            ],
            [
             0.1111111111111111,
             "#46039f"
            ],
            [
             0.2222222222222222,
             "#7201a8"
            ],
            [
             0.3333333333333333,
             "#9c179e"
            ],
            [
             0.4444444444444444,
             "#bd3786"
            ],
            [
             0.5555555555555556,
             "#d8576b"
            ],
            [
             0.6666666666666666,
             "#ed7953"
            ],
            [
             0.7777777777777778,
             "#fb9f3a"
            ],
            [
             0.8888888888888888,
             "#fdca26"
            ],
            [
             1,
             "#f0f921"
            ]
           ]
          },
          "colorway": [
           "#636efa",
           "#EF553B",
           "#00cc96",
           "#ab63fa",
           "#FFA15A",
           "#19d3f3",
           "#FF6692",
           "#B6E880",
           "#FF97FF",
           "#FECB52"
          ],
          "font": {
           "color": "#2a3f5f"
          },
          "geo": {
           "bgcolor": "white",
           "lakecolor": "white",
           "landcolor": "#E5ECF6",
           "showlakes": true,
           "showland": true,
           "subunitcolor": "white"
          },
          "hoverlabel": {
           "align": "left"
          },
          "hovermode": "closest",
          "mapbox": {
           "style": "light"
          },
          "paper_bgcolor": "white",
          "plot_bgcolor": "#E5ECF6",
          "polar": {
           "angularaxis": {
            "gridcolor": "white",
            "linecolor": "white",
            "ticks": ""
           },
           "bgcolor": "#E5ECF6",
           "radialaxis": {
            "gridcolor": "white",
            "linecolor": "white",
            "ticks": ""
           }
          },
          "scene": {
           "xaxis": {
            "backgroundcolor": "#E5ECF6",
            "gridcolor": "white",
            "gridwidth": 2,
            "linecolor": "white",
            "showbackground": true,
            "ticks": "",
            "zerolinecolor": "white"
           },
           "yaxis": {
            "backgroundcolor": "#E5ECF6",
            "gridcolor": "white",
            "gridwidth": 2,
            "linecolor": "white",
            "showbackground": true,
            "ticks": "",
            "zerolinecolor": "white"
           },
           "zaxis": {
            "backgroundcolor": "#E5ECF6",
            "gridcolor": "white",
            "gridwidth": 2,
            "linecolor": "white",
            "showbackground": true,
            "ticks": "",
            "zerolinecolor": "white"
           }
          },
          "shapedefaults": {
           "line": {
            "color": "#2a3f5f"
           }
          },
          "ternary": {
           "aaxis": {
            "gridcolor": "white",
            "linecolor": "white",
            "ticks": ""
           },
           "baxis": {
            "gridcolor": "white",
            "linecolor": "white",
            "ticks": ""
           },
           "bgcolor": "#E5ECF6",
           "caxis": {
            "gridcolor": "white",
            "linecolor": "white",
            "ticks": ""
           }
          },
          "title": {
           "x": 0.05
          },
          "xaxis": {
           "automargin": true,
           "gridcolor": "white",
           "linecolor": "white",
           "ticks": "",
           "title": {
            "standoff": 15
           },
           "zerolinecolor": "white",
           "zerolinewidth": 2
          },
          "yaxis": {
           "automargin": true,
           "gridcolor": "white",
           "linecolor": "white",
           "ticks": "",
           "title": {
            "standoff": 15
           },
           "zerolinecolor": "white",
           "zerolinewidth": 2
          }
         }
        },
        "title": {
         "text": "2003 Migration Journeys (by Destination)"
        }
       }
      },
      "text/html": [
       "<div>                            <div id=\"f00ad619-801d-4e00-83b3-6313b6034c28\" class=\"plotly-graph-div\" style=\"height:525px; width:100%;\"></div>            <script type=\"text/javascript\">                require([\"plotly\"], function(Plotly) {                    window.PLOTLYENV=window.PLOTLYENV || {};                                    if (document.getElementById(\"f00ad619-801d-4e00-83b3-6313b6034c28\")) {                    Plotly.newPlot(                        \"f00ad619-801d-4e00-83b3-6313b6034c28\",                        [{\"lat\":[33.0,46.0],\"line\":{\"color\":\"hotpink\",\"width\":2},\"lon\":[66.0,2.0],\"mode\":\"lines\",\"opacity\":0.04809563525159855,\"type\":\"scattergeo\"},{\"lat\":[33.0,54.0],\"line\":{\"color\":\"hotpink\",\"width\":2},\"lon\":[66.0,-4.0],\"mode\":\"lines\",\"opacity\":0.3601612454823464,\"type\":\"scattergeo\"},{\"lat\":[41.0,46.0],\"line\":{\"color\":\"hotpink\",\"width\":2},\"lon\":[20.0,2.0],\"mode\":\"lines\",\"opacity\":0.07700861829302197,\"type\":\"scattergeo\"},{\"lat\":[41.0,54.0],\"line\":{\"color\":\"hotpink\",\"width\":2},\"lon\":[20.0,-4.0],\"mode\":\"lines\",\"opacity\":0.09535724214623297,\"type\":\"scattergeo\"},{\"lat\":[28.0,46.0],\"line\":{\"color\":\"hotpink\",\"width\":2},\"lon\":[3.0,2.0],\"mode\":\"lines\",\"opacity\":0.3794829024186822,\"type\":\"scattergeo\"},{\"lat\":[28.0,54.0],\"line\":{\"color\":\"hotpink\",\"width\":2},\"lon\":[3.0,-4.0],\"mode\":\"lines\",\"opacity\":0.10147345009730331,\"type\":\"scattergeo\"},{\"lat\":[-12.5,46.0],\"line\":{\"color\":\"hotpink\",\"width\":2},\"lon\":[18.5,2.0],\"mode\":\"lines\",\"opacity\":0.19210453155407284,\"type\":\"scattergeo\"},{\"lat\":[-12.5,54.0],\"line\":{\"color\":\"hotpink\",\"width\":2},\"lon\":[18.5,-4.0],\"mode\":\"lines\",\"opacity\":0.16041145398943565,\"type\":\"scattergeo\"},{\"lat\":[-34.0,46.0],\"line\":{\"color\":\"hotpink\",\"width\":2},\"lon\":[-64.0,2.0],\"mode\":\"lines\",\"opacity\":0.00013900472616068947,\"type\":\"scattergeo\"},{\"lat\":[-34.0,54.0],\"line\":{\"color\":\"hotpink\",\"width\":2},\"lon\":[-64.0,-4.0],\"mode\":\"lines\",\"opacity\":0.00013900472616068947,\"type\":\"scattergeo\"},{\"lat\":[40.0,46.0],\"line\":{\"color\":\"hotpink\",\"width\":2},\"lon\":[45.0,2.0],\"mode\":\"lines\",\"opacity\":0.15082012788434807,\"type\":\"scattergeo\"},{\"lat\":[40.0,54.0],\"line\":{\"color\":\"hotpink\",\"width\":2},\"lon\":[45.0,-4.0],\"mode\":\"lines\",\"opacity\":0.008340283569641367,\"type\":\"scattergeo\"},{\"lat\":[-25.0,54.0],\"line\":{\"color\":\"hotpink\",\"width\":2},\"lon\":[135.0,-4.0],\"mode\":\"lines\",\"opacity\":0.00013900472616068947,\"type\":\"scattergeo\"},{\"lat\":[40.5,46.0],\"line\":{\"color\":\"hotpink\",\"width\":2},\"lon\":[47.5,2.0],\"mode\":\"lines\",\"opacity\":0.07061440088963025,\"type\":\"scattergeo\"},{\"lat\":[40.5,54.0],\"line\":{\"color\":\"hotpink\",\"width\":2},\"lon\":[47.5,-4.0],\"mode\":\"lines\",\"opacity\":0.02571587433972755,\"type\":\"scattergeo\"},{\"lat\":[24.0,54.0],\"line\":{\"color\":\"hotpink\",\"width\":2},\"lon\":[-76.0,-4.0],\"mode\":\"lines\",\"opacity\":0.00013900472616068947,\"type\":\"scattergeo\"},{\"lat\":[24.0,46.0],\"line\":{\"color\":\"hotpink\",\"width\":2},\"lon\":[90.0,2.0],\"mode\":\"lines\",\"opacity\":0.13261050875729774,\"type\":\"scattergeo\"},{\"lat\":[24.0,54.0],\"line\":{\"color\":\"hotpink\",\"width\":2},\"lon\":[90.0,-4.0],\"mode\":\"lines\",\"opacity\":0.11398387545176536,\"type\":\"scattergeo\"},{\"lat\":[53.0,46.0],\"line\":{\"color\":\"hotpink\",\"width\":2},\"lon\":[28.0,2.0],\"mode\":\"lines\",\"opacity\":0.03906032805115374,\"type\":\"scattergeo\"},{\"lat\":[53.0,54.0],\"line\":{\"color\":\"hotpink\",\"width\":2},\"lon\":[28.0,-4.0],\"mode\":\"lines\",\"opacity\":0.021684737281067557,\"type\":\"scattergeo\"},{\"lat\":[17.25,54.0],\"line\":{\"color\":\"hotpink\",\"width\":2},\"lon\":[-88.75,-4.0],\"mode\":\"lines\",\"opacity\":0.00013900472616068947,\"type\":\"scattergeo\"},{\"lat\":[9.5,46.0],\"line\":{\"color\":\"hotpink\",\"width\":2},\"lon\":[2.25,2.0],\"mode\":\"lines\",\"opacity\":0.0034751181540172366,\"type\":\"scattergeo\"},{\"lat\":[9.5,54.0],\"line\":{\"color\":\"hotpink\",\"width\":2},\"lon\":[2.25,-4.0],\"mode\":\"lines\",\"opacity\":0.0013900472616068947,\"type\":\"scattergeo\"},{\"lat\":[27.5,46.0],\"line\":{\"color\":\"hotpink\",\"width\":2},\"lon\":[90.5,2.0],\"mode\":\"lines\",\"opacity\":0.0011120378092855157,\"type\":\"scattergeo\"},{\"lat\":[27.5,54.0],\"line\":{\"color\":\"hotpink\",\"width\":2},\"lon\":[90.5,-4.0],\"mode\":\"lines\",\"opacity\":0.008757297748123435,\"type\":\"scattergeo\"},{\"lat\":[-17.0,46.0],\"line\":{\"color\":\"hotpink\",\"width\":2},\"lon\":[-65.0,2.0],\"mode\":\"lines\",\"opacity\":0.0029190992493744786,\"type\":\"scattergeo\"},{\"lat\":[-17.0,54.0],\"line\":{\"color\":\"hotpink\",\"width\":2},\"lon\":[-65.0,-4.0],\"mode\":\"lines\",\"opacity\":0.018765638031693076,\"type\":\"scattergeo\"},{\"lat\":[44.25,46.0],\"line\":{\"color\":\"hotpink\",\"width\":2},\"lon\":[17.833333,2.0],\"mode\":\"lines\",\"opacity\":0.15638031693077564,\"type\":\"scattergeo\"},{\"lat\":[44.25,54.0],\"line\":{\"color\":\"hotpink\",\"width\":2},\"lon\":[17.833333,-4.0],\"mode\":\"lines\",\"opacity\":0.008479288295802058,\"type\":\"scattergeo\"},{\"lat\":[-22.0,54.0],\"line\":{\"color\":\"hotpink\",\"width\":2},\"lon\":[24.0,-4.0],\"mode\":\"lines\",\"opacity\":0.0029190992493744786,\"type\":\"scattergeo\"},{\"lat\":[-10.0,46.0],\"line\":{\"color\":\"hotpink\",\"width\":2},\"lon\":[-55.0,2.0],\"mode\":\"lines\",\"opacity\":0.002363080344731721,\"type\":\"scattergeo\"},{\"lat\":[-10.0,54.0],\"line\":{\"color\":\"hotpink\",\"width\":2},\"lon\":[-55.0,-4.0],\"mode\":\"lines\",\"opacity\":0.005977203224909647,\"type\":\"scattergeo\"},{\"lat\":[43.0,46.0],\"line\":{\"color\":\"hotpink\",\"width\":2},\"lon\":[25.0,2.0],\"mode\":\"lines\",\"opacity\":0.007228245760355852,\"type\":\"scattergeo\"},{\"lat\":[43.0,54.0],\"line\":{\"color\":\"hotpink\",\"width\":2},\"lon\":[25.0,-4.0],\"mode\":\"lines\",\"opacity\":0.0045871559633027525,\"type\":\"scattergeo\"},{\"lat\":[13.0,46.0],\"line\":{\"color\":\"hotpink\",\"width\":2},\"lon\":[-2.0,2.0],\"mode\":\"lines\",\"opacity\":0.004448151237142063,\"type\":\"scattergeo\"},{\"lat\":[13.0,54.0],\"line\":{\"color\":\"hotpink\",\"width\":2},\"lon\":[-2.0,-4.0],\"mode\":\"lines\",\"opacity\":0.0012510425354462051,\"type\":\"scattergeo\"},{\"lat\":[22.0,46.0],\"line\":{\"color\":\"hotpink\",\"width\":2},\"lon\":[98.0,2.0],\"mode\":\"lines\",\"opacity\":0.0025020850708924102,\"type\":\"scattergeo\"},{\"lat\":[22.0,54.0],\"line\":{\"color\":\"hotpink\",\"width\":2},\"lon\":[98.0,-4.0],\"mode\":\"lines\",\"opacity\":0.019738671114817904,\"type\":\"scattergeo\"},{\"lat\":[-3.5,46.0],\"line\":{\"color\":\"hotpink\",\"width\":2},\"lon\":[30.0,2.0],\"mode\":\"lines\",\"opacity\":0.012371420628301362,\"type\":\"scattergeo\"},{\"lat\":[-3.5,54.0],\"line\":{\"color\":\"hotpink\",\"width\":2},\"lon\":[30.0,-4.0],\"mode\":\"lines\",\"opacity\":0.1081456769530164,\"type\":\"scattergeo\"},{\"lat\":[13.0,46.0],\"line\":{\"color\":\"hotpink\",\"width\":2},\"lon\":[105.0,2.0],\"mode\":\"lines\",\"opacity\":0.011398387545176535,\"type\":\"scattergeo\"},{\"lat\":[6.0,46.0],\"line\":{\"color\":\"hotpink\",\"width\":2},\"lon\":[12.0,2.0],\"mode\":\"lines\",\"opacity\":0.11148179038087296,\"type\":\"scattergeo\"},{\"lat\":[6.0,54.0],\"line\":{\"color\":\"hotpink\",\"width\":2},\"lon\":[12.0,-4.0],\"mode\":\"lines\",\"opacity\":0.07367250486516541,\"type\":\"scattergeo\"},{\"lat\":[16.0,46.0],\"line\":{\"color\":\"hotpink\",\"width\":2},\"lon\":[-24.0,2.0],\"mode\":\"lines\",\"opacity\":0.0004170141784820684,\"type\":\"scattergeo\"},{\"lat\":[7.0,46.0],\"line\":{\"color\":\"hotpink\",\"width\":2},\"lon\":[21.0,2.0],\"mode\":\"lines\",\"opacity\":0.05296080066722268,\"type\":\"scattergeo\"},{\"lat\":[7.0,54.0],\"line\":{\"color\":\"hotpink\",\"width\":2},\"lon\":[21.0,-4.0],\"mode\":\"lines\",\"opacity\":0.0015290519877675841,\"type\":\"scattergeo\"},{\"lat\":[15.0,46.0],\"line\":{\"color\":\"hotpink\",\"width\":2},\"lon\":[19.0,2.0],\"mode\":\"lines\",\"opacity\":0.032805115373922715,\"type\":\"scattergeo\"},{\"lat\":[15.0,54.0],\"line\":{\"color\":\"hotpink\",\"width\":2},\"lon\":[19.0,-4.0],\"mode\":\"lines\",\"opacity\":0.004170141784820684,\"type\":\"scattergeo\"},{\"lat\":[-30.0,54.0],\"line\":{\"color\":\"hotpink\",\"width\":2},\"lon\":[-71.0,-4.0],\"mode\":\"lines\",\"opacity\":0.0027800945232137894,\"type\":\"scattergeo\"},{\"lat\":[35.0,46.0],\"line\":{\"color\":\"hotpink\",\"width\":2},\"lon\":[105.0,2.0],\"mode\":\"lines\",\"opacity\":0.7397831526271893,\"type\":\"scattergeo\"},{\"lat\":[35.0,54.0],\"line\":{\"color\":\"hotpink\",\"width\":2},\"lon\":[105.0,-4.0],\"mode\":\"lines\",\"opacity\":0.4855435084792883,\"type\":\"scattergeo\"},{\"lat\":[4.0,46.0],\"line\":{\"color\":\"hotpink\",\"width\":2},\"lon\":[-72.0,2.0],\"mode\":\"lines\",\"opacity\":0.019043647484014457,\"type\":\"scattergeo\"},{\"lat\":[4.0,54.0],\"line\":{\"color\":\"hotpink\",\"width\":2},\"lon\":[-72.0,-4.0],\"mode\":\"lines\",\"opacity\":0.040589380038921326,\"type\":\"scattergeo\"},{\"lat\":[-12.166667,46.0],\"line\":{\"color\":\"hotpink\",\"width\":2},\"lon\":[44.25,2.0],\"mode\":\"lines\",\"opacity\":0.0061162079510703364,\"type\":\"scattergeo\"},{\"lat\":[-12.166667,54.0],\"line\":{\"color\":\"hotpink\",\"width\":2},\"lon\":[44.25,-4.0],\"mode\":\"lines\",\"opacity\":0.0004170141784820684,\"type\":\"scattergeo\"},{\"lat\":[8.0,46.0],\"line\":{\"color\":\"hotpink\",\"width\":2},\"lon\":[-5.0,2.0],\"mode\":\"lines\",\"opacity\":0.1950236308034473,\"type\":\"scattergeo\"},{\"lat\":[8.0,54.0],\"line\":{\"color\":\"hotpink\",\"width\":2},\"lon\":[-5.0,-4.0],\"mode\":\"lines\",\"opacity\":0.06074506533222129,\"type\":\"scattergeo\"},{\"lat\":[45.166667,46.0],\"line\":{\"color\":\"hotpink\",\"width\":2},\"lon\":[15.5,2.0],\"mode\":\"lines\",\"opacity\":0.003892132332499305,\"type\":\"scattergeo\"},{\"lat\":[45.166667,54.0],\"line\":{\"color\":\"hotpink\",\"width\":2},\"lon\":[15.5,-4.0],\"mode\":\"lines\",\"opacity\":0.0027800945232137894,\"type\":\"scattergeo\"},{\"lat\":[22.0,46.0],\"line\":{\"color\":\"hotpink\",\"width\":2},\"lon\":[-79.5,2.0],\"mode\":\"lines\",\"opacity\":0.004031137058659994,\"type\":\"scattergeo\"},{\"lat\":[22.0,54.0],\"line\":{\"color\":\"hotpink\",\"width\":2},\"lon\":[-79.5,-4.0],\"mode\":\"lines\",\"opacity\":0.003197108701695858,\"type\":\"scattergeo\"},{\"lat\":[35.0,54.0],\"line\":{\"color\":\"hotpink\",\"width\":2},\"lon\":[33.0,-4.0],\"mode\":\"lines\",\"opacity\":0.004726160689463442,\"type\":\"scattergeo\"},{\"lat\":[49.75,46.0],\"line\":{\"color\":\"hotpink\",\"width\":2},\"lon\":[15.0,2.0],\"mode\":\"lines\",\"opacity\":0.0008340283569641367,\"type\":\"scattergeo\"},{\"lat\":[49.75,54.0],\"line\":{\"color\":\"hotpink\",\"width\":2},\"lon\":[15.0,-4.0],\"mode\":\"lines\",\"opacity\":0.022101751459549623,\"type\":\"scattergeo\"},{\"lat\":[0.0,46.0],\"line\":{\"color\":\"hotpink\",\"width\":2},\"lon\":[25.0,2.0],\"mode\":\"lines\",\"opacity\":0.96775090353072,\"type\":\"scattergeo\"},{\"lat\":[0.0,54.0],\"line\":{\"color\":\"hotpink\",\"width\":2},\"lon\":[25.0,-4.0],\"mode\":\"lines\",\"opacity\":0.3208229079788713,\"type\":\"scattergeo\"},{\"lat\":[11.5,46.0],\"line\":{\"color\":\"hotpink\",\"width\":2},\"lon\":[42.5,2.0],\"mode\":\"lines\",\"opacity\":0.0027800945232137894,\"type\":\"scattergeo\"},{\"lat\":[-2.0,46.0],\"line\":{\"color\":\"hotpink\",\"width\":2},\"lon\":[-77.5,2.0],\"mode\":\"lines\",\"opacity\":0.013344453711426188,\"type\":\"scattergeo\"},{\"lat\":[-2.0,54.0],\"line\":{\"color\":\"hotpink\",\"width\":2},\"lon\":[-77.5,-4.0],\"mode\":\"lines\",\"opacity\":0.03183208229079789,\"type\":\"scattergeo\"},{\"lat\":[27.0,46.0],\"line\":{\"color\":\"hotpink\",\"width\":2},\"lon\":[30.0,2.0],\"mode\":\"lines\",\"opacity\":0.0034751181540172366,\"type\":\"scattergeo\"},{\"lat\":[27.0,54.0],\"line\":{\"color\":\"hotpink\",\"width\":2},\"lon\":[30.0,-4.0],\"mode\":\"lines\",\"opacity\":0.011537392271337226,\"type\":\"scattergeo\"},{\"lat\":[2.0,54.0],\"line\":{\"color\":\"hotpink\",\"width\":2},\"lon\":[10.0,-4.0],\"mode\":\"lines\",\"opacity\":0.0013900472616068947,\"type\":\"scattergeo\"},{\"lat\":[15.0,46.0],\"line\":{\"color\":\"hotpink\",\"width\":2},\"lon\":[39.0,2.0],\"mode\":\"lines\",\"opacity\":0.0025020850708924102,\"type\":\"scattergeo\"},{\"lat\":[15.0,54.0],\"line\":{\"color\":\"hotpink\",\"width\":2},\"lon\":[39.0,-4.0],\"mode\":\"lines\",\"opacity\":0.14887406171809842,\"type\":\"scattergeo\"},{\"lat\":[59.0,54.0],\"line\":{\"color\":\"hotpink\",\"width\":2},\"lon\":[26.0,-4.0],\"mode\":\"lines\",\"opacity\":0.0019460661662496525,\"type\":\"scattergeo\"},{\"lat\":[8.0,46.0],\"line\":{\"color\":\"hotpink\",\"width\":2},\"lon\":[38.0,2.0],\"mode\":\"lines\",\"opacity\":0.005560189046427579,\"type\":\"scattergeo\"},{\"lat\":[8.0,54.0],\"line\":{\"color\":\"hotpink\",\"width\":2},\"lon\":[38.0,-4.0],\"mode\":\"lines\",\"opacity\":0.09466221851542952,\"type\":\"scattergeo\"},{\"lat\":[-18.0,54.0],\"line\":{\"color\":\"hotpink\",\"width\":2},\"lon\":[178.0,-4.0],\"mode\":\"lines\",\"opacity\":0.00027800945232137893,\"type\":\"scattergeo\"},{\"lat\":[-1.0,46.0],\"line\":{\"color\":\"hotpink\",\"width\":2},\"lon\":[11.75,2.0],\"mode\":\"lines\",\"opacity\":0.0029190992493744786,\"type\":\"scattergeo\"},{\"lat\":[-1.0,54.0],\"line\":{\"color\":\"hotpink\",\"width\":2},\"lon\":[11.75,-4.0],\"mode\":\"lines\",\"opacity\":0.00027800945232137893,\"type\":\"scattergeo\"},{\"lat\":[13.5,46.0],\"line\":{\"color\":\"hotpink\",\"width\":2},\"lon\":[-15.5,2.0],\"mode\":\"lines\",\"opacity\":0.005560189046427579,\"type\":\"scattergeo\"},{\"lat\":[13.5,54.0],\"line\":{\"color\":\"hotpink\",\"width\":2},\"lon\":[-15.5,-4.0],\"mode\":\"lines\",\"opacity\":0.014039477342229635,\"type\":\"scattergeo\"},{\"lat\":[41.999981,46.0],\"line\":{\"color\":\"hotpink\",\"width\":2},\"lon\":[43.499905,2.0],\"mode\":\"lines\",\"opacity\":0.22782874617737003,\"type\":\"scattergeo\"},{\"lat\":[41.999981,54.0],\"line\":{\"color\":\"hotpink\",\"width\":2},\"lon\":[43.499905,-4.0],\"mode\":\"lines\",\"opacity\":0.03266611064776202,\"type\":\"scattergeo\"},{\"lat\":[8.0,46.0],\"line\":{\"color\":\"hotpink\",\"width\":2},\"lon\":[-2.0,2.0],\"mode\":\"lines\",\"opacity\":0.013761467889908258,\"type\":\"scattergeo\"},{\"lat\":[8.0,54.0],\"line\":{\"color\":\"hotpink\",\"width\":2},\"lon\":[-2.0,-4.0],\"mode\":\"lines\",\"opacity\":0.05004170141784821,\"type\":\"scattergeo\"},{\"lat\":[15.5,54.0],\"line\":{\"color\":\"hotpink\",\"width\":2},\"lon\":[-90.25,-4.0],\"mode\":\"lines\",\"opacity\":0.0015290519877675841,\"type\":\"scattergeo\"},{\"lat\":[11.0,46.0],\"line\":{\"color\":\"hotpink\",\"width\":2},\"lon\":[-10.0,2.0],\"mode\":\"lines\",\"opacity\":0.11189880455935501,\"type\":\"scattergeo\"},{\"lat\":[11.0,54.0],\"line\":{\"color\":\"hotpink\",\"width\":2},\"lon\":[-10.0,-4.0],\"mode\":\"lines\",\"opacity\":0.031971087016958576,\"type\":\"scattergeo\"},{\"lat\":[12.0,46.0],\"line\":{\"color\":\"hotpink\",\"width\":2},\"lon\":[-15.0,2.0],\"mode\":\"lines\",\"opacity\":0.019877675840978593,\"type\":\"scattergeo\"},{\"lat\":[12.0,54.0],\"line\":{\"color\":\"hotpink\",\"width\":2},\"lon\":[-15.0,-4.0],\"mode\":\"lines\",\"opacity\":0.0029190992493744786,\"type\":\"scattergeo\"},{\"lat\":[5.0,46.0],\"line\":{\"color\":\"hotpink\",\"width\":2},\"lon\":[-59.0,2.0],\"mode\":\"lines\",\"opacity\":0.006255212677231026,\"type\":\"scattergeo\"},{\"lat\":[5.0,54.0],\"line\":{\"color\":\"hotpink\",\"width\":2},\"lon\":[-59.0,-4.0],\"mode\":\"lines\",\"opacity\":0.0026410897970531,\"type\":\"scattergeo\"},{\"lat\":[19.0,46.0],\"line\":{\"color\":\"hotpink\",\"width\":2},\"lon\":[-72.416667,2.0],\"mode\":\"lines\",\"opacity\":0.2046149569085349,\"type\":\"scattergeo\"},{\"lat\":[15.0,54.0],\"line\":{\"color\":\"hotpink\",\"width\":2},\"lon\":[-86.5,-4.0],\"mode\":\"lines\",\"opacity\":0.0005560189046427579,\"type\":\"scattergeo\"},{\"lat\":[22.25,54.0],\"line\":{\"color\":\"hotpink\",\"width\":2},\"lon\":[114.166667,-4.0],\"mode\":\"lines\",\"opacity\":0.0004170141784820684,\"type\":\"scattergeo\"},{\"lat\":[47.0,54.0],\"line\":{\"color\":\"hotpink\",\"width\":2},\"lon\":[20.0,-4.0],\"mode\":\"lines\",\"opacity\":0.0026410897970531,\"type\":\"scattergeo\"},{\"lat\":[20.0,46.0],\"line\":{\"color\":\"hotpink\",\"width\":2},\"lon\":[77.0,2.0],\"mode\":\"lines\",\"opacity\":0.11412288017792604,\"type\":\"scattergeo\"},{\"lat\":[20.0,54.0],\"line\":{\"color\":\"hotpink\",\"width\":2},\"lon\":[77.0,-4.0],\"mode\":\"lines\",\"opacity\":0.3351403947734223,\"type\":\"scattergeo\"},{\"lat\":[-5.0,54.0],\"line\":{\"color\":\"hotpink\",\"width\":2},\"lon\":[120.0,-4.0],\"mode\":\"lines\",\"opacity\":0.002363080344731721,\"type\":\"scattergeo\"},{\"lat\":[32.0,46.0],\"line\":{\"color\":\"hotpink\",\"width\":2},\"lon\":[53.0,2.0],\"mode\":\"lines\",\"opacity\":0.022935779816513763,\"type\":\"scattergeo\"},{\"lat\":[32.0,54.0],\"line\":{\"color\":\"hotpink\",\"width\":2},\"lon\":[53.0,-4.0],\"mode\":\"lines\",\"opacity\":0.48609952738393103,\"type\":\"scattergeo\"},{\"lat\":[33.0,46.0],\"line\":{\"color\":\"hotpink\",\"width\":2},\"lon\":[44.0,2.0],\"mode\":\"lines\",\"opacity\":0.07673060884070058,\"type\":\"scattergeo\"},{\"lat\":[33.0,54.0],\"line\":{\"color\":\"hotpink\",\"width\":2},\"lon\":[44.0,-4.0],\"mode\":\"lines\",\"opacity\":0.5960522657770364,\"type\":\"scattergeo\"},{\"lat\":[31.5,46.0],\"line\":{\"color\":\"hotpink\",\"width\":2},\"lon\":[34.75,2.0],\"mode\":\"lines\",\"opacity\":0.0012510425354462051,\"type\":\"scattergeo\"},{\"lat\":[31.5,54.0],\"line\":{\"color\":\"hotpink\",\"width\":2},\"lon\":[34.75,-4.0],\"mode\":\"lines\",\"opacity\":0.007228245760355852,\"type\":\"scattergeo\"},{\"lat\":[18.25,54.0],\"line\":{\"color\":\"hotpink\",\"width\":2},\"lon\":[-77.5,-4.0],\"mode\":\"lines\",\"opacity\":0.15512927439532945,\"type\":\"scattergeo\"},{\"lat\":[36.0,54.0],\"line\":{\"color\":\"hotpink\",\"width\":2},\"lon\":[138.0,-4.0],\"mode\":\"lines\",\"opacity\":0.00013900472616068947,\"type\":\"scattergeo\"},{\"lat\":[31.0,54.0],\"line\":{\"color\":\"hotpink\",\"width\":2},\"lon\":[36.0,-4.0],\"mode\":\"lines\",\"opacity\":0.002085070892410342,\"type\":\"scattergeo\"},{\"lat\":[48.0,46.0],\"line\":{\"color\":\"hotpink\",\"width\":2},\"lon\":[68.0,2.0],\"mode\":\"lines\",\"opacity\":0.0184876285793717,\"type\":\"scattergeo\"},{\"lat\":[48.0,54.0],\"line\":{\"color\":\"hotpink\",\"width\":2},\"lon\":[68.0,-4.0],\"mode\":\"lines\",\"opacity\":0.0012510425354462051,\"type\":\"scattergeo\"},{\"lat\":[1.0,54.0],\"line\":{\"color\":\"hotpink\",\"width\":2},\"lon\":[38.0,-4.0],\"mode\":\"lines\",\"opacity\":0.0369752571587434,\"type\":\"scattergeo\"},{\"lat\":[29.5,54.0],\"line\":{\"color\":\"hotpink\",\"width\":2},\"lon\":[47.75,-4.0],\"mode\":\"lines\",\"opacity\":0.009730330831248262,\"type\":\"scattergeo\"},{\"lat\":[41.0,46.0],\"line\":{\"color\":\"hotpink\",\"width\":2},\"lon\":[75.0,2.0],\"mode\":\"lines\",\"opacity\":0.011815401723658605,\"type\":\"scattergeo\"},{\"lat\":[41.0,54.0],\"line\":{\"color\":\"hotpink\",\"width\":2},\"lon\":[75.0,-4.0],\"mode\":\"lines\",\"opacity\":0.004031137058659994,\"type\":\"scattergeo\"},{\"lat\":[18.0,54.0],\"line\":{\"color\":\"hotpink\",\"width\":2},\"lon\":[105.0,-4.0],\"mode\":\"lines\",\"opacity\":0.00013900472616068947,\"type\":\"scattergeo\"},{\"lat\":[57.0,46.0],\"line\":{\"color\":\"hotpink\",\"width\":2},\"lon\":[25.0,2.0],\"mode\":\"lines\",\"opacity\":0.00013900472616068947,\"type\":\"scattergeo\"},{\"lat\":[57.0,54.0],\"line\":{\"color\":\"hotpink\",\"width\":2},\"lon\":[25.0,-4.0],\"mode\":\"lines\",\"opacity\":0.00514317486794551,\"type\":\"scattergeo\"},{\"lat\":[33.833333,46.0],\"line\":{\"color\":\"hotpink\",\"width\":2},\"lon\":[35.833333,2.0],\"mode\":\"lines\",\"opacity\":0.00514317486794551,\"type\":\"scattergeo\"},{\"lat\":[33.833333,54.0],\"line\":{\"color\":\"hotpink\",\"width\":2},\"lon\":[35.833333,-4.0],\"mode\":\"lines\",\"opacity\":0.04267445093133167,\"type\":\"scattergeo\"},{\"lat\":[6.5,46.0],\"line\":{\"color\":\"hotpink\",\"width\":2},\"lon\":[-9.5,2.0],\"mode\":\"lines\",\"opacity\":0.03753127606338615,\"type\":\"scattergeo\"},{\"lat\":[6.5,54.0],\"line\":{\"color\":\"hotpink\",\"width\":2},\"lon\":[-9.5,-4.0],\"mode\":\"lines\",\"opacity\":0.10842368640533778,\"type\":\"scattergeo\"},{\"lat\":[25.0,46.0],\"line\":{\"color\":\"hotpink\",\"width\":2},\"lon\":[17.0,2.0],\"mode\":\"lines\",\"opacity\":0.0013900472616068947,\"type\":\"scattergeo\"},{\"lat\":[25.0,54.0],\"line\":{\"color\":\"hotpink\",\"width\":2},\"lon\":[17.0,-4.0],\"mode\":\"lines\",\"opacity\":0.03058103975535168,\"type\":\"scattergeo\"},{\"lat\":[56.0,46.0],\"line\":{\"color\":\"hotpink\",\"width\":2},\"lon\":[24.0,2.0],\"mode\":\"lines\",\"opacity\":0.0026410897970531,\"type\":\"scattergeo\"},{\"lat\":[56.0,54.0],\"line\":{\"color\":\"hotpink\",\"width\":2},\"lon\":[24.0,-4.0],\"mode\":\"lines\",\"opacity\":0.010981373366694467,\"type\":\"scattergeo\"},{\"lat\":[41.833333,46.0],\"line\":{\"color\":\"hotpink\",\"width\":2},\"lon\":[22.0,2.0],\"mode\":\"lines\",\"opacity\":0.03739227133722547,\"type\":\"scattergeo\"},{\"lat\":[41.833333,54.0],\"line\":{\"color\":\"hotpink\",\"width\":2},\"lon\":[22.0,-4.0],\"mode\":\"lines\",\"opacity\":0.010703363914373088,\"type\":\"scattergeo\"},{\"lat\":[-20.0,46.0],\"line\":{\"color\":\"hotpink\",\"width\":2},\"lon\":[47.0,2.0],\"mode\":\"lines\",\"opacity\":0.055184876285793716,\"type\":\"scattergeo\"},{\"lat\":[-13.5,54.0],\"line\":{\"color\":\"hotpink\",\"width\":2},\"lon\":[34.0,-4.0],\"mode\":\"lines\",\"opacity\":0.024742841256602723,\"type\":\"scattergeo\"},{\"lat\":[2.5,54.0],\"line\":{\"color\":\"hotpink\",\"width\":2},\"lon\":[112.5,-4.0],\"mode\":\"lines\",\"opacity\":0.003892132332499305,\"type\":\"scattergeo\"},{\"lat\":[3.2,54.0],\"line\":{\"color\":\"hotpink\",\"width\":2},\"lon\":[73.0,-4.0],\"mode\":\"lines\",\"opacity\":0.00027800945232137893,\"type\":\"scattergeo\"},{\"lat\":[17.0,46.0],\"line\":{\"color\":\"hotpink\",\"width\":2},\"lon\":[-4.0,2.0],\"mode\":\"lines\",\"opacity\":0.17097581317764804,\"type\":\"scattergeo\"},{\"lat\":[17.0,54.0],\"line\":{\"color\":\"hotpink\",\"width\":2},\"lon\":[-4.0,-4.0],\"mode\":\"lines\",\"opacity\":0.0004170141784820684,\"type\":\"scattergeo\"},{\"lat\":[20.0,46.0],\"line\":{\"color\":\"hotpink\",\"width\":2},\"lon\":[-12.0,2.0],\"mode\":\"lines\",\"opacity\":0.3286071726438699,\"type\":\"scattergeo\"},{\"lat\":[20.0,54.0],\"line\":{\"color\":\"hotpink\",\"width\":2},\"lon\":[-12.0,-4.0],\"mode\":\"lines\",\"opacity\":0.0005560189046427579,\"type\":\"scattergeo\"},{\"lat\":[-20.3,46.0],\"line\":{\"color\":\"hotpink\",\"width\":2},\"lon\":[57.583333,2.0],\"mode\":\"lines\",\"opacity\":0.0027800945232137894,\"type\":\"scattergeo\"},{\"lat\":[-20.3,54.0],\"line\":{\"color\":\"hotpink\",\"width\":2},\"lon\":[57.583333,-4.0],\"mode\":\"lines\",\"opacity\":0.0025020850708924102,\"type\":\"scattergeo\"},{\"lat\":[23.0,54.0],\"line\":{\"color\":\"hotpink\",\"width\":2},\"lon\":[-102.0,-4.0],\"mode\":\"lines\",\"opacity\":0.00027800945232137893,\"type\":\"scattergeo\"},{\"lat\":[47.0,46.0],\"line\":{\"color\":\"hotpink\",\"width\":2},\"lon\":[29.0,2.0],\"mode\":\"lines\",\"opacity\":0.2597998331943286,\"type\":\"scattergeo\"},{\"lat\":[47.0,54.0],\"line\":{\"color\":\"hotpink\",\"width\":2},\"lon\":[29.0,-4.0],\"mode\":\"lines\",\"opacity\":0.05740895190436475,\"type\":\"scattergeo\"},{\"lat\":[46.0,46.0],\"line\":{\"color\":\"hotpink\",\"width\":2},\"lon\":[105.0,2.0],\"mode\":\"lines\",\"opacity\":0.06324715040311371,\"type\":\"scattergeo\"},{\"lat\":[46.0,54.0],\"line\":{\"color\":\"hotpink\",\"width\":2},\"lon\":[105.0,-4.0],\"mode\":\"lines\",\"opacity\":0.03892132332499305,\"type\":\"scattergeo\"},{\"lat\":[32.0,46.0],\"line\":{\"color\":\"hotpink\",\"width\":2},\"lon\":[-5.0,2.0],\"mode\":\"lines\",\"opacity\":0.006394217403391716,\"type\":\"scattergeo\"},{\"lat\":[32.0,54.0],\"line\":{\"color\":\"hotpink\",\"width\":2},\"lon\":[-5.0,-4.0],\"mode\":\"lines\",\"opacity\":0.0037531276063386154,\"type\":\"scattergeo\"},{\"lat\":[-18.25,54.0],\"line\":{\"color\":\"hotpink\",\"width\":2},\"lon\":[35.0,-4.0],\"mode\":\"lines\",\"opacity\":0.0012510425354462051,\"type\":\"scattergeo\"},{\"lat\":[-22.0,54.0],\"line\":{\"color\":\"hotpink\",\"width\":2},\"lon\":[17.0,-4.0],\"mode\":\"lines\",\"opacity\":0.00027800945232137893,\"type\":\"scattergeo\"},{\"lat\":[28.0,46.0],\"line\":{\"color\":\"hotpink\",\"width\":2},\"lon\":[84.0,2.0],\"mode\":\"lines\",\"opacity\":0.002085070892410342,\"type\":\"scattergeo\"},{\"lat\":[28.0,54.0],\"line\":{\"color\":\"hotpink\",\"width\":2},\"lon\":[84.0,-4.0],\"mode\":\"lines\",\"opacity\":0.03183208229079789,\"type\":\"scattergeo\"},{\"lat\":[13.0,54.0],\"line\":{\"color\":\"hotpink\",\"width\":2},\"lon\":[-85.0,-4.0],\"mode\":\"lines\",\"opacity\":0.0005560189046427579,\"type\":\"scattergeo\"},{\"lat\":[16.0,46.0],\"line\":{\"color\":\"hotpink\",\"width\":2},\"lon\":[8.0,2.0],\"mode\":\"lines\",\"opacity\":0.004448151237142063,\"type\":\"scattergeo\"},{\"lat\":[16.0,54.0],\"line\":{\"color\":\"hotpink\",\"width\":2},\"lon\":[8.0,-4.0],\"mode\":\"lines\",\"opacity\":0.0009730330831248262,\"type\":\"scattergeo\"},{\"lat\":[10.0,46.0],\"line\":{\"color\":\"hotpink\",\"width\":2},\"lon\":[8.0,2.0],\"mode\":\"lines\",\"opacity\":0.1729218793438977,\"type\":\"scattergeo\"},{\"lat\":[10.0,54.0],\"line\":{\"color\":\"hotpink\",\"width\":2},\"lon\":[8.0,-4.0],\"mode\":\"lines\",\"opacity\":0.15457325549068668,\"type\":\"scattergeo\"},{\"lat\":[40.0,54.0],\"line\":{\"color\":\"hotpink\",\"width\":2},\"lon\":[127.0,-4.0],\"mode\":\"lines\",\"opacity\":0.002085070892410342,\"type\":\"scattergeo\"},{\"lat\":[21.0,54.0],\"line\":{\"color\":\"hotpink\",\"width\":2},\"lon\":[57.0,-4.0],\"mode\":\"lines\",\"opacity\":0.0006950236308034474,\"type\":\"scattergeo\"},{\"lat\":[30.0,46.0],\"line\":{\"color\":\"hotpink\",\"width\":2},\"lon\":[70.0,2.0],\"mode\":\"lines\",\"opacity\":0.10494856825132054,\"type\":\"scattergeo\"},{\"lat\":[30.0,54.0],\"line\":{\"color\":\"hotpink\",\"width\":2},\"lon\":[70.0,-4.0],\"mode\":\"lines\",\"opacity\":0.436891854323047,\"type\":\"scattergeo\"},{\"lat\":[31.666667,46.0],\"line\":{\"color\":\"hotpink\",\"width\":2},\"lon\":[35.25,2.0],\"mode\":\"lines\",\"opacity\":0.007506255212677231,\"type\":\"scattergeo\"},{\"lat\":[31.666667,54.0],\"line\":{\"color\":\"hotpink\",\"width\":2},\"lon\":[35.25,-4.0],\"mode\":\"lines\",\"opacity\":0.0658882402001668,\"type\":\"scattergeo\"},{\"lat\":[9.0,54.0],\"line\":{\"color\":\"hotpink\",\"width\":2},\"lon\":[-80.0,-4.0],\"mode\":\"lines\",\"opacity\":0.00013900472616068947,\"type\":\"scattergeo\"},{\"lat\":[-22.993333,54.0],\"line\":{\"color\":\"hotpink\",\"width\":2},\"lon\":[-57.996389,-4.0],\"mode\":\"lines\",\"opacity\":0.0004170141784820684,\"type\":\"scattergeo\"},{\"lat\":[-10.0,46.0],\"line\":{\"color\":\"hotpink\",\"width\":2},\"lon\":[-76.0,2.0],\"mode\":\"lines\",\"opacity\":0.009174311926605505,\"type\":\"scattergeo\"},{\"lat\":[-10.0,54.0],\"line\":{\"color\":\"hotpink\",\"width\":2},\"lon\":[-76.0,-4.0],\"mode\":\"lines\",\"opacity\":0.0008340283569641367,\"type\":\"scattergeo\"},{\"lat\":[13.0,54.0],\"line\":{\"color\":\"hotpink\",\"width\":2},\"lon\":[122.0,-4.0],\"mode\":\"lines\",\"opacity\":0.0016680567139282735,\"type\":\"scattergeo\"},{\"lat\":[52.0,46.0],\"line\":{\"color\":\"hotpink\",\"width\":2},\"lon\":[20.0,2.0],\"mode\":\"lines\",\"opacity\":0.001807061440088963,\"type\":\"scattergeo\"},{\"lat\":[52.0,54.0],\"line\":{\"color\":\"hotpink\",\"width\":2},\"lon\":[20.0,-4.0],\"mode\":\"lines\",\"opacity\":0.016958576591604116,\"type\":\"scattergeo\"},{\"lat\":[25.5,54.0],\"line\":{\"color\":\"hotpink\",\"width\":2},\"lon\":[51.25,-4.0],\"mode\":\"lines\",\"opacity\":0.00013900472616068947,\"type\":\"scattergeo\"},{\"lat\":[46.0,46.0],\"line\":{\"color\":\"hotpink\",\"width\":2},\"lon\":[25.0,2.0],\"mode\":\"lines\",\"opacity\":0.01793160967472894,\"type\":\"scattergeo\"},{\"lat\":[46.0,54.0],\"line\":{\"color\":\"hotpink\",\"width\":2},\"lon\":[25.0,-4.0],\"mode\":\"lines\",\"opacity\":0.11092577147623019,\"type\":\"scattergeo\"},{\"lat\":[60.0,46.0],\"line\":{\"color\":\"hotpink\",\"width\":2},\"lon\":[100.0,2.0],\"mode\":\"lines\",\"opacity\":0.45190436474840145,\"type\":\"scattergeo\"},{\"lat\":[60.0,54.0],\"line\":{\"color\":\"hotpink\",\"width\":2},\"lon\":[100.0,-4.0],\"mode\":\"lines\",\"opacity\":0.05726994717820406,\"type\":\"scattergeo\"},{\"lat\":[-2.0,46.0],\"line\":{\"color\":\"hotpink\",\"width\":2},\"lon\":[30.0,2.0],\"mode\":\"lines\",\"opacity\":0.06074506533222129,\"type\":\"scattergeo\"},{\"lat\":[-2.0,54.0],\"line\":{\"color\":\"hotpink\",\"width\":2},\"lon\":[30.0,-4.0],\"mode\":\"lines\",\"opacity\":0.04448151237142063,\"type\":\"scattergeo\"},{\"lat\":[1.0,54.0],\"line\":{\"color\":\"hotpink\",\"width\":2},\"lon\":[7.0,-4.0],\"mode\":\"lines\",\"opacity\":0.00013900472616068947,\"type\":\"scattergeo\"},{\"lat\":[25.0,54.0],\"line\":{\"color\":\"hotpink\",\"width\":2},\"lon\":[45.0,-4.0],\"mode\":\"lines\",\"opacity\":0.0015290519877675841,\"type\":\"scattergeo\"},{\"lat\":[14.0,46.0],\"line\":{\"color\":\"hotpink\",\"width\":2},\"lon\":[-14.0,2.0],\"mode\":\"lines\",\"opacity\":0.045037531276063386,\"type\":\"scattergeo\"},{\"lat\":[14.0,54.0],\"line\":{\"color\":\"hotpink\",\"width\":2},\"lon\":[-14.0,-4.0],\"mode\":\"lines\",\"opacity\":0.004309146510981373,\"type\":\"scattergeo\"},{\"lat\":[44.0,46.0],\"line\":{\"color\":\"hotpink\",\"width\":2},\"lon\":[21.0,2.0],\"mode\":\"lines\",\"opacity\":0.35696413678065053,\"type\":\"scattergeo\"},{\"lat\":[44.0,54.0],\"line\":{\"color\":\"hotpink\",\"width\":2},\"lon\":[21.0,-4.0],\"mode\":\"lines\",\"opacity\":0.15749235474006115,\"type\":\"scattergeo\"},{\"lat\":[-4.583333,54.0],\"line\":{\"color\":\"hotpink\",\"width\":2},\"lon\":[55.666667,-4.0],\"mode\":\"lines\",\"opacity\":0.0013900472616068947,\"type\":\"scattergeo\"},{\"lat\":[8.5,46.0],\"line\":{\"color\":\"hotpink\",\"width\":2},\"lon\":[-11.5,2.0],\"mode\":\"lines\",\"opacity\":0.05337781484570475,\"type\":\"scattergeo\"},{\"lat\":[8.5,54.0],\"line\":{\"color\":\"hotpink\",\"width\":2},\"lon\":[-11.5,-4.0],\"mode\":\"lines\",\"opacity\":0.0567139282735613,\"type\":\"scattergeo\"},{\"lat\":[1.366667,54.0],\"line\":{\"color\":\"hotpink\",\"width\":2},\"lon\":[103.8,-4.0],\"mode\":\"lines\",\"opacity\":0.0005560189046427579,\"type\":\"scattergeo\"},{\"lat\":[48.666667,46.0],\"line\":{\"color\":\"hotpink\",\"width\":2},\"lon\":[19.5,2.0],\"mode\":\"lines\",\"opacity\":0.014039477342229635,\"type\":\"scattergeo\"},{\"lat\":[48.666667,54.0],\"line\":{\"color\":\"hotpink\",\"width\":2},\"lon\":[19.5,-4.0],\"mode\":\"lines\",\"opacity\":0.003197108701695858,\"type\":\"scattergeo\"},{\"lat\":[-8.0,54.0],\"line\":{\"color\":\"hotpink\",\"width\":2},\"lon\":[159.0,-4.0],\"mode\":\"lines\",\"opacity\":0.00027800945232137893,\"type\":\"scattergeo\"},{\"lat\":[6.0,46.0],\"line\":{\"color\":\"hotpink\",\"width\":2},\"lon\":[48.0,2.0],\"mode\":\"lines\",\"opacity\":0.01890464275785377,\"type\":\"scattergeo\"},{\"lat\":[6.0,54.0],\"line\":{\"color\":\"hotpink\",\"width\":2},\"lon\":[48.0,-4.0],\"mode\":\"lines\",\"opacity\":1.0,\"type\":\"scattergeo\"},{\"lat\":[-30.0,54.0],\"line\":{\"color\":\"hotpink\",\"width\":2},\"lon\":[26.0,-4.0],\"mode\":\"lines\",\"opacity\":0.044898526549902694,\"type\":\"scattergeo\"},{\"lat\":[37.0,54.0],\"line\":{\"color\":\"hotpink\",\"width\":2},\"lon\":[127.5,-4.0],\"mode\":\"lines\",\"opacity\":0.00027800945232137893,\"type\":\"scattergeo\"},{\"lat\":[7.0,46.0],\"line\":{\"color\":\"hotpink\",\"width\":2},\"lon\":[81.0,2.0],\"mode\":\"lines\",\"opacity\":0.28996385877119824,\"type\":\"scattergeo\"},{\"lat\":[7.0,54.0],\"line\":{\"color\":\"hotpink\",\"width\":2},\"lon\":[81.0,-4.0],\"mode\":\"lines\",\"opacity\":0.11259382819015847,\"type\":\"scattergeo\"},{\"lat\":[16.0,46.0],\"line\":{\"color\":\"hotpink\",\"width\":2},\"lon\":[30.0,2.0],\"mode\":\"lines\",\"opacity\":0.05587989991659716,\"type\":\"scattergeo\"},{\"lat\":[16.0,54.0],\"line\":{\"color\":\"hotpink\",\"width\":2},\"lon\":[30.0,-4.0],\"mode\":\"lines\",\"opacity\":0.14609396719488463,\"type\":\"scattergeo\"},{\"lat\":[-26.5,54.0],\"line\":{\"color\":\"hotpink\",\"width\":2},\"lon\":[31.5,-4.0],\"mode\":\"lines\",\"opacity\":0.0009730330831248262,\"type\":\"scattergeo\"},{\"lat\":[35.0,46.0],\"line\":{\"color\":\"hotpink\",\"width\":2},\"lon\":[38.0,2.0],\"mode\":\"lines\",\"opacity\":0.006811231581873784,\"type\":\"scattergeo\"},{\"lat\":[35.0,54.0],\"line\":{\"color\":\"hotpink\",\"width\":2},\"lon\":[38.0,-4.0],\"mode\":\"lines\",\"opacity\":0.021684737281067557,\"type\":\"scattergeo\"},{\"lat\":[39.0,46.0],\"line\":{\"color\":\"hotpink\",\"width\":2},\"lon\":[71.0,2.0],\"mode\":\"lines\",\"opacity\":0.0019460661662496525,\"type\":\"scattergeo\"},{\"lat\":[39.0,54.0],\"line\":{\"color\":\"hotpink\",\"width\":2},\"lon\":[71.0,-4.0],\"mode\":\"lines\",\"opacity\":0.0006950236308034474,\"type\":\"scattergeo\"},{\"lat\":[-6.0,54.0],\"line\":{\"color\":\"hotpink\",\"width\":2},\"lon\":[35.0,-4.0],\"mode\":\"lines\",\"opacity\":0.0050041701417848205,\"type\":\"scattergeo\"},{\"lat\":[15.0,46.0],\"line\":{\"color\":\"hotpink\",\"width\":2},\"lon\":[100.0,2.0],\"mode\":\"lines\",\"opacity\":0.005977203224909647,\"type\":\"scattergeo\"},{\"lat\":[15.0,54.0],\"line\":{\"color\":\"hotpink\",\"width\":2},\"lon\":[100.0,-4.0],\"mode\":\"lines\",\"opacity\":0.0008340283569641367,\"type\":\"scattergeo\"},{\"lat\":[8.0,46.0],\"line\":{\"color\":\"hotpink\",\"width\":2},\"lon\":[1.166667,2.0],\"mode\":\"lines\",\"opacity\":0.056435918821239925,\"type\":\"scattergeo\"},{\"lat\":[8.0,54.0],\"line\":{\"color\":\"hotpink\",\"width\":2},\"lon\":[1.166667,-4.0],\"mode\":\"lines\",\"opacity\":0.012232415902140673,\"type\":\"scattergeo\"},{\"lat\":[11.0,54.0],\"line\":{\"color\":\"hotpink\",\"width\":2},\"lon\":[-61.0,-4.0],\"mode\":\"lines\",\"opacity\":0.0019460661662496525,\"type\":\"scattergeo\"},{\"lat\":[34.0,46.0],\"line\":{\"color\":\"hotpink\",\"width\":2},\"lon\":[9.0,2.0],\"mode\":\"lines\",\"opacity\":0.0052821795941062,\"type\":\"scattergeo\"},{\"lat\":[34.0,54.0],\"line\":{\"color\":\"hotpink\",\"width\":2},\"lon\":[9.0,-4.0],\"mode\":\"lines\",\"opacity\":0.0026410897970531,\"type\":\"scattergeo\"},{\"lat\":[39.059012,46.0],\"line\":{\"color\":\"hotpink\",\"width\":2},\"lon\":[34.911546,2.0],\"mode\":\"lines\",\"opacity\":0.9895746455379483,\"type\":\"scattergeo\"},{\"lat\":[39.059012,54.0],\"line\":{\"color\":\"hotpink\",\"width\":2},\"lon\":[34.911546,-4.0],\"mode\":\"lines\",\"opacity\":0.41590214067278286,\"type\":\"scattergeo\"},{\"lat\":[40.0,54.0],\"line\":{\"color\":\"hotpink\",\"width\":2},\"lon\":[60.0,-4.0],\"mode\":\"lines\",\"opacity\":0.0030581039755351682,\"type\":\"scattergeo\"},{\"lat\":[2.0,54.0],\"line\":{\"color\":\"hotpink\",\"width\":2},\"lon\":[33.0,-4.0],\"mode\":\"lines\",\"opacity\":0.10758965804837364,\"type\":\"scattergeo\"},{\"lat\":[49.0,46.0],\"line\":{\"color\":\"hotpink\",\"width\":2},\"lon\":[32.0,2.0],\"mode\":\"lines\",\"opacity\":0.10731164859605227,\"type\":\"scattergeo\"},{\"lat\":[49.0,54.0],\"line\":{\"color\":\"hotpink\",\"width\":2},\"lon\":[32.0,-4.0],\"mode\":\"lines\",\"opacity\":0.04684459271615235,\"type\":\"scattergeo\"},{\"lat\":[24.0,54.0],\"line\":{\"color\":\"hotpink\",\"width\":2},\"lon\":[54.0,-4.0],\"mode\":\"lines\",\"opacity\":0.0011120378092855157,\"type\":\"scattergeo\"},{\"lat\":[41.707542,46.0],\"line\":{\"color\":\"hotpink\",\"width\":2},\"lon\":[63.84911,2.0],\"mode\":\"lines\",\"opacity\":0.012093411175979984,\"type\":\"scattergeo\"},{\"lat\":[41.707542,54.0],\"line\":{\"color\":\"hotpink\",\"width\":2},\"lon\":[63.84911,-4.0],\"mode\":\"lines\",\"opacity\":0.003336113427856547,\"type\":\"scattergeo\"},{\"lat\":[8.0,54.0],\"line\":{\"color\":\"hotpink\",\"width\":2},\"lon\":[-66.0,-4.0],\"mode\":\"lines\",\"opacity\":0.0026410897970531,\"type\":\"scattergeo\"},{\"lat\":[16.166667,46.0],\"line\":{\"color\":\"hotpink\",\"width\":2},\"lon\":[107.833333,2.0],\"mode\":\"lines\",\"opacity\":0.010425354462051709,\"type\":\"scattergeo\"},{\"lat\":[16.166667,54.0],\"line\":{\"color\":\"hotpink\",\"width\":2},\"lon\":[107.833333,-4.0],\"mode\":\"lines\",\"opacity\":0.1636085626911315,\"type\":\"scattergeo\"},{\"lat\":[15.5,54.0],\"line\":{\"color\":\"hotpink\",\"width\":2},\"lon\":[47.5,-4.0],\"mode\":\"lines\",\"opacity\":0.021406727828746176,\"type\":\"scattergeo\"},{\"lat\":[-15.0,54.0],\"line\":{\"color\":\"hotpink\",\"width\":2},\"lon\":[30.0,-4.0],\"mode\":\"lines\",\"opacity\":0.0026410897970531,\"type\":\"scattergeo\"},{\"lat\":[-19.0,46.0],\"line\":{\"color\":\"hotpink\",\"width\":2},\"lon\":[29.0,2.0],\"mode\":\"lines\",\"opacity\":0.0016680567139282735,\"type\":\"scattergeo\"},{\"lat\":[-19.0,54.0],\"line\":{\"color\":\"hotpink\",\"width\":2},\"lon\":[29.0,-4.0],\"mode\":\"lines\",\"opacity\":0.5585209897136503,\"type\":\"scattergeo\"},{\"hoverinfo\":\"text\",\"lat\":[33.0,41.0,28.0,-14.3333333,42.5,-12.5,18.216667,17.05,-34.0,40.0,12.5,-15.95,-12.416667,-25.0,47.333333,40.5,24.0,26.0,24.0,13.166667,-21.416667,53.0,50.833333,17.25,9.5,32.333333,27.5,-17.0,12.2,44.25,-22.0,-54.433333,-10.0,-6.0,18.5,4.5,43.0,13.0,22.0,-3.5,13.0,6.0,60.0,16.0,19.5,7.0,15.0,-30.0,35.0,-10.5,10.283333,-12.0,4.0,-12.166667,-16.083333,-17.5,10.0,8.0,45.166667,22.0,12.166667,35.0,49.75,0.0,56.0,11.5,15.5,19.0,-2.0,27.0,13.833333,2.0,15.0,59.0,8.0,-22.333333,-51.75,62.0,5.0,-18.0,64.0,46.0,4.0,-15.0,-43.0,-1.0,13.5,31.425074,41.999981,51.5,8.0,36.133333,-11.5,39.0,72.0,12.116667,16.25,13.4444444,15.5,49.583333,11.0,12.0,5.0,19.0,-53.0,15.0,22.25,47.0,65.0,20.0,-5.0,32.0,33.0,53.0,54.25,31.5,42.833333,18.25,36.0,49.216667,31.0,-17.05833,48.0,1.0,-5.0,42.583333,29.5,41.0,18.0,57.0,33.833333,-29.5,6.5,25.0,47.166667,56.0,49.75,22.157778,41.833333,-20.0,-13.5,2.5,3.2,17.0,35.916667,10.0,14.666667,20.0,-20.3,-12.833333,23.0,47.0,43.733333,46.0,42.5,16.75,32.0,-18.25,-22.0,-0.533333,28.0,52.5,-21.5,-42.0,13.0,16.0,10.0,-19.033333,-29.033333,40.0,16.0,62.0,21.0,30.0,6.0,9.0,-6.0,-22.993333,-10.0,13.0,-25.066667,52.0,39.5,18.2482882,25.5,-1.0,-21.1,46.0,60.0,-2.0,17.9,17.333333,13.883333,18.075,46.833333,13.083333,-13.803096,43.933333,1.0,25.0,14.0,44.0,-4.583333,8.5,1.366667,18.04167,48.666667,46.25,-8.0,6.0,-30.0,-56.0,37.0,8.0,40.0,7.0,16.0,4.0,78.0,-26.5,62.0,47.0,35.0,24.0,39.0,-6.0,15.0,-8.833333,8.0,-9.0,-20.0,11.0,-15.866667,34.0,39.059012,40.0,21.733333,-8.0,2.0,49.0,24.0,54.0,39.828175,-33.0,5.8811111,18.3482891,41.707542,-16.0,41.9,8.0,16.166667,-13.3,31.666667,25.0,15.5,-15.0,-19.0],\"locationmode\":\"country names\",\"lon\":[66.0,20.0,3.0,-170.0,1.5,18.5,-63.05,-61.8,-64.0,45.0,-69.966667,-5.7,123.333333,135.0,13.333333,47.5,-76.0,50.5,90.0,-59.533333,39.7,28.0,4.0,-88.75,2.25,-64.75,90.5,-65.0,-68.25,17.833333,24.0,3.4,-55.0,72.0,-64.5,114.666667,25.0,-2.0,98.0,30.0,105.0,12.0,-96.0,-24.0,-80.666667,21.0,19.0,-71.0,105.0,105.666667,-109.216667,96.833333,-72.0,44.25,-161.583333,151.0,-84.0,-5.0,15.5,-79.5,-69.0,33.0,15.0,25.0,10.0,42.5,-61.333333,-70.666667,-77.5,30.0,-88.916667,10.0,39.0,26.0,38.0,40.366667,-59.166667,-7.0,152.0,178.0,26.0,2.0,-53.0,-140.0,67.0,11.75,-15.5,34.373398,43.499905,10.5,-2.0,-5.35,47.333333,22.0,-40.0,-61.666667,-61.583333,144.7366667,-90.25,-2.333333,-10.0,-15.0,-59.0,-72.416667,73.0,-86.5,114.166667,20.0,-18.0,77.0,120.0,53.0,44.0,-8.0,-4.5,34.75,12.833333,-77.5,138.0,-2.116667,36.0,42.71667,68.0,38.0,-170.0,21.0,47.75,75.0,105.0,25.0,35.833333,28.25,-9.5,17.0,9.533333,24.0,6.166667,113.559722,22.0,47.0,34.0,112.5,73.0,-4.0,14.433333,167.0,-61.0,-12.0,57.583333,45.166667,-102.0,29.0,7.4,105.0,19.3,-62.2,-5.0,35.0,17.0,166.916667,84.0,5.75,165.5,174.0,-85.0,8.0,8.0,-169.866667,167.95,127.0,146.0,10.0,57.0,70.0,134.0,-80.0,147.0,-57.996389,-76.0,122.0,-130.1,20.0,-8.0,-66.4998941,51.25,15.0,55.6,25.0,100.0,30.0,-62.833333,-62.75,-60.966667,-63.05833,-56.333333,-61.2,-172.178309,12.416667,7.0,45.0,-14.0,21.0,55.666667,-11.5,103.8,-63.06667,19.5,15.166667,159.0,48.0,26.0,-33.0,127.5,30.0,-4.0,81.0,30.0,-56.0,20.0,31.5,15.0,8.0,38.0,121.0,71.0,35.0,100.0,125.75,1.166667,-171.75,-175.0,-61.0,54.416667,9.0,34.911546,60.0,-71.583333,178.0,33.0,32.0,54.0,-4.0,-98.5795,-56.0,-162.0725,-64.9834807,63.84911,167.0,12.45,-66.0,107.833333,-176.2,35.25,-13.5,47.5,30.0,29.0],\"marker\":{\"color\":\"rgb(156, 81, 182)\",\"line\":{\"color\":\"rgba(68, 68, 68, 0)\",\"width\":3},\"size\":2},\"mode\":\"markers\",\"text\":[\"Afghanistan\",\"Albania\",\"Algeria\",\"American Samoa\",\"Andorra\",\"Angola\",\"Anguilla\",\"Antigua and Barbuda\",\"Argentina\",\"Armenia\",\"Aruba\",\"Ascension\",\"Ashmore and Cartier Islands\",\"Australia\",\"Austria\",\"Azerbaijan\",\"Bahamas\",\"Bahrain\",\"Bangladesh\",\"Barbados\",\"Bassas da India\",\"Belarus\",\"Belgium\",\"Belize\",\"Benin\",\"Bermuda\",\"Bhutan\",\"Bolivia\",\"Bonaire\",\"Bosnia and Herzegovina\",\"Botswana\",\"Bouvet Island\",\"Brazil\",\"British Indian Ocean Territory\",\"British Virgin Islands\",\"Brunei\",\"Bulgaria\",\"Burkina Faso\",\"Burma\",\"Burundi\",\"Cambodia\",\"Cameroon\",\"Canada\",\"Cape Verde\",\"Cayman Islands\",\"Central African Republic\",\"Chad\",\"Chile\",\"China\",\"Christmas Island\",\"Clipperton Island\",\"Cocos (Keeling) Islands\",\"Colombia\",\"Comoros\",\"Cook Islands\",\"Coral Sea Islands\",\"Costa Rica\",\"Cote d'Ivoire\",\"Croatia\",\"Cuba\",\"Cura\\u00e7ao\",\"Cyprus\",\"Czech Republic\",\"Democratic Republic of the Congo\",\"Denmark\",\"Djibouti\",\"Dominica\",\"Dominican Republic\",\"Ecuador\",\"Egypt\",\"El Salvador\",\"Equatorial Guinea\",\"Eritrea\",\"Estonia\",\"Ethiopia\",\"Europa Island\",\"Falkland Islands\",\"Faroe Islands\",\"Federated States of Micronesia\",\"Fiji\",\"Finland\",\"France\",\"French Guiana\",\"French Polynesia\",\"French Southern and Antarctic Lands\",\"Gabon\",\"Gambia\",\"Gaza Strip\",\"Georgia\",\"Germany\",\"Ghana\",\"Gibraltar\",\"Glorioso Islands\",\"Greece\",\"Greenland\",\"Grenada\",\"Guadeloupe\",\"Guam\",\"Guatemala\",\"Guernsey\",\"Guinea\",\"Guinea-Bissau\",\"Guyana\",\"Haiti\",\"Heard Island and McDonald Islands\",\"Honduras\",\"Hong Kong\",\"Hungary\",\"Iceland\",\"India\",\"Indonesia\",\"Iran\",\"Iraq\",\"Ireland\",\"Isle of Man\",\"Israel\",\"Italy\",\"Jamaica\",\"Japan\",\"Jersey\",\"Jordan\",\"Juan de Nova Island\",\"Kazakhstan\",\"Kenya\",\"Kiribati\",\"Kosovo\",\"Kuwait\",\"Kyrgyzstan\",\"Laos\",\"Latvia\",\"Lebanon\",\"Lesotho\",\"Liberia\",\"Libya\",\"Liechtenstein\",\"Lithuania\",\"Luxembourg\",\"Macau\",\"Macedonia\",\"Madagascar\",\"Malawi\",\"Malaysia\",\"Maldives\",\"Mali\",\"Malta\",\"Marshall Islands\",\"Martinique\",\"Mauritania\",\"Mauritius\",\"Mayotte\",\"Mexico\",\"Moldova\",\"Monaco\",\"Mongolia\",\"Montenegro\",\"Montserrat\",\"Morocco\",\"Mozambique\",\"Namibia\",\"Nauru\",\"Nepal\",\"Netherlands\",\"New Caledonia\",\"New Zealand\",\"Nicaragua\",\"Niger\",\"Nigeria\",\"Niue\",\"Norfolk Island\",\"North Korea\",\"Northern Mariana Islands\",\"Norway\",\"Oman\",\"Pakistan\",\"Palau\",\"Panama\",\"Papua New Guinea\",\"Paraguay\",\"Peru\",\"Philippines\",\"Pitcairn Islands\",\"Poland\",\"Portugal\",\"Puerto Rico\",\"Qatar\",\"Republic of the Congo\",\"Reunion\",\"Romania\",\"Russia\",\"Rwanda\",\"Saint Barthelemy\",\"Saint Kitts and Nevis\",\"Saint Lucia\",\"Saint Martin\",\"Saint Pierre and Miquelon\",\"Saint Vincent and the Grenadines\",\"Samoa\",\"San Marino\",\"Sao Tome and Principe\",\"Saudi Arabia\",\"Senegal\",\"Serbia\",\"Seychelles\",\"Sierra Leone\",\"Singapore\",\"Sint Maarten\",\"Slovakia\",\"Slovenia\",\"Solomon Islands\",\"Somalia\",\"South Africa\",\"South Georgia and South Sandwich Islands\",\"South Korea\",\"South Sudan\",\"Spain\",\"Sri Lanka\",\"Sudan\",\"Suriname\",\"Svalbard\",\"Swaziland\",\"Sweden\",\"Switzerland\",\"Syria\",\"Taiwan\",\"Tajikistan\",\"Tanzania\",\"Thailand\",\"Timor-Leste\",\"Togo\",\"Tokelau\",\"Tonga\",\"Trinidad and Tobago\",\"Tromelin Island\",\"Tunisia\",\"Turkey\",\"Turkmenistan\",\"Turks and Caicos Islands\",\"Tuvalu\",\"Uganda\",\"Ukraine\",\"United Arab Emirates\",\"United Kingdom\",\"United States\",\"Uruguay\",\"US Minor Outlying Islands\",\"US Virgin Islands\",\"Uzbekistan\",\"Vanuatu\",\"Vatican City\",\"Venezuela\",\"Vietnam\",\"Wallis and Futuna\",\"West Bank\",\"Western Sahara\",\"Yemen\",\"Zambia\",\"Zimbabwe\"],\"type\":\"scattergeo\"}],                        {\"geo\":{\"countrycolor\":\"rgb(204, 204, 204)\",\"landcolor\":\"rgb(243, 243, 243)\",\"projection\":{\"type\":\"equirectangular\"},\"showcoastlines\":true,\"showframe\":false,\"showland\":true},\"showlegend\":false,\"template\":{\"data\":{\"barpolar\":[{\"marker\":{\"line\":{\"color\":\"#E5ECF6\",\"width\":0.5},\"pattern\":{\"fillmode\":\"overlay\",\"size\":10,\"solidity\":0.2}},\"type\":\"barpolar\"}],\"bar\":[{\"error_x\":{\"color\":\"#2a3f5f\"},\"error_y\":{\"color\":\"#2a3f5f\"},\"marker\":{\"line\":{\"color\":\"#E5ECF6\",\"width\":0.5},\"pattern\":{\"fillmode\":\"overlay\",\"size\":10,\"solidity\":0.2}},\"type\":\"bar\"}],\"carpet\":[{\"aaxis\":{\"endlinecolor\":\"#2a3f5f\",\"gridcolor\":\"white\",\"linecolor\":\"white\",\"minorgridcolor\":\"white\",\"startlinecolor\":\"#2a3f5f\"},\"baxis\":{\"endlinecolor\":\"#2a3f5f\",\"gridcolor\":\"white\",\"linecolor\":\"white\",\"minorgridcolor\":\"white\",\"startlinecolor\":\"#2a3f5f\"},\"type\":\"carpet\"}],\"choropleth\":[{\"colorbar\":{\"outlinewidth\":0,\"ticks\":\"\"},\"type\":\"choropleth\"}],\"contourcarpet\":[{\"colorbar\":{\"outlinewidth\":0,\"ticks\":\"\"},\"type\":\"contourcarpet\"}],\"contour\":[{\"colorbar\":{\"outlinewidth\":0,\"ticks\":\"\"},\"colorscale\":[[0.0,\"#0d0887\"],[0.1111111111111111,\"#46039f\"],[0.2222222222222222,\"#7201a8\"],[0.3333333333333333,\"#9c179e\"],[0.4444444444444444,\"#bd3786\"],[0.5555555555555556,\"#d8576b\"],[0.6666666666666666,\"#ed7953\"],[0.7777777777777778,\"#fb9f3a\"],[0.8888888888888888,\"#fdca26\"],[1.0,\"#f0f921\"]],\"type\":\"contour\"}],\"heatmapgl\":[{\"colorbar\":{\"outlinewidth\":0,\"ticks\":\"\"},\"colorscale\":[[0.0,\"#0d0887\"],[0.1111111111111111,\"#46039f\"],[0.2222222222222222,\"#7201a8\"],[0.3333333333333333,\"#9c179e\"],[0.4444444444444444,\"#bd3786\"],[0.5555555555555556,\"#d8576b\"],[0.6666666666666666,\"#ed7953\"],[0.7777777777777778,\"#fb9f3a\"],[0.8888888888888888,\"#fdca26\"],[1.0,\"#f0f921\"]],\"type\":\"heatmapgl\"}],\"heatmap\":[{\"colorbar\":{\"outlinewidth\":0,\"ticks\":\"\"},\"colorscale\":[[0.0,\"#0d0887\"],[0.1111111111111111,\"#46039f\"],[0.2222222222222222,\"#7201a8\"],[0.3333333333333333,\"#9c179e\"],[0.4444444444444444,\"#bd3786\"],[0.5555555555555556,\"#d8576b\"],[0.6666666666666666,\"#ed7953\"],[0.7777777777777778,\"#fb9f3a\"],[0.8888888888888888,\"#fdca26\"],[1.0,\"#f0f921\"]],\"type\":\"heatmap\"}],\"histogram2dcontour\":[{\"colorbar\":{\"outlinewidth\":0,\"ticks\":\"\"},\"colorscale\":[[0.0,\"#0d0887\"],[0.1111111111111111,\"#46039f\"],[0.2222222222222222,\"#7201a8\"],[0.3333333333333333,\"#9c179e\"],[0.4444444444444444,\"#bd3786\"],[0.5555555555555556,\"#d8576b\"],[0.6666666666666666,\"#ed7953\"],[0.7777777777777778,\"#fb9f3a\"],[0.8888888888888888,\"#fdca26\"],[1.0,\"#f0f921\"]],\"type\":\"histogram2dcontour\"}],\"histogram2d\":[{\"colorbar\":{\"outlinewidth\":0,\"ticks\":\"\"},\"colorscale\":[[0.0,\"#0d0887\"],[0.1111111111111111,\"#46039f\"],[0.2222222222222222,\"#7201a8\"],[0.3333333333333333,\"#9c179e\"],[0.4444444444444444,\"#bd3786\"],[0.5555555555555556,\"#d8576b\"],[0.6666666666666666,\"#ed7953\"],[0.7777777777777778,\"#fb9f3a\"],[0.8888888888888888,\"#fdca26\"],[1.0,\"#f0f921\"]],\"type\":\"histogram2d\"}],\"histogram\":[{\"marker\":{\"pattern\":{\"fillmode\":\"overlay\",\"size\":10,\"solidity\":0.2}},\"type\":\"histogram\"}],\"mesh3d\":[{\"colorbar\":{\"outlinewidth\":0,\"ticks\":\"\"},\"type\":\"mesh3d\"}],\"parcoords\":[{\"line\":{\"colorbar\":{\"outlinewidth\":0,\"ticks\":\"\"}},\"type\":\"parcoords\"}],\"pie\":[{\"automargin\":true,\"type\":\"pie\"}],\"scatter3d\":[{\"line\":{\"colorbar\":{\"outlinewidth\":0,\"ticks\":\"\"}},\"marker\":{\"colorbar\":{\"outlinewidth\":0,\"ticks\":\"\"}},\"type\":\"scatter3d\"}],\"scattercarpet\":[{\"marker\":{\"colorbar\":{\"outlinewidth\":0,\"ticks\":\"\"}},\"type\":\"scattercarpet\"}],\"scattergeo\":[{\"marker\":{\"colorbar\":{\"outlinewidth\":0,\"ticks\":\"\"}},\"type\":\"scattergeo\"}],\"scattergl\":[{\"marker\":{\"colorbar\":{\"outlinewidth\":0,\"ticks\":\"\"}},\"type\":\"scattergl\"}],\"scattermapbox\":[{\"marker\":{\"colorbar\":{\"outlinewidth\":0,\"ticks\":\"\"}},\"type\":\"scattermapbox\"}],\"scatterpolargl\":[{\"marker\":{\"colorbar\":{\"outlinewidth\":0,\"ticks\":\"\"}},\"type\":\"scatterpolargl\"}],\"scatterpolar\":[{\"marker\":{\"colorbar\":{\"outlinewidth\":0,\"ticks\":\"\"}},\"type\":\"scatterpolar\"}],\"scatter\":[{\"marker\":{\"colorbar\":{\"outlinewidth\":0,\"ticks\":\"\"}},\"type\":\"scatter\"}],\"scatterternary\":[{\"marker\":{\"colorbar\":{\"outlinewidth\":0,\"ticks\":\"\"}},\"type\":\"scatterternary\"}],\"surface\":[{\"colorbar\":{\"outlinewidth\":0,\"ticks\":\"\"},\"colorscale\":[[0.0,\"#0d0887\"],[0.1111111111111111,\"#46039f\"],[0.2222222222222222,\"#7201a8\"],[0.3333333333333333,\"#9c179e\"],[0.4444444444444444,\"#bd3786\"],[0.5555555555555556,\"#d8576b\"],[0.6666666666666666,\"#ed7953\"],[0.7777777777777778,\"#fb9f3a\"],[0.8888888888888888,\"#fdca26\"],[1.0,\"#f0f921\"]],\"type\":\"surface\"}],\"table\":[{\"cells\":{\"fill\":{\"color\":\"#EBF0F8\"},\"line\":{\"color\":\"white\"}},\"header\":{\"fill\":{\"color\":\"#C8D4E3\"},\"line\":{\"color\":\"white\"}},\"type\":\"table\"}]},\"layout\":{\"annotationdefaults\":{\"arrowcolor\":\"#2a3f5f\",\"arrowhead\":0,\"arrowwidth\":1},\"autotypenumbers\":\"strict\",\"coloraxis\":{\"colorbar\":{\"outlinewidth\":0,\"ticks\":\"\"}},\"colorscale\":{\"diverging\":[[0,\"#8e0152\"],[0.1,\"#c51b7d\"],[0.2,\"#de77ae\"],[0.3,\"#f1b6da\"],[0.4,\"#fde0ef\"],[0.5,\"#f7f7f7\"],[0.6,\"#e6f5d0\"],[0.7,\"#b8e186\"],[0.8,\"#7fbc41\"],[0.9,\"#4d9221\"],[1,\"#276419\"]],\"sequential\":[[0.0,\"#0d0887\"],[0.1111111111111111,\"#46039f\"],[0.2222222222222222,\"#7201a8\"],[0.3333333333333333,\"#9c179e\"],[0.4444444444444444,\"#bd3786\"],[0.5555555555555556,\"#d8576b\"],[0.6666666666666666,\"#ed7953\"],[0.7777777777777778,\"#fb9f3a\"],[0.8888888888888888,\"#fdca26\"],[1.0,\"#f0f921\"]],\"sequentialminus\":[[0.0,\"#0d0887\"],[0.1111111111111111,\"#46039f\"],[0.2222222222222222,\"#7201a8\"],[0.3333333333333333,\"#9c179e\"],[0.4444444444444444,\"#bd3786\"],[0.5555555555555556,\"#d8576b\"],[0.6666666666666666,\"#ed7953\"],[0.7777777777777778,\"#fb9f3a\"],[0.8888888888888888,\"#fdca26\"],[1.0,\"#f0f921\"]]},\"colorway\":[\"#636efa\",\"#EF553B\",\"#00cc96\",\"#ab63fa\",\"#FFA15A\",\"#19d3f3\",\"#FF6692\",\"#B6E880\",\"#FF97FF\",\"#FECB52\"],\"font\":{\"color\":\"#2a3f5f\"},\"geo\":{\"bgcolor\":\"white\",\"lakecolor\":\"white\",\"landcolor\":\"#E5ECF6\",\"showlakes\":true,\"showland\":true,\"subunitcolor\":\"white\"},\"hoverlabel\":{\"align\":\"left\"},\"hovermode\":\"closest\",\"mapbox\":{\"style\":\"light\"},\"paper_bgcolor\":\"white\",\"plot_bgcolor\":\"#E5ECF6\",\"polar\":{\"angularaxis\":{\"gridcolor\":\"white\",\"linecolor\":\"white\",\"ticks\":\"\"},\"bgcolor\":\"#E5ECF6\",\"radialaxis\":{\"gridcolor\":\"white\",\"linecolor\":\"white\",\"ticks\":\"\"}},\"scene\":{\"xaxis\":{\"backgroundcolor\":\"#E5ECF6\",\"gridcolor\":\"white\",\"gridwidth\":2,\"linecolor\":\"white\",\"showbackground\":true,\"ticks\":\"\",\"zerolinecolor\":\"white\"},\"yaxis\":{\"backgroundcolor\":\"#E5ECF6\",\"gridcolor\":\"white\",\"gridwidth\":2,\"linecolor\":\"white\",\"showbackground\":true,\"ticks\":\"\",\"zerolinecolor\":\"white\"},\"zaxis\":{\"backgroundcolor\":\"#E5ECF6\",\"gridcolor\":\"white\",\"gridwidth\":2,\"linecolor\":\"white\",\"showbackground\":true,\"ticks\":\"\",\"zerolinecolor\":\"white\"}},\"shapedefaults\":{\"line\":{\"color\":\"#2a3f5f\"}},\"ternary\":{\"aaxis\":{\"gridcolor\":\"white\",\"linecolor\":\"white\",\"ticks\":\"\"},\"baxis\":{\"gridcolor\":\"white\",\"linecolor\":\"white\",\"ticks\":\"\"},\"bgcolor\":\"#E5ECF6\",\"caxis\":{\"gridcolor\":\"white\",\"linecolor\":\"white\",\"ticks\":\"\"}},\"title\":{\"x\":0.05},\"xaxis\":{\"automargin\":true,\"gridcolor\":\"white\",\"linecolor\":\"white\",\"ticks\":\"\",\"title\":{\"standoff\":15},\"zerolinecolor\":\"white\",\"zerolinewidth\":2},\"yaxis\":{\"automargin\":true,\"gridcolor\":\"white\",\"linecolor\":\"white\",\"ticks\":\"\",\"title\":{\"standoff\":15},\"zerolinecolor\":\"white\",\"zerolinewidth\":2}}},\"title\":{\"text\":\"2003 Migration Journeys (by Destination)\"}},                        {\"responsive\": true}                    ).then(function(){\n",
       "                            \n",
       "var gd = document.getElementById('f00ad619-801d-4e00-83b3-6313b6034c28');\n",
       "var x = new MutationObserver(function (mutations, observer) {{\n",
       "        var display = window.getComputedStyle(gd).display;\n",
       "        if (!display || display === 'none') {{\n",
       "            console.log([gd, 'removed!']);\n",
       "            Plotly.purge(gd);\n",
       "            observer.disconnect();\n",
       "        }}\n",
       "}});\n",
       "\n",
       "// Listen for the removal of the full notebook cells\n",
       "var notebookContainer = gd.closest('#notebook-container');\n",
       "if (notebookContainer) {{\n",
       "    x.observe(notebookContainer, {childList: true});\n",
       "}}\n",
       "\n",
       "// Listen for the clearing of the current output cell\n",
       "var outputEl = gd.closest('.output');\n",
       "if (outputEl) {{\n",
       "    x.observe(outputEl, {childList: true});\n",
       "}}\n",
       "\n",
       "                        })                };                });            </script>        </div>"
      ]
     },
     "metadata": {},
     "output_type": "display_data"
    }
   ],
   "source": [
    "# Take user input\n",
    "num_countries_dest = int(input('Please enter the number of countries you want to analyse.\\nIt must fall between 1-257.\\n \\n '))\n",
    "year_dest = int(input('Please enter the year you want to analyse.\\nIt must fall between 1999-2017.\\n \\n '))\n",
    "\n",
    "# Find the defined number of most common origins in the defined year\n",
    "df_dest = migratory_patterns_compiled[migratory_patterns_compiled['Year'] == year_dest]\n",
    "df_new = df_dest[['Year', 'Destination', 'Value']]\n",
    "df_new = df_new.groupby(['Destination', 'Year'], axis = 0, as_index=False).sum()\n",
    "df_new = df_new.sort_values(by=['Value'], ascending = False)\n",
    "df_new = df_new.head(num_countries_dest)\n",
    "df_dest_list = df_new['Destination'].tolist()\n",
    "\n",
    "# Filter to only include the defined number\n",
    "df_dest = df_dest[df_dest['Destination'].isin(df_dest_list)]\n",
    "df_dest = df_dest.reset_index(drop = True)\n",
    "\n",
    "# Print statement\n",
    "print('\\n \\nThe ' + str(num_countries_dest) + ' most common destination in ' + str(year_dest) + ' were:', df_dest['Destination'].unique())\n",
    "\n",
    "paths_dest = [] # Empty array for migration paths\n",
    "\n",
    "# Iterate through the filtered dataset\n",
    "for i in range(len(df_dest)):\n",
    "    \n",
    "    paths_dest.append(dict(type = 'scattergeo',\n",
    "                             lon = [df_dest['origin_lon'][i], df_dest['dest_lon'][i]], # Add longitude\n",
    "                             lat = [df_dest['origin_lat'][i], df_dest['dest_lat'][i]], # Add latitude\n",
    "                             mode = 'lines', line = dict(width = 2, color = 'hotpink'), # Add colour and width information\n",
    "                             opacity = float(df_dest['Value'][i])/float(df_dest['Value'].max()))) # Normalise opacity\n",
    "    \n",
    "layout = dict(title = str(str(year_dest) + ' Migration Journeys (by Destination)'), showlegend = False, \n",
    "                geo = dict(showframe = False, showcoastlines = True,\n",
    "                projection = dict(type = 'equirectangular'), showland = True,\n",
    "                landcolor = 'rgb(243, 243, 243)', countrycolor = 'rgb(204, 204, 204)'))\n",
    "\n",
    "# Plot migration patterns \n",
    "fig = dict(data = paths_dest + countries, layout = layout ) \n",
    "py.iplot(fig)"
   ]
  },
  {
   "cell_type": "markdown",
   "id": "8fc7ef7d",
   "metadata": {},
   "source": [
    "# Migration Patterns by Origin"
   ]
  },
  {
   "cell_type": "code",
   "execution_count": 13,
   "id": "92d1ede9",
   "metadata": {},
   "outputs": [
    {
     "name": "stdout",
     "output_type": "stream",
     "text": [
      "Please enter the number of countries you want to analyse.\n",
      "It must fall between 1-257.\n",
      " \n",
      " 2\n",
      "Please enter the year you want to analyse.\n",
      "It must fall between 1999-2017.\n",
      " \n",
      " 2004\n",
      "\n",
      " \n",
      "The 2 most common origins in 2004 were: ['Russia' 'Serbia']\n"
     ]
    },
    {
     "data": {
      "application/vnd.plotly.v1+json": {
       "config": {
        "linkText": "Export to plot.ly",
        "plotlyServerURL": "https://plot.ly",
        "showLink": false
       },
       "data": [
        {
         "lat": [
          60,
          -25
         ],
         "line": {
          "color": "hotpink",
          "width": 2
         },
         "lon": [
          100,
          135
         ],
         "mode": "lines",
         "opacity": 0.003342618384401114,
         "type": "scattergeo"
        },
        {
         "lat": [
          60,
          47.333333
         ],
         "line": {
          "color": "hotpink",
          "width": 2
         },
         "lon": [
          100,
          13.333333
         ],
         "mode": "lines",
         "opacity": 0.8614206128133705,
         "type": "scattergeo"
        },
        {
         "lat": [
          60,
          50.833333
         ],
         "line": {
          "color": "hotpink",
          "width": 2
         },
         "lon": [
          100,
          4
         ],
         "mode": "lines",
         "opacity": 0.18955431754874652,
         "type": "scattergeo"
        },
        {
         "lat": [
          60,
          43
         ],
         "line": {
          "color": "hotpink",
          "width": 2
         },
         "lon": [
          100,
          25
         ],
         "mode": "lines",
         "opacity": 0.001392757660167131,
         "type": "scattergeo"
        },
        {
         "lat": [
          60,
          60
         ],
         "line": {
          "color": "hotpink",
          "width": 2
         },
         "lon": [
          100,
          -96
         ],
         "mode": "lines",
         "opacity": 0.023259052924791086,
         "type": "scattergeo"
        },
        {
         "lat": [
          60,
          45.166667
         ],
         "line": {
          "color": "hotpink",
          "width": 2
         },
         "lon": [
          100,
          15.5
         ],
         "mode": "lines",
         "opacity": 0.0006963788300835655,
         "type": "scattergeo"
        },
        {
         "lat": [
          60,
          35
         ],
         "line": {
          "color": "hotpink",
          "width": 2
         },
         "lon": [
          100,
          33
         ],
         "mode": "lines",
         "opacity": 0.08607242339832868,
         "type": "scattergeo"
        },
        {
         "lat": [
          60,
          49.75
         ],
         "line": {
          "color": "hotpink",
          "width": 2
         },
         "lon": [
          100,
          15
         ],
         "mode": "lines",
         "opacity": 0.20877437325905293,
         "type": "scattergeo"
        },
        {
         "lat": [
          60,
          56
         ],
         "line": {
          "color": "hotpink",
          "width": 2
         },
         "lon": [
          100,
          10
         ],
         "mode": "lines",
         "opacity": 0.022701949860724234,
         "type": "scattergeo"
        },
        {
         "lat": [
          60,
          64
         ],
         "line": {
          "color": "hotpink",
          "width": 2
         },
         "lon": [
          100,
          26
         ],
         "mode": "lines",
         "opacity": 0.02924791086350975,
         "type": "scattergeo"
        },
        {
         "lat": [
          60,
          46
         ],
         "line": {
          "color": "hotpink",
          "width": 2
         },
         "lon": [
          100,
          2
         ],
         "mode": "lines",
         "opacity": 0.46392757660167133,
         "type": "scattergeo"
        },
        {
         "lat": [
          60,
          51.5
         ],
         "line": {
          "color": "hotpink",
          "width": 2
         },
         "lon": [
          100,
          10.5
         ],
         "mode": "lines",
         "opacity": 0.38537604456824515,
         "type": "scattergeo"
        },
        {
         "lat": [
          60,
          39
         ],
         "line": {
          "color": "hotpink",
          "width": 2
         },
         "lon": [
          100,
          22
         ],
         "mode": "lines",
         "opacity": 0.019220055710306407,
         "type": "scattergeo"
        },
        {
         "lat": [
          60,
          47
         ],
         "line": {
          "color": "hotpink",
          "width": 2
         },
         "lon": [
          100,
          20
         ],
         "mode": "lines",
         "opacity": 0.005710306406685237,
         "type": "scattergeo"
        },
        {
         "lat": [
          60,
          65
         ],
         "line": {
          "color": "hotpink",
          "width": 2
         },
         "lon": [
          100,
          -18
         ],
         "mode": "lines",
         "opacity": 0.00041782729805013927,
         "type": "scattergeo"
        },
        {
         "lat": [
          60,
          53
         ],
         "line": {
          "color": "hotpink",
          "width": 2
         },
         "lon": [
          100,
          -8
         ],
         "mode": "lines",
         "opacity": 0.008635097493036212,
         "type": "scattergeo"
        },
        {
         "lat": [
          60,
          36
         ],
         "line": {
          "color": "hotpink",
          "width": 2
         },
         "lon": [
          100,
          138
         ],
         "mode": "lines",
         "opacity": 0.0002785515320334262,
         "type": "scattergeo"
        },
        {
         "lat": [
          60,
          47.166667
         ],
         "line": {
          "color": "hotpink",
          "width": 2
         },
         "lon": [
          100,
          9.533333
         ],
         "mode": "lines",
         "opacity": 0.0012534818941504179,
         "type": "scattergeo"
        },
        {
         "lat": [
          60,
          56
         ],
         "line": {
          "color": "hotpink",
          "width": 2
         },
         "lon": [
          100,
          24
         ],
         "mode": "lines",
         "opacity": 0.011420612813370474,
         "type": "scattergeo"
        },
        {
         "lat": [
          60,
          49.75
         ],
         "line": {
          "color": "hotpink",
          "width": 2
         },
         "lon": [
          100,
          6.166667
         ],
         "mode": "lines",
         "opacity": 0.009192200557103064,
         "type": "scattergeo"
        },
        {
         "lat": [
          60,
          35.916667
         ],
         "line": {
          "color": "hotpink",
          "width": 2
         },
         "lon": [
          100,
          14.433333
         ],
         "mode": "lines",
         "opacity": 0.0002785515320334262,
         "type": "scattergeo"
        },
        {
         "lat": [
          60,
          52.5
         ],
         "line": {
          "color": "hotpink",
          "width": 2
         },
         "lon": [
          100,
          5.75
         ],
         "mode": "lines",
         "opacity": 0.028690807799442896,
         "type": "scattergeo"
        },
        {
         "lat": [
          60,
          -42
         ],
         "line": {
          "color": "hotpink",
          "width": 2
         },
         "lon": [
          100,
          174
         ],
         "mode": "lines",
         "opacity": 0.00041782729805013927,
         "type": "scattergeo"
        },
        {
         "lat": [
          60,
          62
         ],
         "line": {
          "color": "hotpink",
          "width": 2
         },
         "lon": [
          100,
          10
         ],
         "mode": "lines",
         "opacity": 0.13050139275766018,
         "type": "scattergeo"
        },
        {
         "lat": [
          60,
          52
         ],
         "line": {
          "color": "hotpink",
          "width": 2
         },
         "lon": [
          100,
          20
         ],
         "mode": "lines",
         "opacity": 1,
         "type": "scattergeo"
        },
        {
         "lat": [
          60,
          39.5
         ],
         "line": {
          "color": "hotpink",
          "width": 2
         },
         "lon": [
          100,
          -8
         ],
         "mode": "lines",
         "opacity": 0.0018105849582172701,
         "type": "scattergeo"
        },
        {
         "lat": [
          60,
          46
         ],
         "line": {
          "color": "hotpink",
          "width": 2
         },
         "lon": [
          100,
          25
         ],
         "mode": "lines",
         "opacity": 0.0011142061281337048,
         "type": "scattergeo"
        },
        {
         "lat": [
          60,
          48.666667
         ],
         "line": {
          "color": "hotpink",
          "width": 2
         },
         "lon": [
          100,
          19.5
         ],
         "mode": "lines",
         "opacity": 0.33454038997214486,
         "type": "scattergeo"
        },
        {
         "lat": [
          60,
          46.25
         ],
         "line": {
          "color": "hotpink",
          "width": 2
         },
         "lon": [
          100,
          15.166667
         ],
         "mode": "lines",
         "opacity": 0.001671309192200557,
         "type": "scattergeo"
        },
        {
         "lat": [
          60,
          40
         ],
         "line": {
          "color": "hotpink",
          "width": 2
         },
         "lon": [
          100,
          -4
         ],
         "mode": "lines",
         "opacity": 0.011559888579387187,
         "type": "scattergeo"
        },
        {
         "lat": [
          60,
          62
         ],
         "line": {
          "color": "hotpink",
          "width": 2
         },
         "lon": [
          100,
          15
         ],
         "mode": "lines",
         "opacity": 0.17938718662952646,
         "type": "scattergeo"
        },
        {
         "lat": [
          60,
          47
         ],
         "line": {
          "color": "hotpink",
          "width": 2
         },
         "lon": [
          100,
          8
         ],
         "mode": "lines",
         "opacity": 0.06532033426183843,
         "type": "scattergeo"
        },
        {
         "lat": [
          60,
          54
         ],
         "line": {
          "color": "hotpink",
          "width": 2
         },
         "lon": [
          100,
          -4
         ],
         "mode": "lines",
         "opacity": 0.04261838440111421,
         "type": "scattergeo"
        },
        {
         "lat": [
          60,
          39.828175
         ],
         "line": {
          "color": "hotpink",
          "width": 2
         },
         "lon": [
          100,
          -98.5795
         ],
         "mode": "lines",
         "opacity": 0.12311977715877437,
         "type": "scattergeo"
        },
        {
         "lat": [
          44,
          -25
         ],
         "line": {
          "color": "hotpink",
          "width": 2
         },
         "lon": [
          21,
          135
         ],
         "mode": "lines",
         "opacity": 0.005571030640668524,
         "type": "scattergeo"
        },
        {
         "lat": [
          44,
          47.333333
         ],
         "line": {
          "color": "hotpink",
          "width": 2
         },
         "lon": [
          21,
          13.333333
         ],
         "mode": "lines",
         "opacity": 0.3956824512534819,
         "type": "scattergeo"
        },
        {
         "lat": [
          44,
          50.833333
         ],
         "line": {
          "color": "hotpink",
          "width": 2
         },
         "lon": [
          21,
          4
         ],
         "mode": "lines",
         "opacity": 0.18022284122562673,
         "type": "scattergeo"
        },
        {
         "lat": [
          44,
          60
         ],
         "line": {
          "color": "hotpink",
          "width": 2
         },
         "lon": [
          21,
          -96
         ],
         "mode": "lines",
         "opacity": 0.01657381615598886,
         "type": "scattergeo"
        },
        {
         "lat": [
          44,
          45.166667
         ],
         "line": {
          "color": "hotpink",
          "width": 2
         },
         "lon": [
          21,
          15.5
         ],
         "mode": "lines",
         "opacity": 0.003064066852367688,
         "type": "scattergeo"
        },
        {
         "lat": [
          44,
          35
         ],
         "line": {
          "color": "hotpink",
          "width": 2
         },
         "lon": [
          21,
          33
         ],
         "mode": "lines",
         "opacity": 0.001532033426183844,
         "type": "scattergeo"
        },
        {
         "lat": [
          44,
          49.75
         ],
         "line": {
          "color": "hotpink",
          "width": 2
         },
         "lon": [
          21,
          15
         ],
         "mode": "lines",
         "opacity": 0.002924791086350975,
         "type": "scattergeo"
        },
        {
         "lat": [
          44,
          56
         ],
         "line": {
          "color": "hotpink",
          "width": 2
         },
         "lon": [
          21,
          10
         ],
         "mode": "lines",
         "opacity": 0.10835654596100279,
         "type": "scattergeo"
        },
        {
         "lat": [
          44,
          64
         ],
         "line": {
          "color": "hotpink",
          "width": 2
         },
         "lon": [
          21,
          26
         ],
         "mode": "lines",
         "opacity": 0.1075208913649025,
         "type": "scattergeo"
        },
        {
         "lat": [
          44,
          46
         ],
         "line": {
          "color": "hotpink",
          "width": 2
         },
         "lon": [
          21,
          2
         ],
         "mode": "lines",
         "opacity": 0.5309192200557104,
         "type": "scattergeo"
        },
        {
         "lat": [
          44,
          51.5
         ],
         "line": {
          "color": "hotpink",
          "width": 2
         },
         "lon": [
          21,
          10.5
         ],
         "mode": "lines",
         "opacity": 0.5401114206128134,
         "type": "scattergeo"
        },
        {
         "lat": [
          44,
          39
         ],
         "line": {
          "color": "hotpink",
          "width": 2
         },
         "lon": [
          21,
          22
         ],
         "mode": "lines",
         "opacity": 0.0009749303621169916,
         "type": "scattergeo"
        },
        {
         "lat": [
          44,
          47
         ],
         "line": {
          "color": "hotpink",
          "width": 2
         },
         "lon": [
          21,
          20
         ],
         "mode": "lines",
         "opacity": 0.025069637883008356,
         "type": "scattergeo"
        },
        {
         "lat": [
          44,
          65
         ],
         "line": {
          "color": "hotpink",
          "width": 2
         },
         "lon": [
          21,
          -18
         ],
         "mode": "lines",
         "opacity": 0.0008356545961002785,
         "type": "scattergeo"
        },
        {
         "lat": [
          44,
          53
         ],
         "line": {
          "color": "hotpink",
          "width": 2
         },
         "lon": [
          21,
          -8
         ],
         "mode": "lines",
         "opacity": 0.006406685236768802,
         "type": "scattergeo"
        },
        {
         "lat": [
          44,
          47.166667
         ],
         "line": {
          "color": "hotpink",
          "width": 2
         },
         "lon": [
          21,
          9.533333
         ],
         "mode": "lines",
         "opacity": 0.0019498607242339832,
         "type": "scattergeo"
        },
        {
         "lat": [
          44,
          49.75
         ],
         "line": {
          "color": "hotpink",
          "width": 2
         },
         "lon": [
          21,
          6.166667
         ],
         "mode": "lines",
         "opacity": 0.05041782729805014,
         "type": "scattergeo"
        },
        {
         "lat": [
          44,
          35.916667
         ],
         "line": {
          "color": "hotpink",
          "width": 2
         },
         "lon": [
          21,
          14.433333
         ],
         "mode": "lines",
         "opacity": 0.00041782729805013927,
         "type": "scattergeo"
        },
        {
         "lat": [
          44,
          52.5
         ],
         "line": {
          "color": "hotpink",
          "width": 2
         },
         "lon": [
          21,
          5.75
         ],
         "mode": "lines",
         "opacity": 0.05501392757660167,
         "type": "scattergeo"
        },
        {
         "lat": [
          44,
          -42
         ],
         "line": {
          "color": "hotpink",
          "width": 2
         },
         "lon": [
          21,
          174
         ],
         "mode": "lines",
         "opacity": 0.0001392757660167131,
         "type": "scattergeo"
        },
        {
         "lat": [
          44,
          62
         ],
         "line": {
          "color": "hotpink",
          "width": 2
         },
         "lon": [
          21,
          10
         ],
         "mode": "lines",
         "opacity": 0.11963788300835655,
         "type": "scattergeo"
        },
        {
         "lat": [
          44,
          52
         ],
         "line": {
          "color": "hotpink",
          "width": 2
         },
         "lon": [
          21,
          20
         ],
         "mode": "lines",
         "opacity": 0.0001392757660167131,
         "type": "scattergeo"
        },
        {
         "lat": [
          44,
          46
         ],
         "line": {
          "color": "hotpink",
          "width": 2
         },
         "lon": [
          21,
          25
         ],
         "mode": "lines",
         "opacity": 0.0009749303621169916,
         "type": "scattergeo"
        },
        {
         "lat": [
          44,
          48.666667
         ],
         "line": {
          "color": "hotpink",
          "width": 2
         },
         "lon": [
          21,
          19.5
         ],
         "mode": "lines",
         "opacity": 0.00766016713091922,
         "type": "scattergeo"
        },
        {
         "lat": [
          44,
          46.25
         ],
         "line": {
          "color": "hotpink",
          "width": 2
         },
         "lon": [
          21,
          15.166667
         ],
         "mode": "lines",
         "opacity": 0.052785515320334264,
         "type": "scattergeo"
        },
        {
         "lat": [
          44,
          40
         ],
         "line": {
          "color": "hotpink",
          "width": 2
         },
         "lon": [
          21,
          -4
         ],
         "mode": "lines",
         "opacity": 0.002924791086350975,
         "type": "scattergeo"
        },
        {
         "lat": [
          44,
          62
         ],
         "line": {
          "color": "hotpink",
          "width": 2
         },
         "lon": [
          21,
          15
         ],
         "mode": "lines",
         "opacity": 0.5601671309192201,
         "type": "scattergeo"
        },
        {
         "lat": [
          44,
          47
         ],
         "line": {
          "color": "hotpink",
          "width": 2
         },
         "lon": [
          21,
          8
         ],
         "mode": "lines",
         "opacity": 0.20334261838440112,
         "type": "scattergeo"
        },
        {
         "lat": [
          44,
          54
         ],
         "line": {
          "color": "hotpink",
          "width": 2
         },
         "lon": [
          21,
          -4
         ],
         "mode": "lines",
         "opacity": 0.056406685236768804,
         "type": "scattergeo"
        },
        {
         "lat": [
          44,
          39.828175
         ],
         "line": {
          "color": "hotpink",
          "width": 2
         },
         "lon": [
          21,
          -98.5795
         ],
         "mode": "lines",
         "opacity": 0.04289693593314763,
         "type": "scattergeo"
        },
        {
         "hoverinfo": "text",
         "lat": [
          33,
          41,
          28,
          -14.3333333,
          42.5,
          -12.5,
          18.216667,
          17.05,
          -34,
          40,
          12.5,
          -15.95,
          -12.416667,
          -25,
          47.333333,
          40.5,
          24,
          26,
          24,
          13.166667,
          -21.416667,
          53,
          50.833333,
          17.25,
          9.5,
          32.333333,
          27.5,
          -17,
          12.2,
          44.25,
          -22,
          -54.433333,
          -10,
          -6,
          18.5,
          4.5,
          43,
          13,
          22,
          -3.5,
          13,
          6,
          60,
          16,
          19.5,
          7,
          15,
          -30,
          35,
          -10.5,
          10.283333,
          -12,
          4,
          -12.166667,
          -16.083333,
          -17.5,
          10,
          8,
          45.166667,
          22,
          12.166667,
          35,
          49.75,
          0,
          56,
          11.5,
          15.5,
          19,
          -2,
          27,
          13.833333,
          2,
          15,
          59,
          8,
          -22.333333,
          -51.75,
          62,
          5,
          -18,
          64,
          46,
          4,
          -15,
          -43,
          -1,
          13.5,
          31.425074,
          41.999981,
          51.5,
          8,
          36.133333,
          -11.5,
          39,
          72,
          12.116667,
          16.25,
          13.4444444,
          15.5,
          49.583333,
          11,
          12,
          5,
          19,
          -53,
          15,
          22.25,
          47,
          65,
          20,
          -5,
          32,
          33,
          53,
          54.25,
          31.5,
          42.833333,
          18.25,
          36,
          49.216667,
          31,
          -17.05833,
          48,
          1,
          -5,
          42.583333,
          29.5,
          41,
          18,
          57,
          33.833333,
          -29.5,
          6.5,
          25,
          47.166667,
          56,
          49.75,
          22.157778,
          41.833333,
          -20,
          -13.5,
          2.5,
          3.2,
          17,
          35.916667,
          10,
          14.666667,
          20,
          -20.3,
          -12.833333,
          23,
          47,
          43.733333,
          46,
          42.5,
          16.75,
          32,
          -18.25,
          -22,
          -0.533333,
          28,
          52.5,
          -21.5,
          -42,
          13,
          16,
          10,
          -19.033333,
          -29.033333,
          40,
          16,
          62,
          21,
          30,
          6,
          9,
          -6,
          -22.993333,
          -10,
          13,
          -25.066667,
          52,
          39.5,
          18.2482882,
          25.5,
          -1,
          -21.1,
          46,
          60,
          -2,
          17.9,
          17.333333,
          13.883333,
          18.075,
          46.833333,
          13.083333,
          -13.803096,
          43.933333,
          1,
          25,
          14,
          44,
          -4.583333,
          8.5,
          1.366667,
          18.04167,
          48.666667,
          46.25,
          -8,
          6,
          -30,
          -56,
          37,
          8,
          40,
          7,
          16,
          4,
          78,
          -26.5,
          62,
          47,
          35,
          24,
          39,
          -6,
          15,
          -8.833333,
          8,
          -9,
          -20,
          11,
          -15.866667,
          34,
          39.059012,
          40,
          21.733333,
          -8,
          2,
          49,
          24,
          54,
          39.828175,
          -33,
          5.8811111,
          18.3482891,
          41.707542,
          -16,
          41.9,
          8,
          16.166667,
          -13.3,
          31.666667,
          25,
          15.5,
          -15,
          -19
         ],
         "locationmode": "country names",
         "lon": [
          66,
          20,
          3,
          -170,
          1.5,
          18.5,
          -63.05,
          -61.8,
          -64,
          45,
          -69.966667,
          -5.7,
          123.333333,
          135,
          13.333333,
          47.5,
          -76,
          50.5,
          90,
          -59.533333,
          39.7,
          28,
          4,
          -88.75,
          2.25,
          -64.75,
          90.5,
          -65,
          -68.25,
          17.833333,
          24,
          3.4,
          -55,
          72,
          -64.5,
          114.666667,
          25,
          -2,
          98,
          30,
          105,
          12,
          -96,
          -24,
          -80.666667,
          21,
          19,
          -71,
          105,
          105.666667,
          -109.216667,
          96.833333,
          -72,
          44.25,
          -161.583333,
          151,
          -84,
          -5,
          15.5,
          -79.5,
          -69,
          33,
          15,
          25,
          10,
          42.5,
          -61.333333,
          -70.666667,
          -77.5,
          30,
          -88.916667,
          10,
          39,
          26,
          38,
          40.366667,
          -59.166667,
          -7,
          152,
          178,
          26,
          2,
          -53,
          -140,
          67,
          11.75,
          -15.5,
          34.373398,
          43.499905,
          10.5,
          -2,
          -5.35,
          47.333333,
          22,
          -40,
          -61.666667,
          -61.583333,
          144.7366667,
          -90.25,
          -2.333333,
          -10,
          -15,
          -59,
          -72.416667,
          73,
          -86.5,
          114.166667,
          20,
          -18,
          77,
          120,
          53,
          44,
          -8,
          -4.5,
          34.75,
          12.833333,
          -77.5,
          138,
          -2.116667,
          36,
          42.71667,
          68,
          38,
          -170,
          21,
          47.75,
          75,
          105,
          25,
          35.833333,
          28.25,
          -9.5,
          17,
          9.533333,
          24,
          6.166667,
          113.559722,
          22,
          47,
          34,
          112.5,
          73,
          -4,
          14.433333,
          167,
          -61,
          -12,
          57.583333,
          45.166667,
          -102,
          29,
          7.4,
          105,
          19.3,
          -62.2,
          -5,
          35,
          17,
          166.916667,
          84,
          5.75,
          165.5,
          174,
          -85,
          8,
          8,
          -169.866667,
          167.95,
          127,
          146,
          10,
          57,
          70,
          134,
          -80,
          147,
          -57.996389,
          -76,
          122,
          -130.1,
          20,
          -8,
          -66.4998941,
          51.25,
          15,
          55.6,
          25,
          100,
          30,
          -62.833333,
          -62.75,
          -60.966667,
          -63.05833,
          -56.333333,
          -61.2,
          -172.178309,
          12.416667,
          7,
          45,
          -14,
          21,
          55.666667,
          -11.5,
          103.8,
          -63.06667,
          19.5,
          15.166667,
          159,
          48,
          26,
          -33,
          127.5,
          30,
          -4,
          81,
          30,
          -56,
          20,
          31.5,
          15,
          8,
          38,
          121,
          71,
          35,
          100,
          125.75,
          1.166667,
          -171.75,
          -175,
          -61,
          54.416667,
          9,
          34.911546,
          60,
          -71.583333,
          178,
          33,
          32,
          54,
          -4,
          -98.5795,
          -56,
          -162.0725,
          -64.9834807,
          63.84911,
          167,
          12.45,
          -66,
          107.833333,
          -176.2,
          35.25,
          -13.5,
          47.5,
          30,
          29
         ],
         "marker": {
          "color": "rgb(156, 81, 182)",
          "line": {
           "color": "rgba(68, 68, 68, 0)",
           "width": 3
          },
          "size": 2
         },
         "mode": "markers",
         "text": [
          "Afghanistan",
          "Albania",
          "Algeria",
          "American Samoa",
          "Andorra",
          "Angola",
          "Anguilla",
          "Antigua and Barbuda",
          "Argentina",
          "Armenia",
          "Aruba",
          "Ascension",
          "Ashmore and Cartier Islands",
          "Australia",
          "Austria",
          "Azerbaijan",
          "Bahamas",
          "Bahrain",
          "Bangladesh",
          "Barbados",
          "Bassas da India",
          "Belarus",
          "Belgium",
          "Belize",
          "Benin",
          "Bermuda",
          "Bhutan",
          "Bolivia",
          "Bonaire",
          "Bosnia and Herzegovina",
          "Botswana",
          "Bouvet Island",
          "Brazil",
          "British Indian Ocean Territory",
          "British Virgin Islands",
          "Brunei",
          "Bulgaria",
          "Burkina Faso",
          "Burma",
          "Burundi",
          "Cambodia",
          "Cameroon",
          "Canada",
          "Cape Verde",
          "Cayman Islands",
          "Central African Republic",
          "Chad",
          "Chile",
          "China",
          "Christmas Island",
          "Clipperton Island",
          "Cocos (Keeling) Islands",
          "Colombia",
          "Comoros",
          "Cook Islands",
          "Coral Sea Islands",
          "Costa Rica",
          "Cote d'Ivoire",
          "Croatia",
          "Cuba",
          "Curaçao",
          "Cyprus",
          "Czech Republic",
          "Democratic Republic of the Congo",
          "Denmark",
          "Djibouti",
          "Dominica",
          "Dominican Republic",
          "Ecuador",
          "Egypt",
          "El Salvador",
          "Equatorial Guinea",
          "Eritrea",
          "Estonia",
          "Ethiopia",
          "Europa Island",
          "Falkland Islands",
          "Faroe Islands",
          "Federated States of Micronesia",
          "Fiji",
          "Finland",
          "France",
          "French Guiana",
          "French Polynesia",
          "French Southern and Antarctic Lands",
          "Gabon",
          "Gambia",
          "Gaza Strip",
          "Georgia",
          "Germany",
          "Ghana",
          "Gibraltar",
          "Glorioso Islands",
          "Greece",
          "Greenland",
          "Grenada",
          "Guadeloupe",
          "Guam",
          "Guatemala",
          "Guernsey",
          "Guinea",
          "Guinea-Bissau",
          "Guyana",
          "Haiti",
          "Heard Island and McDonald Islands",
          "Honduras",
          "Hong Kong",
          "Hungary",
          "Iceland",
          "India",
          "Indonesia",
          "Iran",
          "Iraq",
          "Ireland",
          "Isle of Man",
          "Israel",
          "Italy",
          "Jamaica",
          "Japan",
          "Jersey",
          "Jordan",
          "Juan de Nova Island",
          "Kazakhstan",
          "Kenya",
          "Kiribati",
          "Kosovo",
          "Kuwait",
          "Kyrgyzstan",
          "Laos",
          "Latvia",
          "Lebanon",
          "Lesotho",
          "Liberia",
          "Libya",
          "Liechtenstein",
          "Lithuania",
          "Luxembourg",
          "Macau",
          "Macedonia",
          "Madagascar",
          "Malawi",
          "Malaysia",
          "Maldives",
          "Mali",
          "Malta",
          "Marshall Islands",
          "Martinique",
          "Mauritania",
          "Mauritius",
          "Mayotte",
          "Mexico",
          "Moldova",
          "Monaco",
          "Mongolia",
          "Montenegro",
          "Montserrat",
          "Morocco",
          "Mozambique",
          "Namibia",
          "Nauru",
          "Nepal",
          "Netherlands",
          "New Caledonia",
          "New Zealand",
          "Nicaragua",
          "Niger",
          "Nigeria",
          "Niue",
          "Norfolk Island",
          "North Korea",
          "Northern Mariana Islands",
          "Norway",
          "Oman",
          "Pakistan",
          "Palau",
          "Panama",
          "Papua New Guinea",
          "Paraguay",
          "Peru",
          "Philippines",
          "Pitcairn Islands",
          "Poland",
          "Portugal",
          "Puerto Rico",
          "Qatar",
          "Republic of the Congo",
          "Reunion",
          "Romania",
          "Russia",
          "Rwanda",
          "Saint Barthelemy",
          "Saint Kitts and Nevis",
          "Saint Lucia",
          "Saint Martin",
          "Saint Pierre and Miquelon",
          "Saint Vincent and the Grenadines",
          "Samoa",
          "San Marino",
          "Sao Tome and Principe",
          "Saudi Arabia",
          "Senegal",
          "Serbia",
          "Seychelles",
          "Sierra Leone",
          "Singapore",
          "Sint Maarten",
          "Slovakia",
          "Slovenia",
          "Solomon Islands",
          "Somalia",
          "South Africa",
          "South Georgia and South Sandwich Islands",
          "South Korea",
          "South Sudan",
          "Spain",
          "Sri Lanka",
          "Sudan",
          "Suriname",
          "Svalbard",
          "Swaziland",
          "Sweden",
          "Switzerland",
          "Syria",
          "Taiwan",
          "Tajikistan",
          "Tanzania",
          "Thailand",
          "Timor-Leste",
          "Togo",
          "Tokelau",
          "Tonga",
          "Trinidad and Tobago",
          "Tromelin Island",
          "Tunisia",
          "Turkey",
          "Turkmenistan",
          "Turks and Caicos Islands",
          "Tuvalu",
          "Uganda",
          "Ukraine",
          "United Arab Emirates",
          "United Kingdom",
          "United States",
          "Uruguay",
          "US Minor Outlying Islands",
          "US Virgin Islands",
          "Uzbekistan",
          "Vanuatu",
          "Vatican City",
          "Venezuela",
          "Vietnam",
          "Wallis and Futuna",
          "West Bank",
          "Western Sahara",
          "Yemen",
          "Zambia",
          "Zimbabwe"
         ],
         "type": "scattergeo"
        }
       ],
       "layout": {
        "geo": {
         "countrycolor": "rgb(204, 204, 204)",
         "landcolor": "rgb(243, 243, 243)",
         "projection": {
          "type": "equirectangular"
         },
         "showcoastlines": true,
         "showframe": false,
         "showland": true
        },
        "showlegend": false,
        "template": {
         "data": {
          "bar": [
           {
            "error_x": {
             "color": "#2a3f5f"
            },
            "error_y": {
             "color": "#2a3f5f"
            },
            "marker": {
             "line": {
              "color": "#E5ECF6",
              "width": 0.5
             },
             "pattern": {
              "fillmode": "overlay",
              "size": 10,
              "solidity": 0.2
             }
            },
            "type": "bar"
           }
          ],
          "barpolar": [
           {
            "marker": {
             "line": {
              "color": "#E5ECF6",
              "width": 0.5
             },
             "pattern": {
              "fillmode": "overlay",
              "size": 10,
              "solidity": 0.2
             }
            },
            "type": "barpolar"
           }
          ],
          "carpet": [
           {
            "aaxis": {
             "endlinecolor": "#2a3f5f",
             "gridcolor": "white",
             "linecolor": "white",
             "minorgridcolor": "white",
             "startlinecolor": "#2a3f5f"
            },
            "baxis": {
             "endlinecolor": "#2a3f5f",
             "gridcolor": "white",
             "linecolor": "white",
             "minorgridcolor": "white",
             "startlinecolor": "#2a3f5f"
            },
            "type": "carpet"
           }
          ],
          "choropleth": [
           {
            "colorbar": {
             "outlinewidth": 0,
             "ticks": ""
            },
            "type": "choropleth"
           }
          ],
          "contour": [
           {
            "colorbar": {
             "outlinewidth": 0,
             "ticks": ""
            },
            "colorscale": [
             [
              0,
              "#0d0887"
             ],
             [
              0.1111111111111111,
              "#46039f"
             ],
             [
              0.2222222222222222,
              "#7201a8"
             ],
             [
              0.3333333333333333,
              "#9c179e"
             ],
             [
              0.4444444444444444,
              "#bd3786"
             ],
             [
              0.5555555555555556,
              "#d8576b"
             ],
             [
              0.6666666666666666,
              "#ed7953"
             ],
             [
              0.7777777777777778,
              "#fb9f3a"
             ],
             [
              0.8888888888888888,
              "#fdca26"
             ],
             [
              1,
              "#f0f921"
             ]
            ],
            "type": "contour"
           }
          ],
          "contourcarpet": [
           {
            "colorbar": {
             "outlinewidth": 0,
             "ticks": ""
            },
            "type": "contourcarpet"
           }
          ],
          "heatmap": [
           {
            "colorbar": {
             "outlinewidth": 0,
             "ticks": ""
            },
            "colorscale": [
             [
              0,
              "#0d0887"
             ],
             [
              0.1111111111111111,
              "#46039f"
             ],
             [
              0.2222222222222222,
              "#7201a8"
             ],
             [
              0.3333333333333333,
              "#9c179e"
             ],
             [
              0.4444444444444444,
              "#bd3786"
             ],
             [
              0.5555555555555556,
              "#d8576b"
             ],
             [
              0.6666666666666666,
              "#ed7953"
             ],
             [
              0.7777777777777778,
              "#fb9f3a"
             ],
             [
              0.8888888888888888,
              "#fdca26"
             ],
             [
              1,
              "#f0f921"
             ]
            ],
            "type": "heatmap"
           }
          ],
          "heatmapgl": [
           {
            "colorbar": {
             "outlinewidth": 0,
             "ticks": ""
            },
            "colorscale": [
             [
              0,
              "#0d0887"
             ],
             [
              0.1111111111111111,
              "#46039f"
             ],
             [
              0.2222222222222222,
              "#7201a8"
             ],
             [
              0.3333333333333333,
              "#9c179e"
             ],
             [
              0.4444444444444444,
              "#bd3786"
             ],
             [
              0.5555555555555556,
              "#d8576b"
             ],
             [
              0.6666666666666666,
              "#ed7953"
             ],
             [
              0.7777777777777778,
              "#fb9f3a"
             ],
             [
              0.8888888888888888,
              "#fdca26"
             ],
             [
              1,
              "#f0f921"
             ]
            ],
            "type": "heatmapgl"
           }
          ],
          "histogram": [
           {
            "marker": {
             "pattern": {
              "fillmode": "overlay",
              "size": 10,
              "solidity": 0.2
             }
            },
            "type": "histogram"
           }
          ],
          "histogram2d": [
           {
            "colorbar": {
             "outlinewidth": 0,
             "ticks": ""
            },
            "colorscale": [
             [
              0,
              "#0d0887"
             ],
             [
              0.1111111111111111,
              "#46039f"
             ],
             [
              0.2222222222222222,
              "#7201a8"
             ],
             [
              0.3333333333333333,
              "#9c179e"
             ],
             [
              0.4444444444444444,
              "#bd3786"
             ],
             [
              0.5555555555555556,
              "#d8576b"
             ],
             [
              0.6666666666666666,
              "#ed7953"
             ],
             [
              0.7777777777777778,
              "#fb9f3a"
             ],
             [
              0.8888888888888888,
              "#fdca26"
             ],
             [
              1,
              "#f0f921"
             ]
            ],
            "type": "histogram2d"
           }
          ],
          "histogram2dcontour": [
           {
            "colorbar": {
             "outlinewidth": 0,
             "ticks": ""
            },
            "colorscale": [
             [
              0,
              "#0d0887"
             ],
             [
              0.1111111111111111,
              "#46039f"
             ],
             [
              0.2222222222222222,
              "#7201a8"
             ],
             [
              0.3333333333333333,
              "#9c179e"
             ],
             [
              0.4444444444444444,
              "#bd3786"
             ],
             [
              0.5555555555555556,
              "#d8576b"
             ],
             [
              0.6666666666666666,
              "#ed7953"
             ],
             [
              0.7777777777777778,
              "#fb9f3a"
             ],
             [
              0.8888888888888888,
              "#fdca26"
             ],
             [
              1,
              "#f0f921"
             ]
            ],
            "type": "histogram2dcontour"
           }
          ],
          "mesh3d": [
           {
            "colorbar": {
             "outlinewidth": 0,
             "ticks": ""
            },
            "type": "mesh3d"
           }
          ],
          "parcoords": [
           {
            "line": {
             "colorbar": {
              "outlinewidth": 0,
              "ticks": ""
             }
            },
            "type": "parcoords"
           }
          ],
          "pie": [
           {
            "automargin": true,
            "type": "pie"
           }
          ],
          "scatter": [
           {
            "marker": {
             "colorbar": {
              "outlinewidth": 0,
              "ticks": ""
             }
            },
            "type": "scatter"
           }
          ],
          "scatter3d": [
           {
            "line": {
             "colorbar": {
              "outlinewidth": 0,
              "ticks": ""
             }
            },
            "marker": {
             "colorbar": {
              "outlinewidth": 0,
              "ticks": ""
             }
            },
            "type": "scatter3d"
           }
          ],
          "scattercarpet": [
           {
            "marker": {
             "colorbar": {
              "outlinewidth": 0,
              "ticks": ""
             }
            },
            "type": "scattercarpet"
           }
          ],
          "scattergeo": [
           {
            "marker": {
             "colorbar": {
              "outlinewidth": 0,
              "ticks": ""
             }
            },
            "type": "scattergeo"
           }
          ],
          "scattergl": [
           {
            "marker": {
             "colorbar": {
              "outlinewidth": 0,
              "ticks": ""
             }
            },
            "type": "scattergl"
           }
          ],
          "scattermapbox": [
           {
            "marker": {
             "colorbar": {
              "outlinewidth": 0,
              "ticks": ""
             }
            },
            "type": "scattermapbox"
           }
          ],
          "scatterpolar": [
           {
            "marker": {
             "colorbar": {
              "outlinewidth": 0,
              "ticks": ""
             }
            },
            "type": "scatterpolar"
           }
          ],
          "scatterpolargl": [
           {
            "marker": {
             "colorbar": {
              "outlinewidth": 0,
              "ticks": ""
             }
            },
            "type": "scatterpolargl"
           }
          ],
          "scatterternary": [
           {
            "marker": {
             "colorbar": {
              "outlinewidth": 0,
              "ticks": ""
             }
            },
            "type": "scatterternary"
           }
          ],
          "surface": [
           {
            "colorbar": {
             "outlinewidth": 0,
             "ticks": ""
            },
            "colorscale": [
             [
              0,
              "#0d0887"
             ],
             [
              0.1111111111111111,
              "#46039f"
             ],
             [
              0.2222222222222222,
              "#7201a8"
             ],
             [
              0.3333333333333333,
              "#9c179e"
             ],
             [
              0.4444444444444444,
              "#bd3786"
             ],
             [
              0.5555555555555556,
              "#d8576b"
             ],
             [
              0.6666666666666666,
              "#ed7953"
             ],
             [
              0.7777777777777778,
              "#fb9f3a"
             ],
             [
              0.8888888888888888,
              "#fdca26"
             ],
             [
              1,
              "#f0f921"
             ]
            ],
            "type": "surface"
           }
          ],
          "table": [
           {
            "cells": {
             "fill": {
              "color": "#EBF0F8"
             },
             "line": {
              "color": "white"
             }
            },
            "header": {
             "fill": {
              "color": "#C8D4E3"
             },
             "line": {
              "color": "white"
             }
            },
            "type": "table"
           }
          ]
         },
         "layout": {
          "annotationdefaults": {
           "arrowcolor": "#2a3f5f",
           "arrowhead": 0,
           "arrowwidth": 1
          },
          "autotypenumbers": "strict",
          "coloraxis": {
           "colorbar": {
            "outlinewidth": 0,
            "ticks": ""
           }
          },
          "colorscale": {
           "diverging": [
            [
             0,
             "#8e0152"
            ],
            [
             0.1,
             "#c51b7d"
            ],
            [
             0.2,
             "#de77ae"
            ],
            [
             0.3,
             "#f1b6da"
            ],
            [
             0.4,
             "#fde0ef"
            ],
            [
             0.5,
             "#f7f7f7"
            ],
            [
             0.6,
             "#e6f5d0"
            ],
            [
             0.7,
             "#b8e186"
            ],
            [
             0.8,
             "#7fbc41"
            ],
            [
             0.9,
             "#4d9221"
            ],
            [
             1,
             "#276419"
            ]
           ],
           "sequential": [
            [
             0,
             "#0d0887"
            ],
            [
             0.1111111111111111,
             "#46039f"
            ],
            [
             0.2222222222222222,
             "#7201a8"
            ],
            [
             0.3333333333333333,
             "#9c179e"
            ],
            [
             0.4444444444444444,
             "#bd3786"
            ],
            [
             0.5555555555555556,
             "#d8576b"
            ],
            [
             0.6666666666666666,
             "#ed7953"
            ],
            [
             0.7777777777777778,
             "#fb9f3a"
            ],
            [
             0.8888888888888888,
             "#fdca26"
            ],
            [
             1,
             "#f0f921"
            ]
           ],
           "sequentialminus": [
            [
             0,
             "#0d0887"
            ],
            [
             0.1111111111111111,
             "#46039f"
            ],
            [
             0.2222222222222222,
             "#7201a8"
            ],
            [
             0.3333333333333333,
             "#9c179e"
            ],
            [
             0.4444444444444444,
             "#bd3786"
            ],
            [
             0.5555555555555556,
             "#d8576b"
            ],
            [
             0.6666666666666666,
             "#ed7953"
            ],
            [
             0.7777777777777778,
             "#fb9f3a"
            ],
            [
             0.8888888888888888,
             "#fdca26"
            ],
            [
             1,
             "#f0f921"
            ]
           ]
          },
          "colorway": [
           "#636efa",
           "#EF553B",
           "#00cc96",
           "#ab63fa",
           "#FFA15A",
           "#19d3f3",
           "#FF6692",
           "#B6E880",
           "#FF97FF",
           "#FECB52"
          ],
          "font": {
           "color": "#2a3f5f"
          },
          "geo": {
           "bgcolor": "white",
           "lakecolor": "white",
           "landcolor": "#E5ECF6",
           "showlakes": true,
           "showland": true,
           "subunitcolor": "white"
          },
          "hoverlabel": {
           "align": "left"
          },
          "hovermode": "closest",
          "mapbox": {
           "style": "light"
          },
          "paper_bgcolor": "white",
          "plot_bgcolor": "#E5ECF6",
          "polar": {
           "angularaxis": {
            "gridcolor": "white",
            "linecolor": "white",
            "ticks": ""
           },
           "bgcolor": "#E5ECF6",
           "radialaxis": {
            "gridcolor": "white",
            "linecolor": "white",
            "ticks": ""
           }
          },
          "scene": {
           "xaxis": {
            "backgroundcolor": "#E5ECF6",
            "gridcolor": "white",
            "gridwidth": 2,
            "linecolor": "white",
            "showbackground": true,
            "ticks": "",
            "zerolinecolor": "white"
           },
           "yaxis": {
            "backgroundcolor": "#E5ECF6",
            "gridcolor": "white",
            "gridwidth": 2,
            "linecolor": "white",
            "showbackground": true,
            "ticks": "",
            "zerolinecolor": "white"
           },
           "zaxis": {
            "backgroundcolor": "#E5ECF6",
            "gridcolor": "white",
            "gridwidth": 2,
            "linecolor": "white",
            "showbackground": true,
            "ticks": "",
            "zerolinecolor": "white"
           }
          },
          "shapedefaults": {
           "line": {
            "color": "#2a3f5f"
           }
          },
          "ternary": {
           "aaxis": {
            "gridcolor": "white",
            "linecolor": "white",
            "ticks": ""
           },
           "baxis": {
            "gridcolor": "white",
            "linecolor": "white",
            "ticks": ""
           },
           "bgcolor": "#E5ECF6",
           "caxis": {
            "gridcolor": "white",
            "linecolor": "white",
            "ticks": ""
           }
          },
          "title": {
           "x": 0.05
          },
          "xaxis": {
           "automargin": true,
           "gridcolor": "white",
           "linecolor": "white",
           "ticks": "",
           "title": {
            "standoff": 15
           },
           "zerolinecolor": "white",
           "zerolinewidth": 2
          },
          "yaxis": {
           "automargin": true,
           "gridcolor": "white",
           "linecolor": "white",
           "ticks": "",
           "title": {
            "standoff": 15
           },
           "zerolinecolor": "white",
           "zerolinewidth": 2
          }
         }
        },
        "title": {
         "text": "2004 Migration Journeys (by Origin)"
        }
       }
      },
      "text/html": [
       "<div>                            <div id=\"4a966946-e542-4667-acb2-06de8fdeba3a\" class=\"plotly-graph-div\" style=\"height:525px; width:100%;\"></div>            <script type=\"text/javascript\">                require([\"plotly\"], function(Plotly) {                    window.PLOTLYENV=window.PLOTLYENV || {};                                    if (document.getElementById(\"4a966946-e542-4667-acb2-06de8fdeba3a\")) {                    Plotly.newPlot(                        \"4a966946-e542-4667-acb2-06de8fdeba3a\",                        [{\"lat\":[60.0,-25.0],\"line\":{\"color\":\"hotpink\",\"width\":2},\"lon\":[100.0,135.0],\"mode\":\"lines\",\"opacity\":0.003342618384401114,\"type\":\"scattergeo\"},{\"lat\":[60.0,47.333333],\"line\":{\"color\":\"hotpink\",\"width\":2},\"lon\":[100.0,13.333333],\"mode\":\"lines\",\"opacity\":0.8614206128133705,\"type\":\"scattergeo\"},{\"lat\":[60.0,50.833333],\"line\":{\"color\":\"hotpink\",\"width\":2},\"lon\":[100.0,4.0],\"mode\":\"lines\",\"opacity\":0.18955431754874652,\"type\":\"scattergeo\"},{\"lat\":[60.0,43.0],\"line\":{\"color\":\"hotpink\",\"width\":2},\"lon\":[100.0,25.0],\"mode\":\"lines\",\"opacity\":0.001392757660167131,\"type\":\"scattergeo\"},{\"lat\":[60.0,60.0],\"line\":{\"color\":\"hotpink\",\"width\":2},\"lon\":[100.0,-96.0],\"mode\":\"lines\",\"opacity\":0.023259052924791086,\"type\":\"scattergeo\"},{\"lat\":[60.0,45.166667],\"line\":{\"color\":\"hotpink\",\"width\":2},\"lon\":[100.0,15.5],\"mode\":\"lines\",\"opacity\":0.0006963788300835655,\"type\":\"scattergeo\"},{\"lat\":[60.0,35.0],\"line\":{\"color\":\"hotpink\",\"width\":2},\"lon\":[100.0,33.0],\"mode\":\"lines\",\"opacity\":0.08607242339832868,\"type\":\"scattergeo\"},{\"lat\":[60.0,49.75],\"line\":{\"color\":\"hotpink\",\"width\":2},\"lon\":[100.0,15.0],\"mode\":\"lines\",\"opacity\":0.20877437325905293,\"type\":\"scattergeo\"},{\"lat\":[60.0,56.0],\"line\":{\"color\":\"hotpink\",\"width\":2},\"lon\":[100.0,10.0],\"mode\":\"lines\",\"opacity\":0.022701949860724234,\"type\":\"scattergeo\"},{\"lat\":[60.0,64.0],\"line\":{\"color\":\"hotpink\",\"width\":2},\"lon\":[100.0,26.0],\"mode\":\"lines\",\"opacity\":0.02924791086350975,\"type\":\"scattergeo\"},{\"lat\":[60.0,46.0],\"line\":{\"color\":\"hotpink\",\"width\":2},\"lon\":[100.0,2.0],\"mode\":\"lines\",\"opacity\":0.46392757660167133,\"type\":\"scattergeo\"},{\"lat\":[60.0,51.5],\"line\":{\"color\":\"hotpink\",\"width\":2},\"lon\":[100.0,10.5],\"mode\":\"lines\",\"opacity\":0.38537604456824515,\"type\":\"scattergeo\"},{\"lat\":[60.0,39.0],\"line\":{\"color\":\"hotpink\",\"width\":2},\"lon\":[100.0,22.0],\"mode\":\"lines\",\"opacity\":0.019220055710306407,\"type\":\"scattergeo\"},{\"lat\":[60.0,47.0],\"line\":{\"color\":\"hotpink\",\"width\":2},\"lon\":[100.0,20.0],\"mode\":\"lines\",\"opacity\":0.005710306406685237,\"type\":\"scattergeo\"},{\"lat\":[60.0,65.0],\"line\":{\"color\":\"hotpink\",\"width\":2},\"lon\":[100.0,-18.0],\"mode\":\"lines\",\"opacity\":0.00041782729805013927,\"type\":\"scattergeo\"},{\"lat\":[60.0,53.0],\"line\":{\"color\":\"hotpink\",\"width\":2},\"lon\":[100.0,-8.0],\"mode\":\"lines\",\"opacity\":0.008635097493036212,\"type\":\"scattergeo\"},{\"lat\":[60.0,36.0],\"line\":{\"color\":\"hotpink\",\"width\":2},\"lon\":[100.0,138.0],\"mode\":\"lines\",\"opacity\":0.0002785515320334262,\"type\":\"scattergeo\"},{\"lat\":[60.0,47.166667],\"line\":{\"color\":\"hotpink\",\"width\":2},\"lon\":[100.0,9.533333],\"mode\":\"lines\",\"opacity\":0.0012534818941504179,\"type\":\"scattergeo\"},{\"lat\":[60.0,56.0],\"line\":{\"color\":\"hotpink\",\"width\":2},\"lon\":[100.0,24.0],\"mode\":\"lines\",\"opacity\":0.011420612813370474,\"type\":\"scattergeo\"},{\"lat\":[60.0,49.75],\"line\":{\"color\":\"hotpink\",\"width\":2},\"lon\":[100.0,6.166667],\"mode\":\"lines\",\"opacity\":0.009192200557103064,\"type\":\"scattergeo\"},{\"lat\":[60.0,35.916667],\"line\":{\"color\":\"hotpink\",\"width\":2},\"lon\":[100.0,14.433333],\"mode\":\"lines\",\"opacity\":0.0002785515320334262,\"type\":\"scattergeo\"},{\"lat\":[60.0,52.5],\"line\":{\"color\":\"hotpink\",\"width\":2},\"lon\":[100.0,5.75],\"mode\":\"lines\",\"opacity\":0.028690807799442896,\"type\":\"scattergeo\"},{\"lat\":[60.0,-42.0],\"line\":{\"color\":\"hotpink\",\"width\":2},\"lon\":[100.0,174.0],\"mode\":\"lines\",\"opacity\":0.00041782729805013927,\"type\":\"scattergeo\"},{\"lat\":[60.0,62.0],\"line\":{\"color\":\"hotpink\",\"width\":2},\"lon\":[100.0,10.0],\"mode\":\"lines\",\"opacity\":0.13050139275766018,\"type\":\"scattergeo\"},{\"lat\":[60.0,52.0],\"line\":{\"color\":\"hotpink\",\"width\":2},\"lon\":[100.0,20.0],\"mode\":\"lines\",\"opacity\":1.0,\"type\":\"scattergeo\"},{\"lat\":[60.0,39.5],\"line\":{\"color\":\"hotpink\",\"width\":2},\"lon\":[100.0,-8.0],\"mode\":\"lines\",\"opacity\":0.0018105849582172701,\"type\":\"scattergeo\"},{\"lat\":[60.0,46.0],\"line\":{\"color\":\"hotpink\",\"width\":2},\"lon\":[100.0,25.0],\"mode\":\"lines\",\"opacity\":0.0011142061281337048,\"type\":\"scattergeo\"},{\"lat\":[60.0,48.666667],\"line\":{\"color\":\"hotpink\",\"width\":2},\"lon\":[100.0,19.5],\"mode\":\"lines\",\"opacity\":0.33454038997214486,\"type\":\"scattergeo\"},{\"lat\":[60.0,46.25],\"line\":{\"color\":\"hotpink\",\"width\":2},\"lon\":[100.0,15.166667],\"mode\":\"lines\",\"opacity\":0.001671309192200557,\"type\":\"scattergeo\"},{\"lat\":[60.0,40.0],\"line\":{\"color\":\"hotpink\",\"width\":2},\"lon\":[100.0,-4.0],\"mode\":\"lines\",\"opacity\":0.011559888579387187,\"type\":\"scattergeo\"},{\"lat\":[60.0,62.0],\"line\":{\"color\":\"hotpink\",\"width\":2},\"lon\":[100.0,15.0],\"mode\":\"lines\",\"opacity\":0.17938718662952646,\"type\":\"scattergeo\"},{\"lat\":[60.0,47.0],\"line\":{\"color\":\"hotpink\",\"width\":2},\"lon\":[100.0,8.0],\"mode\":\"lines\",\"opacity\":0.06532033426183843,\"type\":\"scattergeo\"},{\"lat\":[60.0,54.0],\"line\":{\"color\":\"hotpink\",\"width\":2},\"lon\":[100.0,-4.0],\"mode\":\"lines\",\"opacity\":0.04261838440111421,\"type\":\"scattergeo\"},{\"lat\":[60.0,39.828175],\"line\":{\"color\":\"hotpink\",\"width\":2},\"lon\":[100.0,-98.5795],\"mode\":\"lines\",\"opacity\":0.12311977715877437,\"type\":\"scattergeo\"},{\"lat\":[44.0,-25.0],\"line\":{\"color\":\"hotpink\",\"width\":2},\"lon\":[21.0,135.0],\"mode\":\"lines\",\"opacity\":0.005571030640668524,\"type\":\"scattergeo\"},{\"lat\":[44.0,47.333333],\"line\":{\"color\":\"hotpink\",\"width\":2},\"lon\":[21.0,13.333333],\"mode\":\"lines\",\"opacity\":0.3956824512534819,\"type\":\"scattergeo\"},{\"lat\":[44.0,50.833333],\"line\":{\"color\":\"hotpink\",\"width\":2},\"lon\":[21.0,4.0],\"mode\":\"lines\",\"opacity\":0.18022284122562673,\"type\":\"scattergeo\"},{\"lat\":[44.0,60.0],\"line\":{\"color\":\"hotpink\",\"width\":2},\"lon\":[21.0,-96.0],\"mode\":\"lines\",\"opacity\":0.01657381615598886,\"type\":\"scattergeo\"},{\"lat\":[44.0,45.166667],\"line\":{\"color\":\"hotpink\",\"width\":2},\"lon\":[21.0,15.5],\"mode\":\"lines\",\"opacity\":0.003064066852367688,\"type\":\"scattergeo\"},{\"lat\":[44.0,35.0],\"line\":{\"color\":\"hotpink\",\"width\":2},\"lon\":[21.0,33.0],\"mode\":\"lines\",\"opacity\":0.001532033426183844,\"type\":\"scattergeo\"},{\"lat\":[44.0,49.75],\"line\":{\"color\":\"hotpink\",\"width\":2},\"lon\":[21.0,15.0],\"mode\":\"lines\",\"opacity\":0.002924791086350975,\"type\":\"scattergeo\"},{\"lat\":[44.0,56.0],\"line\":{\"color\":\"hotpink\",\"width\":2},\"lon\":[21.0,10.0],\"mode\":\"lines\",\"opacity\":0.10835654596100279,\"type\":\"scattergeo\"},{\"lat\":[44.0,64.0],\"line\":{\"color\":\"hotpink\",\"width\":2},\"lon\":[21.0,26.0],\"mode\":\"lines\",\"opacity\":0.1075208913649025,\"type\":\"scattergeo\"},{\"lat\":[44.0,46.0],\"line\":{\"color\":\"hotpink\",\"width\":2},\"lon\":[21.0,2.0],\"mode\":\"lines\",\"opacity\":0.5309192200557104,\"type\":\"scattergeo\"},{\"lat\":[44.0,51.5],\"line\":{\"color\":\"hotpink\",\"width\":2},\"lon\":[21.0,10.5],\"mode\":\"lines\",\"opacity\":0.5401114206128134,\"type\":\"scattergeo\"},{\"lat\":[44.0,39.0],\"line\":{\"color\":\"hotpink\",\"width\":2},\"lon\":[21.0,22.0],\"mode\":\"lines\",\"opacity\":0.0009749303621169916,\"type\":\"scattergeo\"},{\"lat\":[44.0,47.0],\"line\":{\"color\":\"hotpink\",\"width\":2},\"lon\":[21.0,20.0],\"mode\":\"lines\",\"opacity\":0.025069637883008356,\"type\":\"scattergeo\"},{\"lat\":[44.0,65.0],\"line\":{\"color\":\"hotpink\",\"width\":2},\"lon\":[21.0,-18.0],\"mode\":\"lines\",\"opacity\":0.0008356545961002785,\"type\":\"scattergeo\"},{\"lat\":[44.0,53.0],\"line\":{\"color\":\"hotpink\",\"width\":2},\"lon\":[21.0,-8.0],\"mode\":\"lines\",\"opacity\":0.006406685236768802,\"type\":\"scattergeo\"},{\"lat\":[44.0,47.166667],\"line\":{\"color\":\"hotpink\",\"width\":2},\"lon\":[21.0,9.533333],\"mode\":\"lines\",\"opacity\":0.0019498607242339832,\"type\":\"scattergeo\"},{\"lat\":[44.0,49.75],\"line\":{\"color\":\"hotpink\",\"width\":2},\"lon\":[21.0,6.166667],\"mode\":\"lines\",\"opacity\":0.05041782729805014,\"type\":\"scattergeo\"},{\"lat\":[44.0,35.916667],\"line\":{\"color\":\"hotpink\",\"width\":2},\"lon\":[21.0,14.433333],\"mode\":\"lines\",\"opacity\":0.00041782729805013927,\"type\":\"scattergeo\"},{\"lat\":[44.0,52.5],\"line\":{\"color\":\"hotpink\",\"width\":2},\"lon\":[21.0,5.75],\"mode\":\"lines\",\"opacity\":0.05501392757660167,\"type\":\"scattergeo\"},{\"lat\":[44.0,-42.0],\"line\":{\"color\":\"hotpink\",\"width\":2},\"lon\":[21.0,174.0],\"mode\":\"lines\",\"opacity\":0.0001392757660167131,\"type\":\"scattergeo\"},{\"lat\":[44.0,62.0],\"line\":{\"color\":\"hotpink\",\"width\":2},\"lon\":[21.0,10.0],\"mode\":\"lines\",\"opacity\":0.11963788300835655,\"type\":\"scattergeo\"},{\"lat\":[44.0,52.0],\"line\":{\"color\":\"hotpink\",\"width\":2},\"lon\":[21.0,20.0],\"mode\":\"lines\",\"opacity\":0.0001392757660167131,\"type\":\"scattergeo\"},{\"lat\":[44.0,46.0],\"line\":{\"color\":\"hotpink\",\"width\":2},\"lon\":[21.0,25.0],\"mode\":\"lines\",\"opacity\":0.0009749303621169916,\"type\":\"scattergeo\"},{\"lat\":[44.0,48.666667],\"line\":{\"color\":\"hotpink\",\"width\":2},\"lon\":[21.0,19.5],\"mode\":\"lines\",\"opacity\":0.00766016713091922,\"type\":\"scattergeo\"},{\"lat\":[44.0,46.25],\"line\":{\"color\":\"hotpink\",\"width\":2},\"lon\":[21.0,15.166667],\"mode\":\"lines\",\"opacity\":0.052785515320334264,\"type\":\"scattergeo\"},{\"lat\":[44.0,40.0],\"line\":{\"color\":\"hotpink\",\"width\":2},\"lon\":[21.0,-4.0],\"mode\":\"lines\",\"opacity\":0.002924791086350975,\"type\":\"scattergeo\"},{\"lat\":[44.0,62.0],\"line\":{\"color\":\"hotpink\",\"width\":2},\"lon\":[21.0,15.0],\"mode\":\"lines\",\"opacity\":0.5601671309192201,\"type\":\"scattergeo\"},{\"lat\":[44.0,47.0],\"line\":{\"color\":\"hotpink\",\"width\":2},\"lon\":[21.0,8.0],\"mode\":\"lines\",\"opacity\":0.20334261838440112,\"type\":\"scattergeo\"},{\"lat\":[44.0,54.0],\"line\":{\"color\":\"hotpink\",\"width\":2},\"lon\":[21.0,-4.0],\"mode\":\"lines\",\"opacity\":0.056406685236768804,\"type\":\"scattergeo\"},{\"lat\":[44.0,39.828175],\"line\":{\"color\":\"hotpink\",\"width\":2},\"lon\":[21.0,-98.5795],\"mode\":\"lines\",\"opacity\":0.04289693593314763,\"type\":\"scattergeo\"},{\"hoverinfo\":\"text\",\"lat\":[33.0,41.0,28.0,-14.3333333,42.5,-12.5,18.216667,17.05,-34.0,40.0,12.5,-15.95,-12.416667,-25.0,47.333333,40.5,24.0,26.0,24.0,13.166667,-21.416667,53.0,50.833333,17.25,9.5,32.333333,27.5,-17.0,12.2,44.25,-22.0,-54.433333,-10.0,-6.0,18.5,4.5,43.0,13.0,22.0,-3.5,13.0,6.0,60.0,16.0,19.5,7.0,15.0,-30.0,35.0,-10.5,10.283333,-12.0,4.0,-12.166667,-16.083333,-17.5,10.0,8.0,45.166667,22.0,12.166667,35.0,49.75,0.0,56.0,11.5,15.5,19.0,-2.0,27.0,13.833333,2.0,15.0,59.0,8.0,-22.333333,-51.75,62.0,5.0,-18.0,64.0,46.0,4.0,-15.0,-43.0,-1.0,13.5,31.425074,41.999981,51.5,8.0,36.133333,-11.5,39.0,72.0,12.116667,16.25,13.4444444,15.5,49.583333,11.0,12.0,5.0,19.0,-53.0,15.0,22.25,47.0,65.0,20.0,-5.0,32.0,33.0,53.0,54.25,31.5,42.833333,18.25,36.0,49.216667,31.0,-17.05833,48.0,1.0,-5.0,42.583333,29.5,41.0,18.0,57.0,33.833333,-29.5,6.5,25.0,47.166667,56.0,49.75,22.157778,41.833333,-20.0,-13.5,2.5,3.2,17.0,35.916667,10.0,14.666667,20.0,-20.3,-12.833333,23.0,47.0,43.733333,46.0,42.5,16.75,32.0,-18.25,-22.0,-0.533333,28.0,52.5,-21.5,-42.0,13.0,16.0,10.0,-19.033333,-29.033333,40.0,16.0,62.0,21.0,30.0,6.0,9.0,-6.0,-22.993333,-10.0,13.0,-25.066667,52.0,39.5,18.2482882,25.5,-1.0,-21.1,46.0,60.0,-2.0,17.9,17.333333,13.883333,18.075,46.833333,13.083333,-13.803096,43.933333,1.0,25.0,14.0,44.0,-4.583333,8.5,1.366667,18.04167,48.666667,46.25,-8.0,6.0,-30.0,-56.0,37.0,8.0,40.0,7.0,16.0,4.0,78.0,-26.5,62.0,47.0,35.0,24.0,39.0,-6.0,15.0,-8.833333,8.0,-9.0,-20.0,11.0,-15.866667,34.0,39.059012,40.0,21.733333,-8.0,2.0,49.0,24.0,54.0,39.828175,-33.0,5.8811111,18.3482891,41.707542,-16.0,41.9,8.0,16.166667,-13.3,31.666667,25.0,15.5,-15.0,-19.0],\"locationmode\":\"country names\",\"lon\":[66.0,20.0,3.0,-170.0,1.5,18.5,-63.05,-61.8,-64.0,45.0,-69.966667,-5.7,123.333333,135.0,13.333333,47.5,-76.0,50.5,90.0,-59.533333,39.7,28.0,4.0,-88.75,2.25,-64.75,90.5,-65.0,-68.25,17.833333,24.0,3.4,-55.0,72.0,-64.5,114.666667,25.0,-2.0,98.0,30.0,105.0,12.0,-96.0,-24.0,-80.666667,21.0,19.0,-71.0,105.0,105.666667,-109.216667,96.833333,-72.0,44.25,-161.583333,151.0,-84.0,-5.0,15.5,-79.5,-69.0,33.0,15.0,25.0,10.0,42.5,-61.333333,-70.666667,-77.5,30.0,-88.916667,10.0,39.0,26.0,38.0,40.366667,-59.166667,-7.0,152.0,178.0,26.0,2.0,-53.0,-140.0,67.0,11.75,-15.5,34.373398,43.499905,10.5,-2.0,-5.35,47.333333,22.0,-40.0,-61.666667,-61.583333,144.7366667,-90.25,-2.333333,-10.0,-15.0,-59.0,-72.416667,73.0,-86.5,114.166667,20.0,-18.0,77.0,120.0,53.0,44.0,-8.0,-4.5,34.75,12.833333,-77.5,138.0,-2.116667,36.0,42.71667,68.0,38.0,-170.0,21.0,47.75,75.0,105.0,25.0,35.833333,28.25,-9.5,17.0,9.533333,24.0,6.166667,113.559722,22.0,47.0,34.0,112.5,73.0,-4.0,14.433333,167.0,-61.0,-12.0,57.583333,45.166667,-102.0,29.0,7.4,105.0,19.3,-62.2,-5.0,35.0,17.0,166.916667,84.0,5.75,165.5,174.0,-85.0,8.0,8.0,-169.866667,167.95,127.0,146.0,10.0,57.0,70.0,134.0,-80.0,147.0,-57.996389,-76.0,122.0,-130.1,20.0,-8.0,-66.4998941,51.25,15.0,55.6,25.0,100.0,30.0,-62.833333,-62.75,-60.966667,-63.05833,-56.333333,-61.2,-172.178309,12.416667,7.0,45.0,-14.0,21.0,55.666667,-11.5,103.8,-63.06667,19.5,15.166667,159.0,48.0,26.0,-33.0,127.5,30.0,-4.0,81.0,30.0,-56.0,20.0,31.5,15.0,8.0,38.0,121.0,71.0,35.0,100.0,125.75,1.166667,-171.75,-175.0,-61.0,54.416667,9.0,34.911546,60.0,-71.583333,178.0,33.0,32.0,54.0,-4.0,-98.5795,-56.0,-162.0725,-64.9834807,63.84911,167.0,12.45,-66.0,107.833333,-176.2,35.25,-13.5,47.5,30.0,29.0],\"marker\":{\"color\":\"rgb(156, 81, 182)\",\"line\":{\"color\":\"rgba(68, 68, 68, 0)\",\"width\":3},\"size\":2},\"mode\":\"markers\",\"text\":[\"Afghanistan\",\"Albania\",\"Algeria\",\"American Samoa\",\"Andorra\",\"Angola\",\"Anguilla\",\"Antigua and Barbuda\",\"Argentina\",\"Armenia\",\"Aruba\",\"Ascension\",\"Ashmore and Cartier Islands\",\"Australia\",\"Austria\",\"Azerbaijan\",\"Bahamas\",\"Bahrain\",\"Bangladesh\",\"Barbados\",\"Bassas da India\",\"Belarus\",\"Belgium\",\"Belize\",\"Benin\",\"Bermuda\",\"Bhutan\",\"Bolivia\",\"Bonaire\",\"Bosnia and Herzegovina\",\"Botswana\",\"Bouvet Island\",\"Brazil\",\"British Indian Ocean Territory\",\"British Virgin Islands\",\"Brunei\",\"Bulgaria\",\"Burkina Faso\",\"Burma\",\"Burundi\",\"Cambodia\",\"Cameroon\",\"Canada\",\"Cape Verde\",\"Cayman Islands\",\"Central African Republic\",\"Chad\",\"Chile\",\"China\",\"Christmas Island\",\"Clipperton Island\",\"Cocos (Keeling) Islands\",\"Colombia\",\"Comoros\",\"Cook Islands\",\"Coral Sea Islands\",\"Costa Rica\",\"Cote d'Ivoire\",\"Croatia\",\"Cuba\",\"Cura\\u00e7ao\",\"Cyprus\",\"Czech Republic\",\"Democratic Republic of the Congo\",\"Denmark\",\"Djibouti\",\"Dominica\",\"Dominican Republic\",\"Ecuador\",\"Egypt\",\"El Salvador\",\"Equatorial Guinea\",\"Eritrea\",\"Estonia\",\"Ethiopia\",\"Europa Island\",\"Falkland Islands\",\"Faroe Islands\",\"Federated States of Micronesia\",\"Fiji\",\"Finland\",\"France\",\"French Guiana\",\"French Polynesia\",\"French Southern and Antarctic Lands\",\"Gabon\",\"Gambia\",\"Gaza Strip\",\"Georgia\",\"Germany\",\"Ghana\",\"Gibraltar\",\"Glorioso Islands\",\"Greece\",\"Greenland\",\"Grenada\",\"Guadeloupe\",\"Guam\",\"Guatemala\",\"Guernsey\",\"Guinea\",\"Guinea-Bissau\",\"Guyana\",\"Haiti\",\"Heard Island and McDonald Islands\",\"Honduras\",\"Hong Kong\",\"Hungary\",\"Iceland\",\"India\",\"Indonesia\",\"Iran\",\"Iraq\",\"Ireland\",\"Isle of Man\",\"Israel\",\"Italy\",\"Jamaica\",\"Japan\",\"Jersey\",\"Jordan\",\"Juan de Nova Island\",\"Kazakhstan\",\"Kenya\",\"Kiribati\",\"Kosovo\",\"Kuwait\",\"Kyrgyzstan\",\"Laos\",\"Latvia\",\"Lebanon\",\"Lesotho\",\"Liberia\",\"Libya\",\"Liechtenstein\",\"Lithuania\",\"Luxembourg\",\"Macau\",\"Macedonia\",\"Madagascar\",\"Malawi\",\"Malaysia\",\"Maldives\",\"Mali\",\"Malta\",\"Marshall Islands\",\"Martinique\",\"Mauritania\",\"Mauritius\",\"Mayotte\",\"Mexico\",\"Moldova\",\"Monaco\",\"Mongolia\",\"Montenegro\",\"Montserrat\",\"Morocco\",\"Mozambique\",\"Namibia\",\"Nauru\",\"Nepal\",\"Netherlands\",\"New Caledonia\",\"New Zealand\",\"Nicaragua\",\"Niger\",\"Nigeria\",\"Niue\",\"Norfolk Island\",\"North Korea\",\"Northern Mariana Islands\",\"Norway\",\"Oman\",\"Pakistan\",\"Palau\",\"Panama\",\"Papua New Guinea\",\"Paraguay\",\"Peru\",\"Philippines\",\"Pitcairn Islands\",\"Poland\",\"Portugal\",\"Puerto Rico\",\"Qatar\",\"Republic of the Congo\",\"Reunion\",\"Romania\",\"Russia\",\"Rwanda\",\"Saint Barthelemy\",\"Saint Kitts and Nevis\",\"Saint Lucia\",\"Saint Martin\",\"Saint Pierre and Miquelon\",\"Saint Vincent and the Grenadines\",\"Samoa\",\"San Marino\",\"Sao Tome and Principe\",\"Saudi Arabia\",\"Senegal\",\"Serbia\",\"Seychelles\",\"Sierra Leone\",\"Singapore\",\"Sint Maarten\",\"Slovakia\",\"Slovenia\",\"Solomon Islands\",\"Somalia\",\"South Africa\",\"South Georgia and South Sandwich Islands\",\"South Korea\",\"South Sudan\",\"Spain\",\"Sri Lanka\",\"Sudan\",\"Suriname\",\"Svalbard\",\"Swaziland\",\"Sweden\",\"Switzerland\",\"Syria\",\"Taiwan\",\"Tajikistan\",\"Tanzania\",\"Thailand\",\"Timor-Leste\",\"Togo\",\"Tokelau\",\"Tonga\",\"Trinidad and Tobago\",\"Tromelin Island\",\"Tunisia\",\"Turkey\",\"Turkmenistan\",\"Turks and Caicos Islands\",\"Tuvalu\",\"Uganda\",\"Ukraine\",\"United Arab Emirates\",\"United Kingdom\",\"United States\",\"Uruguay\",\"US Minor Outlying Islands\",\"US Virgin Islands\",\"Uzbekistan\",\"Vanuatu\",\"Vatican City\",\"Venezuela\",\"Vietnam\",\"Wallis and Futuna\",\"West Bank\",\"Western Sahara\",\"Yemen\",\"Zambia\",\"Zimbabwe\"],\"type\":\"scattergeo\"}],                        {\"geo\":{\"countrycolor\":\"rgb(204, 204, 204)\",\"landcolor\":\"rgb(243, 243, 243)\",\"projection\":{\"type\":\"equirectangular\"},\"showcoastlines\":true,\"showframe\":false,\"showland\":true},\"showlegend\":false,\"template\":{\"data\":{\"barpolar\":[{\"marker\":{\"line\":{\"color\":\"#E5ECF6\",\"width\":0.5},\"pattern\":{\"fillmode\":\"overlay\",\"size\":10,\"solidity\":0.2}},\"type\":\"barpolar\"}],\"bar\":[{\"error_x\":{\"color\":\"#2a3f5f\"},\"error_y\":{\"color\":\"#2a3f5f\"},\"marker\":{\"line\":{\"color\":\"#E5ECF6\",\"width\":0.5},\"pattern\":{\"fillmode\":\"overlay\",\"size\":10,\"solidity\":0.2}},\"type\":\"bar\"}],\"carpet\":[{\"aaxis\":{\"endlinecolor\":\"#2a3f5f\",\"gridcolor\":\"white\",\"linecolor\":\"white\",\"minorgridcolor\":\"white\",\"startlinecolor\":\"#2a3f5f\"},\"baxis\":{\"endlinecolor\":\"#2a3f5f\",\"gridcolor\":\"white\",\"linecolor\":\"white\",\"minorgridcolor\":\"white\",\"startlinecolor\":\"#2a3f5f\"},\"type\":\"carpet\"}],\"choropleth\":[{\"colorbar\":{\"outlinewidth\":0,\"ticks\":\"\"},\"type\":\"choropleth\"}],\"contourcarpet\":[{\"colorbar\":{\"outlinewidth\":0,\"ticks\":\"\"},\"type\":\"contourcarpet\"}],\"contour\":[{\"colorbar\":{\"outlinewidth\":0,\"ticks\":\"\"},\"colorscale\":[[0.0,\"#0d0887\"],[0.1111111111111111,\"#46039f\"],[0.2222222222222222,\"#7201a8\"],[0.3333333333333333,\"#9c179e\"],[0.4444444444444444,\"#bd3786\"],[0.5555555555555556,\"#d8576b\"],[0.6666666666666666,\"#ed7953\"],[0.7777777777777778,\"#fb9f3a\"],[0.8888888888888888,\"#fdca26\"],[1.0,\"#f0f921\"]],\"type\":\"contour\"}],\"heatmapgl\":[{\"colorbar\":{\"outlinewidth\":0,\"ticks\":\"\"},\"colorscale\":[[0.0,\"#0d0887\"],[0.1111111111111111,\"#46039f\"],[0.2222222222222222,\"#7201a8\"],[0.3333333333333333,\"#9c179e\"],[0.4444444444444444,\"#bd3786\"],[0.5555555555555556,\"#d8576b\"],[0.6666666666666666,\"#ed7953\"],[0.7777777777777778,\"#fb9f3a\"],[0.8888888888888888,\"#fdca26\"],[1.0,\"#f0f921\"]],\"type\":\"heatmapgl\"}],\"heatmap\":[{\"colorbar\":{\"outlinewidth\":0,\"ticks\":\"\"},\"colorscale\":[[0.0,\"#0d0887\"],[0.1111111111111111,\"#46039f\"],[0.2222222222222222,\"#7201a8\"],[0.3333333333333333,\"#9c179e\"],[0.4444444444444444,\"#bd3786\"],[0.5555555555555556,\"#d8576b\"],[0.6666666666666666,\"#ed7953\"],[0.7777777777777778,\"#fb9f3a\"],[0.8888888888888888,\"#fdca26\"],[1.0,\"#f0f921\"]],\"type\":\"heatmap\"}],\"histogram2dcontour\":[{\"colorbar\":{\"outlinewidth\":0,\"ticks\":\"\"},\"colorscale\":[[0.0,\"#0d0887\"],[0.1111111111111111,\"#46039f\"],[0.2222222222222222,\"#7201a8\"],[0.3333333333333333,\"#9c179e\"],[0.4444444444444444,\"#bd3786\"],[0.5555555555555556,\"#d8576b\"],[0.6666666666666666,\"#ed7953\"],[0.7777777777777778,\"#fb9f3a\"],[0.8888888888888888,\"#fdca26\"],[1.0,\"#f0f921\"]],\"type\":\"histogram2dcontour\"}],\"histogram2d\":[{\"colorbar\":{\"outlinewidth\":0,\"ticks\":\"\"},\"colorscale\":[[0.0,\"#0d0887\"],[0.1111111111111111,\"#46039f\"],[0.2222222222222222,\"#7201a8\"],[0.3333333333333333,\"#9c179e\"],[0.4444444444444444,\"#bd3786\"],[0.5555555555555556,\"#d8576b\"],[0.6666666666666666,\"#ed7953\"],[0.7777777777777778,\"#fb9f3a\"],[0.8888888888888888,\"#fdca26\"],[1.0,\"#f0f921\"]],\"type\":\"histogram2d\"}],\"histogram\":[{\"marker\":{\"pattern\":{\"fillmode\":\"overlay\",\"size\":10,\"solidity\":0.2}},\"type\":\"histogram\"}],\"mesh3d\":[{\"colorbar\":{\"outlinewidth\":0,\"ticks\":\"\"},\"type\":\"mesh3d\"}],\"parcoords\":[{\"line\":{\"colorbar\":{\"outlinewidth\":0,\"ticks\":\"\"}},\"type\":\"parcoords\"}],\"pie\":[{\"automargin\":true,\"type\":\"pie\"}],\"scatter3d\":[{\"line\":{\"colorbar\":{\"outlinewidth\":0,\"ticks\":\"\"}},\"marker\":{\"colorbar\":{\"outlinewidth\":0,\"ticks\":\"\"}},\"type\":\"scatter3d\"}],\"scattercarpet\":[{\"marker\":{\"colorbar\":{\"outlinewidth\":0,\"ticks\":\"\"}},\"type\":\"scattercarpet\"}],\"scattergeo\":[{\"marker\":{\"colorbar\":{\"outlinewidth\":0,\"ticks\":\"\"}},\"type\":\"scattergeo\"}],\"scattergl\":[{\"marker\":{\"colorbar\":{\"outlinewidth\":0,\"ticks\":\"\"}},\"type\":\"scattergl\"}],\"scattermapbox\":[{\"marker\":{\"colorbar\":{\"outlinewidth\":0,\"ticks\":\"\"}},\"type\":\"scattermapbox\"}],\"scatterpolargl\":[{\"marker\":{\"colorbar\":{\"outlinewidth\":0,\"ticks\":\"\"}},\"type\":\"scatterpolargl\"}],\"scatterpolar\":[{\"marker\":{\"colorbar\":{\"outlinewidth\":0,\"ticks\":\"\"}},\"type\":\"scatterpolar\"}],\"scatter\":[{\"marker\":{\"colorbar\":{\"outlinewidth\":0,\"ticks\":\"\"}},\"type\":\"scatter\"}],\"scatterternary\":[{\"marker\":{\"colorbar\":{\"outlinewidth\":0,\"ticks\":\"\"}},\"type\":\"scatterternary\"}],\"surface\":[{\"colorbar\":{\"outlinewidth\":0,\"ticks\":\"\"},\"colorscale\":[[0.0,\"#0d0887\"],[0.1111111111111111,\"#46039f\"],[0.2222222222222222,\"#7201a8\"],[0.3333333333333333,\"#9c179e\"],[0.4444444444444444,\"#bd3786\"],[0.5555555555555556,\"#d8576b\"],[0.6666666666666666,\"#ed7953\"],[0.7777777777777778,\"#fb9f3a\"],[0.8888888888888888,\"#fdca26\"],[1.0,\"#f0f921\"]],\"type\":\"surface\"}],\"table\":[{\"cells\":{\"fill\":{\"color\":\"#EBF0F8\"},\"line\":{\"color\":\"white\"}},\"header\":{\"fill\":{\"color\":\"#C8D4E3\"},\"line\":{\"color\":\"white\"}},\"type\":\"table\"}]},\"layout\":{\"annotationdefaults\":{\"arrowcolor\":\"#2a3f5f\",\"arrowhead\":0,\"arrowwidth\":1},\"autotypenumbers\":\"strict\",\"coloraxis\":{\"colorbar\":{\"outlinewidth\":0,\"ticks\":\"\"}},\"colorscale\":{\"diverging\":[[0,\"#8e0152\"],[0.1,\"#c51b7d\"],[0.2,\"#de77ae\"],[0.3,\"#f1b6da\"],[0.4,\"#fde0ef\"],[0.5,\"#f7f7f7\"],[0.6,\"#e6f5d0\"],[0.7,\"#b8e186\"],[0.8,\"#7fbc41\"],[0.9,\"#4d9221\"],[1,\"#276419\"]],\"sequential\":[[0.0,\"#0d0887\"],[0.1111111111111111,\"#46039f\"],[0.2222222222222222,\"#7201a8\"],[0.3333333333333333,\"#9c179e\"],[0.4444444444444444,\"#bd3786\"],[0.5555555555555556,\"#d8576b\"],[0.6666666666666666,\"#ed7953\"],[0.7777777777777778,\"#fb9f3a\"],[0.8888888888888888,\"#fdca26\"],[1.0,\"#f0f921\"]],\"sequentialminus\":[[0.0,\"#0d0887\"],[0.1111111111111111,\"#46039f\"],[0.2222222222222222,\"#7201a8\"],[0.3333333333333333,\"#9c179e\"],[0.4444444444444444,\"#bd3786\"],[0.5555555555555556,\"#d8576b\"],[0.6666666666666666,\"#ed7953\"],[0.7777777777777778,\"#fb9f3a\"],[0.8888888888888888,\"#fdca26\"],[1.0,\"#f0f921\"]]},\"colorway\":[\"#636efa\",\"#EF553B\",\"#00cc96\",\"#ab63fa\",\"#FFA15A\",\"#19d3f3\",\"#FF6692\",\"#B6E880\",\"#FF97FF\",\"#FECB52\"],\"font\":{\"color\":\"#2a3f5f\"},\"geo\":{\"bgcolor\":\"white\",\"lakecolor\":\"white\",\"landcolor\":\"#E5ECF6\",\"showlakes\":true,\"showland\":true,\"subunitcolor\":\"white\"},\"hoverlabel\":{\"align\":\"left\"},\"hovermode\":\"closest\",\"mapbox\":{\"style\":\"light\"},\"paper_bgcolor\":\"white\",\"plot_bgcolor\":\"#E5ECF6\",\"polar\":{\"angularaxis\":{\"gridcolor\":\"white\",\"linecolor\":\"white\",\"ticks\":\"\"},\"bgcolor\":\"#E5ECF6\",\"radialaxis\":{\"gridcolor\":\"white\",\"linecolor\":\"white\",\"ticks\":\"\"}},\"scene\":{\"xaxis\":{\"backgroundcolor\":\"#E5ECF6\",\"gridcolor\":\"white\",\"gridwidth\":2,\"linecolor\":\"white\",\"showbackground\":true,\"ticks\":\"\",\"zerolinecolor\":\"white\"},\"yaxis\":{\"backgroundcolor\":\"#E5ECF6\",\"gridcolor\":\"white\",\"gridwidth\":2,\"linecolor\":\"white\",\"showbackground\":true,\"ticks\":\"\",\"zerolinecolor\":\"white\"},\"zaxis\":{\"backgroundcolor\":\"#E5ECF6\",\"gridcolor\":\"white\",\"gridwidth\":2,\"linecolor\":\"white\",\"showbackground\":true,\"ticks\":\"\",\"zerolinecolor\":\"white\"}},\"shapedefaults\":{\"line\":{\"color\":\"#2a3f5f\"}},\"ternary\":{\"aaxis\":{\"gridcolor\":\"white\",\"linecolor\":\"white\",\"ticks\":\"\"},\"baxis\":{\"gridcolor\":\"white\",\"linecolor\":\"white\",\"ticks\":\"\"},\"bgcolor\":\"#E5ECF6\",\"caxis\":{\"gridcolor\":\"white\",\"linecolor\":\"white\",\"ticks\":\"\"}},\"title\":{\"x\":0.05},\"xaxis\":{\"automargin\":true,\"gridcolor\":\"white\",\"linecolor\":\"white\",\"ticks\":\"\",\"title\":{\"standoff\":15},\"zerolinecolor\":\"white\",\"zerolinewidth\":2},\"yaxis\":{\"automargin\":true,\"gridcolor\":\"white\",\"linecolor\":\"white\",\"ticks\":\"\",\"title\":{\"standoff\":15},\"zerolinecolor\":\"white\",\"zerolinewidth\":2}}},\"title\":{\"text\":\"2004 Migration Journeys (by Origin)\"}},                        {\"responsive\": true}                    ).then(function(){\n",
       "                            \n",
       "var gd = document.getElementById('4a966946-e542-4667-acb2-06de8fdeba3a');\n",
       "var x = new MutationObserver(function (mutations, observer) {{\n",
       "        var display = window.getComputedStyle(gd).display;\n",
       "        if (!display || display === 'none') {{\n",
       "            console.log([gd, 'removed!']);\n",
       "            Plotly.purge(gd);\n",
       "            observer.disconnect();\n",
       "        }}\n",
       "}});\n",
       "\n",
       "// Listen for the removal of the full notebook cells\n",
       "var notebookContainer = gd.closest('#notebook-container');\n",
       "if (notebookContainer) {{\n",
       "    x.observe(notebookContainer, {childList: true});\n",
       "}}\n",
       "\n",
       "// Listen for the clearing of the current output cell\n",
       "var outputEl = gd.closest('.output');\n",
       "if (outputEl) {{\n",
       "    x.observe(outputEl, {childList: true});\n",
       "}}\n",
       "\n",
       "                        })                };                });            </script>        </div>"
      ]
     },
     "metadata": {},
     "output_type": "display_data"
    }
   ],
   "source": [
    "# Take user input\n",
    "num_countries_origin = int(input('Please enter the number of countries you want to analyse.\\nIt must fall between 1-257.\\n \\n '))\n",
    "year_origin = int(input('Please enter the year you want to analyse.\\nIt must fall between 1999-2017.\\n \\n '))\n",
    "\n",
    "# Find the defined number of most common origins in the defined year\n",
    "df_origin = migratory_patterns_compiled[migratory_patterns_compiled['Year'] == year_origin]\n",
    "df_new = df_origin[['Year', 'Origin', 'Value']]\n",
    "df_new = df_new.groupby(['Origin', 'Year'], axis = 0, as_index=False).sum()\n",
    "df_new = df_new.sort_values(by=['Value'], ascending = False)\n",
    "df_new = df_new.head(num_countries_origin)\n",
    "df_origin_list = df_new['Origin'].tolist()\n",
    "\n",
    "# Filter to only include the defined number\n",
    "df_origin = df_origin[df_origin['Origin'].isin(df_origin_list)]\n",
    "df_origin = df_origin.reset_index(drop = True)\n",
    "\n",
    "# Print statement\n",
    "print('\\n \\nThe ' + str(num_countries_origin) + ' most common origins in ' + str(year_origin) + ' were:', df_origin['Origin'].unique())\n",
    "\n",
    "paths_origin = [] # Empty array for migration paths\n",
    "\n",
    "# Iterate through the filtered dataset\n",
    "for i in range(len(df_origin)):\n",
    "    \n",
    "    paths_origin.append(dict(type = 'scattergeo',\n",
    "                             lon = [df_origin['origin_lon'][i], df_origin['dest_lon'][i]], # Add longitude\n",
    "                             lat = [df_origin['origin_lat'][i], df_origin['dest_lat'][i]], # Add latitude\n",
    "                             mode = 'lines', line = dict(width = 2, color = 'hotpink'), # Add colour and width information\n",
    "                             opacity = float(df_origin['Value'][i])/float(df_origin['Value'].max()))) # Normalise opacity\n",
    "    \n",
    "layout = dict(title = str(str(year_origin) + ' Migration Journeys (by Origin)'), showlegend = False, \n",
    "                geo = dict(showframe = False, showcoastlines = True,\n",
    "                projection = dict(type = 'equirectangular'), showland = True,\n",
    "                landcolor = 'rgb(243, 243, 243)', countrycolor = 'rgb(204, 204, 204)'))\n",
    "\n",
    "# Plot migration patterns \n",
    "fig = dict(data = paths_origin + countries, layout = layout ) \n",
    "py.iplot(fig)"
   ]
  },
  {
   "cell_type": "code",
   "execution_count": null,
   "id": "76a4ad2a",
   "metadata": {},
   "outputs": [],
   "source": []
  }
 ],
 "metadata": {
  "kernelspec": {
   "display_name": "Python 3 (ipykernel)",
   "language": "python",
   "name": "python3"
  },
  "language_info": {
   "codemirror_mode": {
    "name": "ipython",
    "version": 3
   },
   "file_extension": ".py",
   "mimetype": "text/x-python",
   "name": "python",
   "nbconvert_exporter": "python",
   "pygments_lexer": "ipython3",
   "version": "3.9.12"
  }
 },
 "nbformat": 4,
 "nbformat_minor": 5
}
